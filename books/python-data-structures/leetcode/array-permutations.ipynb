{
 "cells": [
  {
   "cell_type": "code",
   "execution_count": 16,
   "source": [
    "'''\n",
    "Problem: write a program to print all permutations of a given string\n",
    "\n",
    "Example 1:\n",
    "    - Input: ABC\n",
    "    - Output: ABC ACB BAC BCA CBA CAB\n",
    "\n",
    "Example 2:\n",
    "    - Input: AB\n",
    "    - Output: AB BA\n",
    "\n",
    "Intuition:\n",
    "    Get all possible characters. Pick any of n characters and put it to the first place. Pick any of \n",
    "    n-1 and put it to the second place and so on. Repeat it for all n\n",
    "'''\n",
    "from itertools import permutations\n",
    "\n",
    "def permute(s: list) -> list:\n",
    "    res = []\n",
    "    for i in range(len(s)):\n",
    "        for j in range(i, len(s)):\n",
    "            tmp = [x for x in s]\n",
    "            tmp[i], tmp[j] = tmp[j], tmp[i]\n",
    "            res.append(tuple(tmp))\n",
    "    return res\n",
    "\n",
    "print(permute([1, 2, 3]))\n",
    "print(permute(['A', 'B', 'C']))\n",
    "print(set(permutations([1, 2, 3])))\n",
    "\n"
   ],
   "outputs": [
    {
     "output_type": "stream",
     "name": "stdout",
     "text": [
      "[(1, 2, 3), (2, 1, 3), (3, 2, 1), (1, 2, 3), (1, 3, 2), (1, 2, 3)]\n",
      "[('A', 'B', 'C'), ('B', 'A', 'C'), ('C', 'B', 'A'), ('A', 'B', 'C'), ('A', 'C', 'B'), ('A', 'B', 'C')]\n",
      "[(1, 2, 3), (1, 3, 2), (2, 1, 3), (2, 3, 1), (3, 1, 2), (3, 2, 1)]\n"
     ]
    }
   ],
   "metadata": {}
  }
 ],
 "metadata": {
  "orig_nbformat": 4,
  "language_info": {
   "name": "python",
   "version": "3.10.0",
   "mimetype": "text/x-python",
   "codemirror_mode": {
    "name": "ipython",
    "version": 3
   },
   "pygments_lexer": "ipython3",
   "nbconvert_exporter": "python",
   "file_extension": ".py"
  },
  "kernelspec": {
   "name": "python3",
   "display_name": "Python 3.10.0 64-bit"
  },
  "interpreter": {
   "hash": "aee8b7b246df8f9039afb4144a1f6fd8d2ca17a180786b69acc140d282b71a49"
  }
 },
 "nbformat": 4,
 "nbformat_minor": 2
}