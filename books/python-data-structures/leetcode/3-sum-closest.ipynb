{
 "cells": [
  {
   "cell_type": "markdown",
   "source": [
    "# 3Sum Closest\n",
    "\n",
    "Given an integer array nums of length n and an integer target, find three integers in nums such that the sum is closest to target.\n",
    "Return the sum of the three integers.You may assume that each input would have exactly one solution.\n",
    "\n",
    "\n",
    "### Example 1:\n",
    "- Input: nums = [-1,2,1,-4], target = 1\n",
    "- Output: 2\n",
    "- Explanation: The sum that is closest to the target is 2. (-1 + 2 + 1 = 2).\n",
    "\n",
    "### Example 2:\n",
    "- Input: nums = [0,0,0], target = 1\n",
    "- Output: 0\n",
    " \n",
    "\n",
    "### Constraints:\n",
    "3 <= nums.length <= 1000\n",
    "-1000 <= nums[i] <= 1000\n",
    "-104 <= target <= 104\n",
    "\n",
    "## Solution\n",
    "\n",
    "### Intuition\n",
    "Sort the array. Loop through all elements and during each iteration loop the sub-array that is after the current element of the main loop. \n",
    "\n",
    "### Solution"
   ],
   "metadata": {}
  },
  {
   "cell_type": "code",
   "execution_count": null,
   "source": [
    "def three_sum_closest(nums: list, target: int) -> int:\n",
    "    nums.sort()\n",
    "    distance = None\n",
    "        \n",
    "    for i in range(len(nums)):\n",
    "        j, k = i + 1, len(nums) - 1\n",
    "        \n",
    "        while j < k:\n",
    "            tmp = nums[i] + nums[j] + nums[k]\n",
    "            tmp_dist = abs(tmp - target)\n",
    "            if distance is None or distance[0] > tmp_dist:\n",
    "                distance = (tmp_dist, tmp) \n",
    "                  \n",
    "            if tmp > target:\n",
    "                k -= 1\n",
    "            elif tmp < target:\n",
    "                j += 1\n",
    "            else:\n",
    "                k, j = k - 1, j + 1\n",
    "        \n",
    "    return distance[1]"
   ],
   "outputs": [],
   "metadata": {}
  },
  {
   "cell_type": "markdown",
   "source": [
    "Analysis:\n",
    "- Time Complexity: O(n^2)\n",
    "- Space Complexity: O(n)"
   ],
   "metadata": {}
  }
 ],
 "metadata": {
  "orig_nbformat": 4,
  "language_info": {
   "name": "python",
   "version": "3.10.0"
  },
  "kernelspec": {
   "name": "python3",
   "display_name": "Python 3.10.0 64-bit"
  },
  "interpreter": {
   "hash": "aee8b7b246df8f9039afb4144a1f6fd8d2ca17a180786b69acc140d282b71a49"
  }
 },
 "nbformat": 4,
 "nbformat_minor": 2
}