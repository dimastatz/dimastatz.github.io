{
 "cells": [
  {
   "cell_type": "markdown",
   "source": [
    "# Integer to Roman\n",
    "Roman numerals are represented by seven different symbols: I, V, X, L, C, D and M.\n",
    "For example you can see the following pairs \n",
    "- I -> 1\n",
    "- V -> 5\n",
    "- X -> 10\n",
    "- L -> 50\n",
    "- C -> 100\n",
    "- D -> 500\n",
    "- M -> 1000\n",
    "\n",
    "For example, 2 is written as II in Roman numeral, just two one's added together. 12 is written as XII, which is simply X + II. The number 27 is written as XXVII, which is XX + V + II.\n",
    "Roman numerals are usually written largest to smallest from left to right. However, the numeral for four is not IIII. Instead, the number four is written as IV. Because the one is before the five we subtract it making four. The same principle applies to the number nine, which is written as IX. There are six instances where subtraction is used:\n",
    "- I can be placed before V (5) and X (10) to make 4 and 9. \n",
    "- X can be placed before L (50) and C (100) to make 40 and 90. \n",
    "- C can be placed before D (500) and M (1000) to make 400 and 900.\n",
    "- Given an integer, convert it to a roman numeral.\n",
    "\n",
    "### Example 1:\n",
    "Input: num = 3  \n",
    "Output: \"III\"  \n",
    "\n",
    "### Example 2:\n",
    "Input: num = 4  \n",
    "Output: \"IV\"  \n",
    "\n",
    "### Example 3:\n",
    "Input: num = 9  \n",
    "Output: \"IX\"  \n",
    "\n",
    "### Example 4:\n",
    "Input: num = 58  \n",
    "Output: \"LVIII\"  \n",
    "Explanation: L = 50, V = 5, III = 3.  \n",
    "\n",
    "### Example 5:\n",
    "Input: num = 1994  \n",
    "Output: \"MCMXCIV\"  \n",
    "Explanation: M = 1000, CM = 900, XC = 90 and IV = 4  \n",
    "\n",
    "### Constraints:\n",
    "1 <= num <= 3999  \n",
    "\n",
    "## Solution\n",
    "\n",
    "### Intuition\n",
    "Create a hash map of values -> symbol. Then decompose the input into the 'Roman' integers. For example 22 = 10 + 10 + 2, another example 34 = 10 + 10 + 10 + 1 + 1 + 1 + 1. Apply 4 and 9 rules. For example replace the IIII by IV.\n",
    "\n",
    "### Implementation"
   ],
   "metadata": {}
  },
  {
   "cell_type": "code",
   "execution_count": 14,
   "source": [
    "def decompose_number(x: int) -> list:\n",
    "    lst = []\n",
    "    for n in [1000, 900, 500, 400, 100, 90, 50, 40, 10, 9, 5, 4, 1]:\n",
    "        res, x = divmod(x, n)\n",
    "        for _ in range(res):\n",
    "            lst.append(n)\n",
    "    return lst\n",
    "\n",
    "\n",
    "def int_int_roman(num: int) -> str:\n",
    "    symbols = {\n",
    "        1: 'I', 4: 'IV', 5: 'V', 9: 'IX', 10: 'X', 40: 'XL', 50: 'L', \n",
    "        90: 'XC', 100: 'C', 400: 'CD', 500: 'D', 900: 'CM', 1000: 'M'\n",
    "    }\n",
    "    return ''.join([symbols[x] for x in decompose_number(num)])\n",
    "    \n",
    "\n",
    "assert int_int_roman(3) == 'III'\n",
    "assert int_int_roman(4) == 'IV'\n",
    "assert int_int_roman(9) == 'IX'\n",
    "assert int_int_roman(58) == 'LVIII'\n",
    "assert int_int_roman(1994) == 'MCMXCIV'"
   ],
   "outputs": [],
   "metadata": {}
  },
  {
   "cell_type": "markdown",
   "source": [
    "### Code Analysis\n",
    "- Time Complexity: there are roughly log<sub>10</sub>n digits in integer n\n",
    "- Space complexity\n",
    "\n",
    "### LeetCode Output\n",
    "- Success \n",
    "- Runtime: 36 ms, faster than 98.60% of Python3 online submissions for Integer to Roman.\n",
    "- Memory Usage: 14.3 MB, less than 60.26% of Python3 online submissions for Integer to Roman."
   ],
   "metadata": {}
  }
 ],
 "metadata": {
  "orig_nbformat": 4,
  "language_info": {
   "name": "python",
   "version": "3.10.0",
   "mimetype": "text/x-python",
   "codemirror_mode": {
    "name": "ipython",
    "version": 3
   },
   "pygments_lexer": "ipython3",
   "nbconvert_exporter": "python",
   "file_extension": ".py"
  },
  "kernelspec": {
   "name": "python3",
   "display_name": "Python 3.10.0 64-bit"
  },
  "interpreter": {
   "hash": "aee8b7b246df8f9039afb4144a1f6fd8d2ca17a180786b69acc140d282b71a49"
  }
 },
 "nbformat": 4,
 "nbformat_minor": 2
}