{
 "cells": [
  {
   "cell_type": "markdown",
   "source": [
    "# Clone Graph\n",
    "Given a reference of a node in a connected undirected graph.\n",
    "Return a deep copy (clone) of the graph. Each node in the graph contains a value (int) and a list (List[Node]) of its neighbors.\n",
    "\n",
    "```Java\n",
    "class Node {\n",
    "    public int val;\n",
    "    public List<Node> neighbors;\n",
    "}\n",
    "```\n",
    "Test case format:\n",
    "For simplicity, each node's value is the same as the node's index (1-indexed). For example, the first node with val == 1, the second node with val == 2, and so on. The graph is represented in the test case using an adjacency list.\n",
    "An adjacency list is a collection of unordered lists used to represent a finite graph. Each list describes the set of neighbors of a node in the graph.\n",
    "The given node will always be the first node with val = 1. You must return the copy of the given node as a reference to the cloned graph."
   ],
   "metadata": {}
  },
  {
   "cell_type": "code",
   "execution_count": 2,
   "source": [
    "class Node:\n",
    "    def __init__(self, val = 0, neighbors = []):\n",
    "        self.val = val\n",
    "        self.neighbors = neighbors\n",
    "\n",
    "\n",
    "def clone(node, visited = {}):\n",
    "    if not node:\n",
    "        return None\n",
    "    elif node.val in visited:\n",
    "        return visited[node.val]\n",
    "    else:\n",
    "        cloned = Node(node.val, [])\n",
    "        visited[node.val] = cloned\n",
    "        \n",
    "        for n in node.neighbors:\n",
    "            c = clone(n, visited)\n",
    "            if c:\n",
    "                cloned.neighbors.append(c)\n",
    "        return cloned\n"
   ],
   "outputs": [],
   "metadata": {}
  }
 ],
 "metadata": {
  "orig_nbformat": 4,
  "language_info": {
   "name": "python",
   "version": "3.10.0",
   "mimetype": "text/x-python",
   "codemirror_mode": {
    "name": "ipython",
    "version": 3
   },
   "pygments_lexer": "ipython3",
   "nbconvert_exporter": "python",
   "file_extension": ".py"
  },
  "kernelspec": {
   "name": "python3",
   "display_name": "Python 3.10.0 64-bit"
  },
  "interpreter": {
   "hash": "aee8b7b246df8f9039afb4144a1f6fd8d2ca17a180786b69acc140d282b71a49"
  }
 },
 "nbformat": 4,
 "nbformat_minor": 2
}