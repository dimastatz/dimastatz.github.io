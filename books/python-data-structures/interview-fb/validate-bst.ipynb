{
 "cells": [
  {
   "cell_type": "markdown",
   "source": [
    "# Validate Binary Search Tree\n",
    "Given the root of a binary tree, determine if it is a valid binary search tree (BST).\n",
    "A valid BST is defined as follows:\n",
    "- The left subtree of a node contains only nodes with keys less than the node's key.\n",
    "- The right subtree of a node contains only nodes with keys greater than the node's key.\n",
    "- Both the left and right subtrees must also be binary search trees."
   ],
   "metadata": {}
  },
  {
   "cell_type": "code",
   "execution_count": 1,
   "source": [
    "'''\n",
    "Example 1:\n",
    "    [2,1,3] -> True\n",
    "    Explanation: 2 is the root, 1 is left child, 3 is the right child\n",
    "Example 2:\n",
    "    [5,1,4,None,None,3,6] -> False\n",
    "    Explanation: 5 is root, 1 is the left child and 4 is the right, which violates the rules\n",
    "Example 3:\n",
    "    [5,1,6,None,None,3,7] -> False\n",
    "    Explanation:\n",
    "        5 is root, 1 is the left child and 6 is the right which is OK, \n",
    "        The left child of 6 is 3 which violates the rule        \n",
    "IDEA 1:\n",
    "    Do in order scan to array and check if array is sorted\n",
    "    Time Complexity: O(n)\n",
    "    Space Complexity: O(n)\n",
    "'''\n",
    "def is_valid_bst(node):\n",
    "    def to_list(node):\n",
    "        if not node:\n",
    "            return []\n",
    "        else:\n",
    "            return to_list(node.left) + [node.val] + to_list(node.right)\n",
    "\n",
    "    nodes = to_list(node)\n",
    "    for i in range(len(nodes) - 1):\n",
    "        if nodes[i] > nodes[i+1]:\n",
    "            return False\n",
    "    return True\n",
    "        "
   ],
   "outputs": [],
   "metadata": {}
  },
  {
   "cell_type": "code",
   "execution_count": null,
   "source": [
    "'''\n",
    "IDEA 2: \n",
    "    Do preorder and pass range in recursion\n",
    "Time Complexity: O(n)\n",
    "Space Complexity: O(1)\n",
    "'''\n",
    "\n",
    "import math\n",
    "\n",
    "def is_valid_bst(node, min_val=-math.inf, max_val=math.inf):\n",
    "    if not node:\n",
    "        return True\n",
    "    \n",
    "    if node.val <= min_val or node.val >= max_val:\n",
    "        return False\n",
    "\n",
    "    if not is_valid_bst(node.left, min_val, node.val):\n",
    "        return False \n",
    "    \n",
    "    if not is_valid_bst(node.right, node.val, max_val):\n",
    "        return False\n",
    "        \n",
    "    return True "
   ],
   "outputs": [],
   "metadata": {}
  }
 ],
 "metadata": {
  "orig_nbformat": 4,
  "language_info": {
   "name": "python",
   "version": "3.10.0",
   "mimetype": "text/x-python",
   "codemirror_mode": {
    "name": "ipython",
    "version": 3
   },
   "pygments_lexer": "ipython3",
   "nbconvert_exporter": "python",
   "file_extension": ".py"
  },
  "kernelspec": {
   "name": "python3",
   "display_name": "Python 3.10.0 64-bit"
  },
  "interpreter": {
   "hash": "aee8b7b246df8f9039afb4144a1f6fd8d2ca17a180786b69acc140d282b71a49"
  }
 },
 "nbformat": 4,
 "nbformat_minor": 2
}