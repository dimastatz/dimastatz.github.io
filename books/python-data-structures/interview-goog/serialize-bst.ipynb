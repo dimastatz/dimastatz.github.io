{
 "cells": [
  {
   "cell_type": "markdown",
   "source": [
    "# Serialize and Deserialize Binary Tree\n",
    "Serialization is the process of converting a data structure or object into a sequence of bits so that it can be stored in a file or memory buffer, or transmitted across a network connection link to be reconstructed later in the same or another computer environment. Design an algorithm to serialize and deserialize a binary tree. There is no restriction on how your serialization/deserialization algorithm should work. You just need to ensure that a binary tree can be serialized to a string and this string can be deserialized to the original tree structure.\n",
    "- Clarification: The input/output format is the same as how LeetCode serializes a binary tree. You do not necessarily need to follow this format, so please be creative and come up with different approaches yourself.\n",
    "\n",
    "### Example 1:\n",
    "- Input: root = [1,2,3,null,null,4,5]\n",
    "- Output: [1,2,3,null,null,4,5]\n",
    "\n",
    "### Example 2:\n",
    "- Input: root = []\n",
    "- Output: []\n",
    "\n",
    "### Constraints:\n",
    "- The number of nodes in the tree is in the range [0, 104].\n",
    "- -1000 <= Node.val <= 1000"
   ],
   "metadata": {}
  },
  {
   "cell_type": "code",
   "execution_count": null,
   "source": [
    "'''\n",
    "IDEA:\n",
    "    Perform preorder traversal on a binary tree for serializarion. Add all nodes to the list and then\n",
    "    perform list -> string by merging list members with the ',' \n",
    "    For example \"1,2,3,null,null,null,5,null\" string stands for the tree where 1 is the root. 2,5 root's children.\n",
    "    2 has a child from the left (3) and has no child from the rigth. 5 has no children at all.\n",
    "    When deserializing, we will transform the string to list by splitting the string by ','. \n",
    "ANALYSIS:\n",
    "    Time Complexity: O(n)\n",
    "    Space Complexity: O(n)\n",
    "'''\n",
    "\n",
    "\n",
    "class TreeNode(object):\n",
    "    def __init__(self, x):\n",
    "        self.val = x\n",
    "        self.left = None\n",
    "        self.right = None\n",
    "\n",
    "\n",
    "class Codec:\n",
    "    def serialize(self, root):\n",
    "        \"\"\"Encodes a tree to a single string.\n",
    "        :type root: TreeNode\n",
    "        :rtype: str\n",
    "        \"\"\"\n",
    "        def _serialize(root):\n",
    "            if not root:\n",
    "                return [None]\n",
    "            else:\n",
    "                return [root.val] + _serialize(root.left) + _serialize(root.right)\n",
    "            \n",
    "        return ','.join([str(x) for x in _serialize(root)])\n",
    "            \n",
    "        \n",
    "    def deserialize(self, data):\n",
    "        \"\"\"Decodes your encoded data to tree.\n",
    "        :type data: str\n",
    "        :rtype: TreeNode\n",
    "        \"\"\"\n",
    "        def _deserialize(data: list):\n",
    "            if not data:\n",
    "                return None\n",
    "            elif not data[0]:\n",
    "                data.pop(0)\n",
    "                return None\n",
    "            else:\n",
    "                node = TreeNode(data.pop(0))\n",
    "                node.left = _deserialize(data)\n",
    "                node.right = _deserialize(data)\n",
    "                return node\n",
    "        \n",
    "        res = [(None if x == 'None' else x) for x in data.split(',')]\n",
    "        return _deserialize(res)"
   ],
   "outputs": [],
   "metadata": {}
  }
 ],
 "metadata": {
  "orig_nbformat": 4,
  "language_info": {
   "name": "python",
   "version": "3.10.0"
  },
  "kernelspec": {
   "name": "python3",
   "display_name": "Python 3.10.0 64-bit"
  },
  "interpreter": {
   "hash": "aee8b7b246df8f9039afb4144a1f6fd8d2ca17a180786b69acc140d282b71a49"
  }
 },
 "nbformat": 4,
 "nbformat_minor": 2
}