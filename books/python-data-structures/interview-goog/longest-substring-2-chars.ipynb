{
 "cells": [
  {
   "cell_type": "markdown",
   "source": [
    "# Longest Substring with At Most Two Distinct Characters\n",
    "Given a string s, return the length of the longest substring that contains at most two distinct characters.\n",
    "\n",
    "### Example 1:\n",
    "- Input: s = \"eceba\"\n",
    "- Output: 3\n",
    "- Explanation: The substring is \"ece\" which its length is 3.\n",
    "\n",
    "### Example 2:\n",
    "- Input: s = \"ccaabbb\"\n",
    "- Output: 5\n",
    "- Explanation: The substring is \"aabbb\" which its length is 5.\n",
    "\n",
    "### Constraints:\n",
    "- 1 <= s.length <= 105\n",
    "- s consists of English letters."
   ],
   "metadata": {}
  },
  {
   "cell_type": "code",
   "execution_count": 1,
   "source": [
    "'''\n",
    "IDEA:\n",
    "    Loop through chars and add each one to the dict where char is a key and max index\n",
    "    is the value. Once there are two items in the dicitonary and a non existing key is found, \n",
    "    we remove the char with the smallest max index from the dicitonary.\n",
    "    Example: ccaabbb\n",
    "        {c: 1} max_len = 1\n",
    "        {c: 2} max_len = 2\n",
    "        {c:1, a: 2} max_len = 3\n",
    "        {c:1, a: 3} max_len = 4\n",
    "        {a:3, b: 4} max-Len = 4\n",
    "'''\n",
    "class Solution:\n",
    "    def lengthOfLongestSubstringTwoDistinct(self, s: str) -> int:\n",
    "        chars = {}\n",
    "        max_len, start, current = 0, 0, 0\n",
    "        while current < len(s):\n",
    "            chars[s[current]] = current\n",
    "            if len(chars) > 2:\n",
    "                min_item = min(chars.values())\n",
    "                del chars[min_item[0]]\n",
    "                start = min_item[1] + 1\n",
    "            if max_len < (current - start) + 1:\n",
    "                max_len = (current-start) + 1\n",
    "            current += 1\n",
    "        return max_len"
   ],
   "outputs": [],
   "metadata": {}
  },
  {
   "cell_type": "markdown",
   "source": [
    "Analysis:\n",
    "- Time Complexity: O(n)\n",
    "- Space Complexity: O(n)"
   ],
   "metadata": {}
  }
 ],
 "metadata": {
  "orig_nbformat": 4,
  "language_info": {
   "name": "python",
   "version": "3.10.0",
   "mimetype": "text/x-python",
   "codemirror_mode": {
    "name": "ipython",
    "version": 3
   },
   "pygments_lexer": "ipython3",
   "nbconvert_exporter": "python",
   "file_extension": ".py"
  },
  "kernelspec": {
   "name": "python3",
   "display_name": "Python 3.10.0 64-bit"
  },
  "interpreter": {
   "hash": "aee8b7b246df8f9039afb4144a1f6fd8d2ca17a180786b69acc140d282b71a49"
  }
 },
 "nbformat": 4,
 "nbformat_minor": 2
}