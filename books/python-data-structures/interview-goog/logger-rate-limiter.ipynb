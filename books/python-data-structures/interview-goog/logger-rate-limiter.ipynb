{
 "cells": [
  {
   "cell_type": "markdown",
   "source": [
    "# Logger Rate Limiter\n",
    "Design a logger system that receives a stream of messages along with their timestamps. Each unique message should only be printed at most every 10 seconds (i.e. a message printed at timestamp t will prevent other identical messages from being printed until timestamp t + 10). All messages will come in chronological order. Several messages may arrive at the same timestamp.\n",
    "\n",
    "Implement the Logger class:\n",
    "- Logger() Initializes the logger object.\n",
    "- bool shouldPrintMessage(int timestamp, string message) Returns true if the message should be printed in the given - timestamp, otherwise returns false.\n",
    "\n",
    "### Example 1:\n",
    "- Input [\"Logger\", \"shouldPrintMessage\", \"shouldPrintMessage\", \"shouldPrintMessage\", \"shouldPrintMessage\", \"shouldPrintMessage\", \"shouldPrintMessage\"]\n",
    "[[], [1, \"foo\"], [2, \"bar\"], [3, \"foo\"], [8, \"bar\"], [10, \"foo\"], [11, \"foo\"]]\n",
    "- Output [null, true, true, false, false, false, true]\n",
    "- Explanation\n",
    "    - Logger logger = new Logger();\n",
    "    - logger.shouldPrintMessage(1, \"foo\");  // return true, next allowed timestamp for \"foo\" is 1 + 10 = 11\n",
    "    - logger.shouldPrintMessage(2, \"bar\");  // return true, next allowed timestamp for \"bar\" is 2 + 10 = 12\n",
    "    - logger.shouldPrintMessage(3, \"foo\");  // 3 < 11, return false\n",
    "    - logger.shouldPrintMessage(8, \"bar\");  // 8 < 12, return false\n",
    "    - logger.shouldPrintMessage(10, \"foo\"); // 10 < 11, return false\n",
    "    - logger.shouldPrintMessage(11, \"foo\"); // 11 >= 11, return true, next allowed timestamp for \"foo\" is 11 + 10 = 21\n",
    "\n",
    "### Constraints:\n",
    "- 0 <= timestamp <= 109\n",
    "- Every timestamp will be passed in non-decreasing order (chronological order).\n",
    "- 1 <= message.length <= 30\n",
    "At most 104 calls will be made to shouldPrintMessage."
   ],
   "metadata": {}
  },
  {
   "cell_type": "code",
   "execution_count": null,
   "source": [
    "'''\n",
    "IDEA:\n",
    "    create a dictionary where messages are keys and timestamps are values. When the method \n",
    "    shouldPrintMessage is  called, and the message is not in the dictionary, we add the \n",
    "    message to the dictionary with the ts + 10 value. If the message is in dictionary and\n",
    "    ts < cache[message] we return false\n",
    "Analysis:\n",
    "    Time Complexity: O(1)\n",
    "    Space Complexity: O(N) where N is the number of all incmoning message\n",
    "'''\n",
    "class Logger:\n",
    "    def __init__(self):\n",
    "        self.cache = {}\n",
    "        \n",
    "    def shouldPrintMessage(self, timestamp: int, message: str) -> bool:\n",
    "        ts = self.cache.get(message, 0)\n",
    "        if ts > timestamp:\n",
    "            return False\n",
    "        else:\n",
    "            self.cache[message] = timestamp + 10\n",
    "            return True\n"
   ],
   "outputs": [],
   "metadata": {}
  }
 ],
 "metadata": {
  "orig_nbformat": 4,
  "language_info": {
   "name": "python",
   "version": "3.10.0"
  },
  "kernelspec": {
   "name": "python3",
   "display_name": "Python 3.10.0 64-bit"
  },
  "interpreter": {
   "hash": "aee8b7b246df8f9039afb4144a1f6fd8d2ca17a180786b69acc140d282b71a49"
  }
 },
 "nbformat": 4,
 "nbformat_minor": 2
}