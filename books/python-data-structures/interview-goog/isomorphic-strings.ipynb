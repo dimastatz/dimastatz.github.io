{
 "cells": [
  {
   "cell_type": "markdown",
   "source": [
    "# Isomorphic Strings\n",
    "Given two strings s and t, determine if they are isomorphic.\n",
    "Two strings s and t are isomorphic if the characters in s can be replaced to get t.\n",
    "All occurrences of a character must be replaced with another character while preserving the order of characters. No two characters may map to the same character, but a character may map to itself.\n",
    "\n",
    "### Example 1\n",
    "- Input: s = \"egg\", t = \"add\"\n",
    "- Output: true\n",
    "\n",
    "### Example 2\n",
    "- Input: s = \"foo\", t = \"bar\"\n",
    "- Output: false\n",
    "\n",
    "### Example 3\n",
    "- Input: s = \"paper\", t = \"title\"\n",
    "- Output: true\n",
    "\n",
    "### Constraints:\n",
    "- 1 <= s.length <= 5 * 104\n",
    "- t.length == s.length\n",
    "- s and t consist of any valid ascii character."
   ],
   "metadata": {}
  },
  {
   "cell_type": "code",
   "execution_count": 1,
   "source": [
    "'''\n",
    "IDEA:\n",
    "    Loop through elements of both strings and create the mapping. For example S1 -> T1, S2 -> T2 and so on.\n",
    "    When Si already in dictionary Si == Sk whe Sk -> Tk, Ti should be equal to Tk as well. All the above should\n",
    "    be true for (S, T) and (T, S)  \n",
    "ANALYSIS:\n",
    "    Time Complexity: O(n)\n",
    "    Space Complexity: O(n)\n",
    "'''\n",
    "class Solution:\n",
    "    def isIsomorphic(self, s: str, t: str) -> bool:\n",
    "        def check_map(s: str, t: str) -> bool:\n",
    "            d = {}\n",
    "            for i in range(len(s)):\n",
    "                if not s[i] in d:\n",
    "                    d[s[i]] = t[i]\n",
    "                else:\n",
    "                    if d[s[i]] != t[i]:\n",
    "                        return False\n",
    "            return True\n",
    "            \n",
    "    \n",
    "        return len(s) == len(t) and check_map(s, t) and check_map(t, s)\n"
   ],
   "outputs": [],
   "metadata": {}
  }
 ],
 "metadata": {
  "orig_nbformat": 4,
  "language_info": {
   "name": "python",
   "version": "3.10.0",
   "mimetype": "text/x-python",
   "codemirror_mode": {
    "name": "ipython",
    "version": 3
   },
   "pygments_lexer": "ipython3",
   "nbconvert_exporter": "python",
   "file_extension": ".py"
  },
  "kernelspec": {
   "name": "python3",
   "display_name": "Python 3.10.0 64-bit"
  },
  "interpreter": {
   "hash": "aee8b7b246df8f9039afb4144a1f6fd8d2ca17a180786b69acc140d282b71a49"
  }
 },
 "nbformat": 4,
 "nbformat_minor": 2
}