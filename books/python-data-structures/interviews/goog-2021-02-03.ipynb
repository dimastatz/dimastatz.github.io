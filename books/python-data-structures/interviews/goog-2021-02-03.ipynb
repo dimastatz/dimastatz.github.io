{
 "cells": [
  {
   "cell_type": "markdown",
   "source": [
    "# Sequence Reconstruction [PASSED]\n",
    "Check whether the original sequence org can be uniquely reconstructed from the sequences in seqs. The org sequence is a permutation of the integers from 1 to n, with 1 ≤ n ≤ 104. Reconstruction means building a shortest common supersequence of the sequences in seqs (i.e., a shortest sequence so that all sequences in seqs are subsequences of it). Determine whether there is only one sequence that can be reconstructed from seqs and it is the org sequence.\n",
    "\n",
    "### Example 1\n",
    "- Input: org: [1,2,3], seqs: [[1,2],[1,3]]\n",
    "- Output: false\n",
    "- Explanation: [1,2,3] is not the only one sequence that can be reconstructed, because [1,3,2] is also a valid sequence that can be reconstructed.\n",
    "\n",
    "### Example 2\n",
    "- Input: org: [1,2,3], seqs: [[1,2]]\n",
    "- Output: false\n",
    "- Explanation: The reconstructed sequence can only be [1,2].\n",
    "\n",
    "### Example 3\n",
    "- Input: org: [1,2,3], seqs: [[1,2],[1,3],[2,3]]\n",
    "- Output: true\n",
    "- Explanation: The sequences [1,2], [1,3], and [2,3] can uniquely reconstruct the original sequence [1,2,3].\n",
    "\n",
    "### Example 4:\n",
    "- Input: org: [4,1,5,2,6,3], seqs: [[5,2,6,3],[4,1,5,2]]\n",
    "- Output: true\n",
    "\n",
    "## Solution\n",
    "\n",
    "### Intuition\n",
    "Take the first numbers from each list. From the set of first numbers find the one that appears only in a first place. Add this number to result and delete it from all lists. Run until all input list are empty.\n",
    "\n",
    "### Implementation"
   ],
   "metadata": {}
  },
  {
   "cell_type": "code",
   "execution_count": 14,
   "source": [
    "def is_unique_first(x: int, seqs: list):\n",
    "    return len([s for s in seqs if x in s[1:]]) == 0\n",
    "\n",
    "\n",
    "def reconstruct(orgs: list, seqs: list) -> bool:\n",
    "    res = []\n",
    "    while seqs:\n",
    "        first: set = set([lst[0] for lst in seqs if is_unique_first(lst[0], seqs)])\n",
    "        if not first or len(first) > 2:\n",
    "            return False\n",
    "        else:\n",
    "            elem = list(first)[0]\n",
    "            res.append(elem)\n",
    "            seqs = [[x for x in lst if x != elem] for lst in seqs]\n",
    "            seqs = [s for s in seqs if s]\n",
    "    return res == orgs\n",
    "\n",
    "\n",
    "reconstruct([1,2,3], [[1,2],[1,3]])\n",
    "reconstruct([1,2,3], [[1,2],[1,3],[2,3]])\n",
    "reconstruct([4,1,5,2,6,3], [[5,2,6,3],[4,1,5,2]])"
   ],
   "outputs": [
    {
     "output_type": "execute_result",
     "data": {
      "text/plain": [
       "True"
      ]
     },
     "metadata": {},
     "execution_count": 14
    }
   ],
   "metadata": {}
  },
  {
   "cell_type": "markdown",
   "source": [
    "Analysis:\n",
    "- Time Complexity: O(n^2)\n",
    "- Space Complexity: O(n)"
   ],
   "metadata": {}
  }
 ],
 "metadata": {
  "orig_nbformat": 4,
  "language_info": {
   "name": "python",
   "version": "3.10.0",
   "mimetype": "text/x-python",
   "codemirror_mode": {
    "name": "ipython",
    "version": 3
   },
   "pygments_lexer": "ipython3",
   "nbconvert_exporter": "python",
   "file_extension": ".py"
  },
  "kernelspec": {
   "name": "python3",
   "display_name": "Python 3.10.0 64-bit"
  },
  "interpreter": {
   "hash": "aee8b7b246df8f9039afb4144a1f6fd8d2ca17a180786b69acc140d282b71a49"
  }
 },
 "nbformat": 4,
 "nbformat_minor": 2
}