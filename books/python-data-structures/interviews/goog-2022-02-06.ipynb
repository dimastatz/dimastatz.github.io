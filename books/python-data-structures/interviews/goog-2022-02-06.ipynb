{
 "cells": [
  {
   "cell_type": "markdown",
   "source": [
    "#  GOOG 2022-02-06 \n",
    "\n",
    "### Count of Smaller Numbers After self\n",
    "You are given an integer array nums and you have to return a new counts array. The counts array has the property where counts[i] is the number of smaller elements to the right of nums[i].\n",
    "\n",
    "### Example 1:\n",
    "- Input: nums = [5,2,6,1]\n",
    "- Output: [2,1,1,0]\n",
    "- Explanation:\n",
    "    - To the right of 5 there are 2 smaller elements (2 and 1).\n",
    "    - To the right of 2 there is only 1 smaller element (1).\n",
    "    - To the right of 6 there is 1 smaller element (1).\n",
    "    - To the right of 1 there is 0 smaller element.\n",
    "\n",
    "### Example 2:\n",
    "- Input: nums = [-1]\n",
    "- Output: [0]\n",
    "\n",
    "### Example 3:\n",
    "- Input: nums = [-1,-1]\n",
    "- Output: [0,0]\n",
    "\n",
    "\n",
    "### ! The problem was given in a diffrent way\n",
    "Consider web requests are comming in a form of req_id -> duration. For each req_id return the number of previous requests that are shorter from"
   ],
   "metadata": {}
  },
  {
   "cell_type": "code",
   "execution_count": 8,
   "source": [
    "import heapq\n",
    "from collections import OrderedDict\n",
    "\n",
    "class Requests:\n",
    "    def __init__(self) -> None:\n",
    "        self.state = OrderedDict()\n",
    "        self.heap = []\n",
    "    \n",
    "    def add(self, id: int, duration: int):\n",
    "        self.state[id] = duration\n",
    "        heapq.heappush(self.heap, (duration, id))\n",
    "\n",
    "    \n",
    "    def get_smaller(self, id: int):\n",
    "        smaller = set()\n",
    "        for k, _ in self.state.items():\n",
    "            if k == id:\n",
    "                break\n",
    "            smaller.add(k)\n",
    "\n",
    "        count = 0\n",
    "        for v, k in heapq.nsmallest(len(self.state), self.heap):\n",
    "            if k == id:\n",
    "                break\n",
    "\n",
    "            if k in smaller:\n",
    "                count += 1\n",
    "        \n",
    "        return count\n",
    "\n",
    "\n",
    "    \n",
    "r = Requests()\n",
    "r.add(1, 10)\n",
    "r.add(2, 2)\n",
    "r.add(3, 15)\n",
    "r.add(4, 4)\n",
    "\n",
    "assert r.get_smaller(4) == 1\n",
    "assert r.get_smaller(3) == 2\n",
    "\n",
    "\n",
    "\n",
    "    \n",
    "\n"
   ],
   "outputs": [],
   "metadata": {}
  }
 ],
 "metadata": {
  "orig_nbformat": 4,
  "language_info": {
   "name": "python",
   "version": "3.10.0",
   "mimetype": "text/x-python",
   "codemirror_mode": {
    "name": "ipython",
    "version": 3
   },
   "pygments_lexer": "ipython3",
   "nbconvert_exporter": "python",
   "file_extension": ".py"
  },
  "kernelspec": {
   "name": "python3",
   "display_name": "Python 3.10.0 64-bit"
  },
  "interpreter": {
   "hash": "aee8b7b246df8f9039afb4144a1f6fd8d2ca17a180786b69acc140d282b71a49"
  }
 },
 "nbformat": 4,
 "nbformat_minor": 2
}