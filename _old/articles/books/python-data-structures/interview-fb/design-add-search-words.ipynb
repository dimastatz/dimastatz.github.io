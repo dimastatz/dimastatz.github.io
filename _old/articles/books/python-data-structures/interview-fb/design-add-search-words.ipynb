{
 "cells": [
  {
   "cell_type": "markdown",
   "source": [
    "# Design Add and Search Words Data Structure\n",
    "Design a data structure that supports adding new words and finding if a string matches any previously added string.\n",
    "Implement the WordDictionary class:\n",
    "- WordDictionary() Initializes the object.\n",
    "- void addWord(word) Adds word to the data structure, it can be matched later.\n",
    "- bool search(word) Returns true if there is any string in the data structure that matches word or false otherwise. - word may contain dots '.' where dots can be matched with any letter."
   ],
   "metadata": {}
  },
  {
   "cell_type": "code",
   "execution_count": 1,
   "source": [
    "class WordDictionary:\n",
    "    def __init__(self):\n",
    "        self.trie = {}\n",
    "        \n",
    "    def addWord(self, word: str) -> None:\n",
    "        curr = self.trie\n",
    "        \n",
    "        for c in word:\n",
    "            res = curr.get(c, {})\n",
    "            curr[c] = res\n",
    "            curr = res\n",
    "        curr['$'] = {}\n",
    "\n",
    "        \n",
    "    def search(self, word: str) -> bool:\n",
    "        def _search(node, word):\n",
    "            if not word:\n",
    "                return True if '$' in node else False\n",
    "            elif word[0] in node:\n",
    "                return _search(node[word[0]], word[1:])\n",
    "            elif word[0] == '.':\n",
    "                res = []\n",
    "                for k in node.keys():\n",
    "                    res.append(_search(node[k], word[1:]))\n",
    "                return any(res)\n",
    "            else:\n",
    "                return False\n",
    "            \n",
    "        return _search(self.trie, word)"
   ],
   "outputs": [],
   "metadata": {}
  }
 ],
 "metadata": {
  "orig_nbformat": 4,
  "language_info": {
   "name": "python",
   "version": "3.10.0",
   "mimetype": "text/x-python",
   "codemirror_mode": {
    "name": "ipython",
    "version": 3
   },
   "pygments_lexer": "ipython3",
   "nbconvert_exporter": "python",
   "file_extension": ".py"
  },
  "kernelspec": {
   "name": "python3",
   "display_name": "Python 3.10.0 64-bit"
  },
  "interpreter": {
   "hash": "aee8b7b246df8f9039afb4144a1f6fd8d2ca17a180786b69acc140d282b71a49"
  }
 },
 "nbformat": 4,
 "nbformat_minor": 2
}