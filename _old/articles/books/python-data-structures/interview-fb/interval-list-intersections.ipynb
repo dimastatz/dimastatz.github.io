{
 "cells": [
  {
   "cell_type": "markdown",
   "source": [
    "# Interval List Intersections\n",
    "You are given two lists of closed intervals, first_list and second_list, where first_list[i] = [starti, endi] and second_list[j] = [startj, endj]. Each list of intervals is pairwise disjoint and in sorted order.\n",
    "Return the intersection of these two interval lists.\n",
    "A closed interval [a, b] (with a <= b) denotes the set of real numbers x with a <= x <= b.\n",
    "The intersection of two closed intervals is a set of real numbers that are either empty or represented as a closed interval. For example, the intersection of [1, 3] and [2, 4] is [2, 3]."
   ],
   "metadata": {}
  },
  {
   "cell_type": "code",
   "execution_count": null,
   "source": [
    "'''\n",
    "Example 1\n",
    "Input: first_list = [[0,2],[5,10],[13,23],[24,25]], second_list = [[1,5],[8,12],[15,24],[25,26]]\n",
    "Output: [[1,2],[5,5],[8,10],[15,23],[24,24],[25,25]]\n",
    "\n",
    "\n",
    "Example 2:\n",
    "Input: first_list = [[1,3],[5,9]], second_list = []\n",
    "Output: []\n",
    "'''\n",
    "\n",
    "\n",
    "def interval_intersection(first_list: list, second_list: list) -> list:\n",
    "    \n",
    "    def find_intersection(first_list, second_list):\n",
    "        first, second = first_list[0], second_list[0]\n",
    "        left, right = (first, second) if first[0] < second[0] else (second, first)\n",
    "        \n",
    "        if left[1] >= right[0]:\n",
    "            return [right[0], min(left[1], right[1])]\n",
    "        else:\n",
    "            return None\n",
    "            \n",
    "         \n",
    "    res = []\n",
    "    while first_list and second_list:\n",
    "        intersect = find_intersection(first_list, second_list)\n",
    "        if intersect:\n",
    "            res.append(intersect)\n",
    "        \n",
    "        if first_list[0][1] < second_list[0][1]:\n",
    "            first_list = first_list[1:]\n",
    "        else:\n",
    "            second_list = second_list[1:]\n",
    "            \n",
    "    return res"
   ],
   "outputs": [],
   "metadata": {}
  }
 ],
 "metadata": {
  "orig_nbformat": 4,
  "language_info": {
   "name": "python",
   "version": "3.10.0"
  },
  "kernelspec": {
   "name": "python3",
   "display_name": "Python 3.10.0 64-bit"
  },
  "interpreter": {
   "hash": "aee8b7b246df8f9039afb4144a1f6fd8d2ca17a180786b69acc140d282b71a49"
  }
 },
 "nbformat": 4,
 "nbformat_minor": 2
}