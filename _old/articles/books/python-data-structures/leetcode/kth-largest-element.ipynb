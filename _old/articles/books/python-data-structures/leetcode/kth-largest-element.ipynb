{
 "cells": [
  {
   "cell_type": "markdown",
   "source": [
    "# Kth Largest Element in an Array\n",
    "Given an integer array nums and an integer k, return the kth largest element in the array.\n",
    "Note that it is the kth largest element in the sorted order, not the kth distinct element.\n",
    "\n",
    "### Example 1:\n",
    "- Input: nums = [3,2,1,5,6,4], k = 2\n",
    "- Output: 5\n",
    "\n",
    "### Example 2:\n",
    "- Input: nums = [3,2,3,1,2,4,5,5,6], k = 4\n",
    "- Output: 4\n",
    "\n",
    "### Constraints:\n",
    "1 <= k <= nums.length <= 104\n",
    "-104 <= nums[i] <= 104\n",
    "\n",
    "## Solution\n",
    "\n",
    "### Intuition\n",
    "We can just sort the array and return the first K elements in sorted order. The time complexity of such an approach is \n",
    "O(n*log(n)+k). By using heap we can make it in O(n + k).  "
   ],
   "metadata": {}
  },
  {
   "cell_type": "code",
   "execution_count": 13,
   "source": [
    "def kth_largest_element(numbers: list, k: int) -> list:\n",
    "    import heapq\n",
    "    heapq.heapify(numbers)\n",
    "    return heapq.nlargest(k, numbers)[k-1]\n",
    "\n",
    "\n",
    "assert(kth_largest_element([3,2,1,5,6,4], 2) == 5)\n",
    "assert(kth_largest_element([3,2,3,1,2,4,5,5,6], 4) == 4)"
   ],
   "outputs": [],
   "metadata": {}
  },
  {
   "cell_type": "markdown",
   "source": [
    "# Analysis\n",
    "- Time Complexity: O(n+k). O(n) to make a heap from the list + k to return the result\n",
    "- Space Complexity: O(n) for heap"
   ],
   "metadata": {}
  }
 ],
 "metadata": {
  "orig_nbformat": 4,
  "language_info": {
   "name": "python",
   "version": "3.10.0",
   "mimetype": "text/x-python",
   "codemirror_mode": {
    "name": "ipython",
    "version": 3
   },
   "pygments_lexer": "ipython3",
   "nbconvert_exporter": "python",
   "file_extension": ".py"
  },
  "kernelspec": {
   "name": "python3",
   "display_name": "Python 3.10.0 64-bit"
  },
  "interpreter": {
   "hash": "aee8b7b246df8f9039afb4144a1f6fd8d2ca17a180786b69acc140d282b71a49"
  }
 },
 "nbformat": 4,
 "nbformat_minor": 2
}