{
 "cells": [
  {
   "cell_type": "markdown",
   "source": [
    "# Validate Binary Search Tree\n",
    "\n",
    "Given the root of a binary tree, determine if it is a valid binary search tree (BST).\n",
    "A valid BST is defined as follows:\n",
    "- The left subtree of a node contains only nodes with keys less than the node's key.\n",
    "- The right subtree of a node contains only nodes with keys greater than the node's key.\n",
    "- Both the left and right subtrees must also be binary search trees.\n",
    "\n",
    "### Example 1\n",
    "- Input: root = [2,1,3]\n",
    "- Output: true\n",
    "<table width=\"256px\">\n",
    "  <tr>\n",
    "    <td><img src=\"../images/validate-bst-1.png\" /></td>\n",
    "  </tr>\n",
    "</table>\n",
    "\n",
    "\n",
    "### Example 2:\n",
    "- Input: root = [5,1,4,null,null,3,6]\n",
    "- Output: false\n",
    "- Explanation: The root node's value is 5 but its right child's value is 4.\n",
    "<table width=\"256px\">\n",
    "  <tr>\n",
    "    <td><img src=\"../images/validate-bst-2.png\" /></td>\n",
    "  </tr>\n",
    "</table>\n",
    "\n",
    "### Constraints:\n",
    "The number of nodes in the tree is in the range [1, 104].\n",
    "-231 <= Node.val <= 231 - 1\n",
    "\n",
    "## Solution\n",
    "\n",
    "### Intuition\n",
    "The inorder traversing on BST outputs sorted array. So we have to traverse it and check that the created array is sorted.  \n",
    "\n",
    "### Implementation"
   ],
   "metadata": {}
  },
  {
   "cell_type": "code",
   "execution_count": 23,
   "source": [
    "class TreeNode:\n",
    "     def __init__(self, val=0, left=None, right=None):\n",
    "         self.val = val\n",
    "         self.left = left\n",
    "         self.right = right\n",
    "\n",
    "\n",
    "def from_list(tree: list, root: TreeNode=None):\n",
    "    if not tree:\n",
    "        return None\n",
    "    elif not root:\n",
    "        root = TreeNode(tree.pop(0))\n",
    "        return from_list(tree, root)\n",
    "    else:\n",
    "        root.left = TreeNode(tree.pop(0))\n",
    "        root.right = TreeNode(tree.pop(0))\n",
    "        from_list(tree, root.left)\n",
    "        from_list(tree, root.right)\n",
    "    return root\n",
    "\n",
    "    \n",
    "def to_list(root: TreeNode) -> list:\n",
    "    if not root:\n",
    "        return [None]\n",
    "    else:\n",
    "        return to_list(root.left) + [root.val] + to_list(root.right)\n",
    "    \n",
    "\n",
    "def is_valid_bst(root: TreeNode) -> bool:\n",
    "    lst = [x for x in to_list(root) if x is not None]\n",
    "    \n",
    "    for i in range(len(lst)-1):\n",
    "        if lst[i] >= lst[i+1]:\n",
    "            return False\n",
    "    return True\n",
    "\n",
    "assert is_valid_bst(from_list([2, 1, 3])) == True\n",
    "assert is_valid_bst(from_list([5, 1, 4, None, None, 3, 6])) == False"
   ],
   "outputs": [
    {
     "output_type": "stream",
     "name": "stdout",
     "text": [
      "[1, 2, 3]\n",
      "[3, 6, 1, 5, 4]\n"
     ]
    }
   ],
   "metadata": {}
  },
  {
   "cell_type": "markdown",
   "source": [
    "### Analysis\n",
    "- Time Complexity is O(n) in the worst case we will reach all nodes\n",
    "- Space Complexity is O(n) because we need and additional array of size n\n"
   ],
   "metadata": {}
  }
 ],
 "metadata": {
  "orig_nbformat": 4,
  "language_info": {
   "name": "python",
   "version": "3.10.0",
   "mimetype": "text/x-python",
   "codemirror_mode": {
    "name": "ipython",
    "version": 3
   },
   "pygments_lexer": "ipython3",
   "nbconvert_exporter": "python",
   "file_extension": ".py"
  },
  "kernelspec": {
   "name": "python3",
   "display_name": "Python 3.10.0 64-bit"
  },
  "interpreter": {
   "hash": "aee8b7b246df8f9039afb4144a1f6fd8d2ca17a180786b69acc140d282b71a49"
  }
 },
 "nbformat": 4,
 "nbformat_minor": 2
}