{
 "cells": [
  {
   "cell_type": "markdown",
   "source": [
    "# Remove Nth Node From End of List\n",
    "Given the head of a linked list, remove the nth node from the end of the list and return its head.\n",
    "\n",
    "### Example 1:\n",
    "- Input: head = [1,2,3,4,5], n = 2\n",
    "- Output: [1,2,3,5]\n",
    "\n",
    "### Example 2:\n",
    "- Input: head = [1], n = 1\n",
    "- Output: []\n",
    "\n",
    "### Example 3:\n",
    "- Input: head = [1,2], n = 1\n",
    "- Output: [1]\n",
    "\n",
    "### Constraints:\n",
    "- The number of nodes in the list is sz.\n",
    "- 1 <= sz <= 30\n",
    "- 0 <= Node.val <= 100\n",
    "- 1 <= n <= sz\n",
    "\n",
    "\n",
    "## Solution\n",
    "\n",
    "### Intuition\n",
    "List is move forward structure. Count all nodes. node_to_delete_idx = count - n. Move to node node_to_delete_idx and perform delete from the linked list\n",
    "\n",
    "### Solution\n"
   ],
   "metadata": {}
  },
  {
   "cell_type": "code",
   "execution_count": 1,
   "source": [
    "def remove_nth_from_end(head: list, n: int) -> list:\n",
    "    def count_nodes(head) -> int:\n",
    "        count = 0\n",
    "        while head:\n",
    "            count += 1\n",
    "            head = head.next\n",
    "        return count\n",
    "        \n",
    "    def remove_node(head, n):\n",
    "        count = 0\n",
    "        while count < n - 1:\n",
    "            head = head.next\n",
    "            count += 1\n",
    "        head.next = head.next.next\n",
    "            \n",
    "    total = count_nodes(head)\n",
    "    node_to_remove = total - n\n",
    "    \n",
    "    if not head or not head.next:\n",
    "        return None\n",
    "    elif node_to_remove == 0:\n",
    "        head = head.next\n",
    "    else:\n",
    "        remove_node(head, node_to_remove)\n",
    "    \n",
    "    return head"
   ],
   "outputs": [],
   "metadata": {}
  },
  {
   "cell_type": "markdown",
   "source": [
    "### Analysis:\n",
    "- Time Complexity: O(n)\n",
    "- Space Complexity: O(1)"
   ],
   "metadata": {}
  },
  {
   "cell_type": "markdown",
   "source": [
    "## Solution 2\n",
    "Init two pointers, pointing to th head. Move first pointer to the n-th node. Now start moving both pointers until the first pointing on None. Now the second poiter pointing no the node to remove"
   ],
   "metadata": {}
  }
 ],
 "metadata": {
  "orig_nbformat": 4,
  "language_info": {
   "name": "python",
   "version": "3.10.0",
   "mimetype": "text/x-python",
   "codemirror_mode": {
    "name": "ipython",
    "version": 3
   },
   "pygments_lexer": "ipython3",
   "nbconvert_exporter": "python",
   "file_extension": ".py"
  },
  "kernelspec": {
   "name": "python3",
   "display_name": "Python 3.10.0 64-bit"
  },
  "interpreter": {
   "hash": "aee8b7b246df8f9039afb4144a1f6fd8d2ca17a180786b69acc140d282b71a49"
  }
 },
 "nbformat": 4,
 "nbformat_minor": 2
}