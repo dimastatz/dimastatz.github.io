{
 "cells": [
  {
   "cell_type": "markdown",
   "source": [
    "# Convert Sorted Array to Binary Search Tree\n",
    "Given an integer array nums where the elements are sorted in ascending order, convert it to a height-balanced binary search tree.\n",
    "A height-balanced binary tree is a binary tree in which the depth of the two subtrees of every node never differs by more than one.\n",
    "\n",
    "### Example 1\n",
    "- Input: nums = [-10,-3,0,5,9]\n",
    "- Output: [0,-3,9,-10,null,5]\n",
    "- Explanation: [0,-10,5,null,-3,null,9] is also accepted:\n",
    "\n",
    "### Example 2:\n",
    "- Input: nums = [1,3]\n",
    "- Output: [3,1]\n",
    "- Explanation: [1,3] and [3,1] are both a height-balanced BSTs.\n",
    "\n",
    "### Constraints:\n",
    "- 1 <= nums.length <= 10^4\n",
    "- -10^4 <= nums[i] <= 10^4\n",
    "- nums is sorted in a strictly increasing order.\n",
    "\n",
    "\n",
    "## Solution\n",
    "\n",
    "### Intuition\n",
    "Since the array is sorted, we can take the middle point of the array as the root node. And then recursively build the tree.\n",
    "\n",
    "### Implementation"
   ],
   "metadata": {}
  },
  {
   "cell_type": "code",
   "execution_count": 4,
   "source": [
    "class TreeNode:\n",
    "    def __init__(self, val=None):\n",
    "        self.val = val\n",
    "        self.left: TreeNode = None\n",
    "        self.right: TreeNode = None\n",
    "\n",
    "    def in_order(self, node) -> list:\n",
    "        if not node:\n",
    "            return []\n",
    "        else:\n",
    "            return self.in_order(node.left) + [node.val] + self.in_order(node.right)\n",
    "\n",
    "\n",
    "\n",
    "def build_bst(nums: list) -> TreeNode:\n",
    "    if not nums:\n",
    "        return None\n",
    "    else:\n",
    "        mid = len(nums) // 2\n",
    "        node = TreeNode(nums[mid])\n",
    "        node.left = build_bst(nums[:mid])\n",
    "        node.right = build_bst(nums[mid + 1:])\n",
    "        return node\n",
    "\n",
    "\n",
    "nums = [-10,-3,0,5,9]\n",
    "node = build_bst(nums)\n",
    "print(TreeNode().in_order(node))"
   ],
   "outputs": [
    {
     "output_type": "stream",
     "name": "stdout",
     "text": [
      "[-10, -3, 0, 5, 9]\n"
     ]
    }
   ],
   "metadata": {}
  },
  {
   "cell_type": "markdown",
   "source": [
    "Analysis:\n",
    "- Time Complexity: O(n)\n",
    "- Space Complexity: O(n)"
   ],
   "metadata": {}
  }
 ],
 "metadata": {
  "orig_nbformat": 4,
  "language_info": {
   "name": "python",
   "version": "3.10.0",
   "mimetype": "text/x-python",
   "codemirror_mode": {
    "name": "ipython",
    "version": 3
   },
   "pygments_lexer": "ipython3",
   "nbconvert_exporter": "python",
   "file_extension": ".py"
  },
  "kernelspec": {
   "name": "python3",
   "display_name": "Python 3.10.0 64-bit"
  },
  "interpreter": {
   "hash": "aee8b7b246df8f9039afb4144a1f6fd8d2ca17a180786b69acc140d282b71a49"
  }
 },
 "nbformat": 4,
 "nbformat_minor": 2
}