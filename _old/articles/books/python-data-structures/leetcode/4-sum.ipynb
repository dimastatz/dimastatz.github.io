{
 "cells": [
  {
   "cell_type": "markdown",
   "source": [
    "# 4Sum\n",
    "Given an array nums of n integers, return an array of all the unique quadruplets [nums[a], nums[b], nums[c], nums[d]] such that:\n",
    "- 0 <= a, b, c, d < n\n",
    "- a, b, c, and d are distinct.\n",
    "- nums[a] + nums[b] + nums[c] + nums[d] == target\n",
    "- You may return the answer in any order.\n",
    "\n",
    "\n",
    "### Example 1:\n",
    "Input: nums = [1,0,-1,0,-2,2], target = 0\n",
    "Output: [[-2,-1,1,2],[-2,0,0,2],[-1,0,0,1]]\n",
    "\n",
    "### Example 2:\n",
    "Input: nums = [2,2,2,2,2], target = 8\n",
    "Output: [[2,2,2,2]]\n",
    " \n",
    "### Constraints:\n",
    "- 1 <= nums.length <= 200\n",
    "- -10^9 <= nums[i] <= 10^9\n",
    "- -10^9 <= target <= 10^9\n",
    "\n",
    "\n",
    "## Solution\n",
    "\n",
    "### Intuition\n",
    "Reuse 3 sum solution and add one more loop\n",
    "\n",
    "### Implementation "
   ],
   "metadata": {}
  },
  {
   "cell_type": "code",
   "execution_count": null,
   "source": [
    "def four_sum(nums: list, target: int) -> list:\n",
    "    nums.sort()\n",
    "\n",
    "    def two_sum(nums: list, target: int, start) -> list:\n",
    "        res = []\n",
    "        stop = len(nums) - 1\n",
    "        while start < stop:\n",
    "            if nums[start] + nums[stop] == target:\n",
    "                res.append([nums[start], nums[stop]])\n",
    "                start, stop = start + 1, stop -1\n",
    "            elif nums[start] + nums[stop] > target:\n",
    "                stop -= 1\n",
    "            else:\n",
    "                start += 1\n",
    "        return res\n",
    "        \n",
    "    res = []\n",
    "    for i in range(len(nums) - 3):\n",
    "        for j in range(i + 1, len(nums) - 2):\n",
    "            tmp_target = target - (nums[i] + nums[j])\n",
    "            for x in two_sum(nums, tmp_target, j + 1):\n",
    "                if x and [nums[i], nums[j]] + x not in res:\n",
    "                    res.append([nums[i], nums[j]] + x)\n",
    "    return res"
   ],
   "outputs": [],
   "metadata": {}
  },
  {
   "cell_type": "markdown",
   "source": [
    "Analysis:\n",
    "- Time Complexity: O(n^3)\n",
    "- Space Complexity O(1)"
   ],
   "metadata": {}
  }
 ],
 "metadata": {
  "orig_nbformat": 4,
  "language_info": {
   "name": "python",
   "version": "3.10.0"
  },
  "kernelspec": {
   "name": "python3",
   "display_name": "Python 3.10.0 64-bit"
  },
  "interpreter": {
   "hash": "aee8b7b246df8f9039afb4144a1f6fd8d2ca17a180786b69acc140d282b71a49"
  }
 },
 "nbformat": 4,
 "nbformat_minor": 2
}