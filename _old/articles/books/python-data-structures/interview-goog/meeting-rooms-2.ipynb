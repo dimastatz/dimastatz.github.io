{
 "cells": [
  {
   "cell_type": "markdown",
   "source": [
    "# Meeting Rooms II\n",
    "Given an array of meeting time intervals intervals where intervals[i] = [starti, endi], return the minimum number of conference rooms required.\n",
    "\n",
    "### Example 1:\n",
    "- Input: intervals = [[0,30],[5,10],[15,20]]\n",
    "- Output: 2\n",
    "\n",
    "### Example 2:\n",
    "- Input: intervals = [[7,10],[2,4]]\n",
    "- Output: 1\n",
    "\n",
    "### Constraints:\n",
    "- 1 <= intervals.length <= 10^4\n",
    "- 0 <= starti < endi <= 10^6\n",
    "\n"
   ],
   "metadata": {}
  },
  {
   "cell_type": "code",
   "execution_count": 1,
   "source": [
    "'''\n",
    "IDEA:\n",
    "    Sort all meetings by the start time. Init priority queue.\n",
    "    Add first meeting to the priority queue and save the length of priority queue as min_rooms.\n",
    "    Take second meeting and if its start time greater then the min item in priority queue, add the second meeting to \n",
    "    the priority queue else pop from priority queue. \n",
    "    In the end return min_rooms\n",
    "ANALYSIS:\n",
    "    Time Complexity: O(n*log(n))\n",
    "    Space Complexity: O(n)\n",
    "'''\n",
    "\n",
    "import heapq\n",
    "\n",
    "def min_meeting_rooms(intervals: list) -> int:\n",
    "    intervals.sort(key=lambda x: x[0])\n",
    "    heap, min_rooms = [], 0\n",
    "\n",
    "    for i in intervals:\n",
    "        while heap and heapq.nsmallest(1, heap)[0] <= i[0]:\n",
    "            heapq.heappop(heap)\n",
    "        \n",
    "        heapq.heappush(heap, i[1])\n",
    "\n",
    "        if len(heap) > min_rooms:\n",
    "            min_rooms = len(heap)\n",
    "\n",
    "    return min_rooms\n",
    "\n",
    "assert min_meeting_rooms([[0,30],[5,10],[15,20]]) == 2\n",
    "assert min_meeting_rooms([[7,10],[2,4]]) == 1\n",
    "assert min_meeting_rooms([[13,15],[1,13]]) == 1"
   ],
   "outputs": [],
   "metadata": {}
  }
 ],
 "metadata": {
  "orig_nbformat": 4,
  "language_info": {
   "name": "python",
   "version": "3.10.0",
   "mimetype": "text/x-python",
   "codemirror_mode": {
    "name": "ipython",
    "version": 3
   },
   "pygments_lexer": "ipython3",
   "nbconvert_exporter": "python",
   "file_extension": ".py"
  },
  "kernelspec": {
   "name": "python3",
   "display_name": "Python 3.10.0 64-bit"
  },
  "interpreter": {
   "hash": "aee8b7b246df8f9039afb4144a1f6fd8d2ca17a180786b69acc140d282b71a49"
  }
 },
 "nbformat": 4,
 "nbformat_minor": 2
}