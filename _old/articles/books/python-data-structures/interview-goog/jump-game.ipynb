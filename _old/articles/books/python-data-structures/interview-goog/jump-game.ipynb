{
 "cells": [
  {
   "cell_type": "markdown",
   "source": [
    "# Jump Game\n",
    "You are given an integer array nums. You are initially positioned at the array's first index, and each element in the array represents your maximum jump length at that position.\n",
    "Return true if you can reach the last index, or false otherwise.\n",
    "\n",
    "### Example 1:\n",
    "- Input: nums = [2,3,1,1,4]\n",
    "- Output: true\n",
    "- Explanation: Jump 1 step from index 0 to 1, then 3 steps to the last index.\n",
    "\n",
    "### Example 2:\n",
    "- Input: nums = [3,2,1,0,4]\n",
    "- Output: false\n",
    "- Explanation: You will always arrive at index 3 no matter what. Its maximum jump length is 0, which makes it impossible to reach the last index.\n",
    " \n",
    "### Constraints:\n",
    "- 1 <= nums.length <= 104\n",
    "- 0 <= nums[i] <= 105\n"
   ],
   "metadata": {}
  },
  {
   "cell_type": "code",
   "execution_count": null,
   "source": [
    "'''\n",
    "IDEA 1:\n",
    "    the brute-force aproach is to recursivle try all possible solutions. T\n",
    "    hen we can use memoization to improve the recursion.\n",
    "'''\n",
    "def can_jump(nums: list, cache: dict) -> bool:\n",
    "    if len(nums) == 1:\n",
    "        return True\n",
    "    elif not nums:\n",
    "        return False\n",
    "    elif nums[0] == 0:\n",
    "        return False\n",
    "    elif len(nums) in cache:\n",
    "        return cache[len(nums)]\n",
    "    else:\n",
    "        res = []\n",
    "        for i in range(1, nums[0] + 1):\n",
    "            res.append(can_jump(nums[i:]))\n",
    "        cache[len(nums)] = True in res\n",
    "        return cache[len(nums)]"
   ],
   "outputs": [],
   "metadata": {}
  },
  {
   "cell_type": "markdown",
   "source": [
    "### Explanation\n",
    "This is a [dynamic programming](https://en.wikipedia.org/wiki/Dynamic_programming) question. Usually, solving and fully understanding a dynamic programming problem is a 4 step process:\n",
    "\n",
    "- Start with the recursive backtracking solution\n",
    "- Optimize by using a memoization table (top-down[2] dynamic programming)\n",
    "- Remove the need for recursion (bottom-up dynamic programming)\n",
    "- Apply final tricks to reduce the time / memory complexity\n",
    "All solutions presented below produce the correct result, but they differ in run time and memory requirements."
   ],
   "metadata": {}
  },
  {
   "cell_type": "code",
   "execution_count": null,
   "source": [
    "'''\n",
    "IDEA2:\n",
    "    Start from the end (n-1) and check if each element can jump to the last. If true\n",
    "    add it to the result set. In addition check if it can jamp to any of places in the result set\n",
    "    At the end, check if 0 in the result set \n",
    "ANALYSIS:\n",
    "    Time Complexity: O(n^2)\n",
    "    Space Complexity: O(1)\n",
    "'''\n",
    "\n",
    "def can_jump(nums: list) -> bool:\n",
    "    if len(nums) == 1:\n",
    "        return True\n",
    "    \n",
    "    res, last = set(), len(nums) - 1\n",
    "\n",
    "    for i in range(len(nums) - 2, -1, -1):\n",
    "        if i + nums[i] >= last:\n",
    "            res.add(i)\n",
    "        else:\n",
    "            for j in res:\n",
    "                if i + nums[i] >= j:\n",
    "                    res.add(i)\n",
    "                    break\n",
    "    return 0 in res"
   ],
   "outputs": [],
   "metadata": {}
  }
 ],
 "metadata": {
  "orig_nbformat": 4,
  "language_info": {
   "name": "python",
   "version": "3.10.0"
  },
  "kernelspec": {
   "name": "python3",
   "display_name": "Python 3.10.0 64-bit"
  },
  "interpreter": {
   "hash": "aee8b7b246df8f9039afb4144a1f6fd8d2ca17a180786b69acc140d282b71a49"
  }
 },
 "nbformat": 4,
 "nbformat_minor": 2
}