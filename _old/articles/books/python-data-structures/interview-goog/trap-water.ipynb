{
 "cells": [
  {
   "cell_type": "markdown",
   "source": [
    "# Trapping Rain Water\n",
    "Given n non-negative integers representing an elevation map where the width of each bar is 1, compute how much water it can trap after raining.\n",
    "\n",
    "<table width=\"256px\">\n",
    "  <tr>\n",
    "    <td><img src=\"../images/trap-rain-water.png\" /></td>\n",
    "  </tr>\n",
    "</table>\n",
    "\n",
    "### Example 1:\n",
    "- Input: height = [4,2,0,3,2,5]\n",
    "- Output: 9\n",
    "\n",
    "### Example 2:\n",
    "- Input: height = [0,1,0,2,1,0,1,3,2,1,2,1]\n",
    "- Output: 6\n",
    "\n",
    "### Constraints:\n",
    "- n == height.length\n",
    "- 1 <= n <= 2 * 104\n",
    "- 0 <= height[i] <= 105\n",
    "\n",
    "### Solution:"
   ],
   "metadata": {}
  },
  {
   "cell_type": "code",
   "execution_count": 1,
   "source": [
    "'''\n",
    "IDEA:\n",
    "    For each element in elevation map, get max_left and max_right. \n",
    "    If element larger then min(max_left, max_right) it can trap water.\n",
    "Complexity:\n",
    "    Runtime Complexity: O(n^2)\n",
    "    Space Complexity: O(1)\n",
    "'''\n",
    "\n",
    "def trap(height: list) -> int:\n",
    "    res = 0\n",
    "    for i in range(1, len(height) - 1):\n",
    "        left_max = max(height[:i])\n",
    "        right_max = max(height[i+1:])\n",
    "        if right_max > height[i] and left_max > height[i]:\n",
    "            res += min(left_max, right_max) - height[i]\n",
    "    return res\n",
    "\n",
    "assert trap([4,2,0,3,2,5]) == 9\n",
    "assert trap([0,1,0,2,1,0,1,3,2,1,2,1]) == 6"
   ],
   "outputs": [],
   "metadata": {}
  },
  {
   "cell_type": "code",
   "execution_count": 2,
   "source": [
    "'''\n",
    "Time Complexity: O(n)\n",
    "'''\n",
    "def trap(height: list) -> int:\n",
    "    res = 0\n",
    "    left, right = 0, len(height) - 1\n",
    "    max_left, max_right = 0, 0\n",
    "    \n",
    "    while left < right:\n",
    "        if height[left] <= height[right]:\n",
    "            if height[left] > max_left:\n",
    "                max_left = height[left]\n",
    "            else:\n",
    "                res += max_left - height[left]\n",
    "            left +=1\n",
    "        else:\n",
    "            if height[right] > max_right:\n",
    "                max_right = height[right]\n",
    "            else:\n",
    "                res += max_right - height[right]\n",
    "            right -=1\n",
    "    return res\n",
    "\n",
    "assert trap([4,2,0,3,2,5]) == 9\n",
    "assert trap([0,1,0,2,1,0,1,3,2,1,2,1]) == 6"
   ],
   "outputs": [],
   "metadata": {}
  }
 ],
 "metadata": {
  "orig_nbformat": 4,
  "language_info": {
   "name": "python",
   "version": "3.10.0",
   "mimetype": "text/x-python",
   "codemirror_mode": {
    "name": "ipython",
    "version": 3
   },
   "pygments_lexer": "ipython3",
   "nbconvert_exporter": "python",
   "file_extension": ".py"
  },
  "kernelspec": {
   "name": "python3",
   "display_name": "Python 3.10.0 64-bit"
  },
  "interpreter": {
   "hash": "aee8b7b246df8f9039afb4144a1f6fd8d2ca17a180786b69acc140d282b71a49"
  }
 },
 "nbformat": 4,
 "nbformat_minor": 2
}