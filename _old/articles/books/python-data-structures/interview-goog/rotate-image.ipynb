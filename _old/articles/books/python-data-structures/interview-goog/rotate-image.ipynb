{
 "cells": [
  {
   "cell_type": "markdown",
   "source": [
    "# Rotate Image\n",
    "You are given an n x n 2D matrix representing an image, rotate the image by 90 degrees (clockwise).\n",
    "You have to rotate the image in-place, which means you have to modify the input 2D matrix directly. DO NOT allocate another 2D matrix and do the rotation.\n",
    "\n",
    "### Example 1:\n",
    "- Input: matrix = [[1,2,3],[4,5,6],[7,8,9]]\n",
    "- Output: [[7,4,1],[8,5,2],[9,6,3]]\n",
    "<table width=\"512px\">\n",
    "  <tr>\n",
    "    <td><img src=\"../images/rotate-image.png\" /></td>\n",
    "  </tr>\n",
    "</table>\n",
    "\n",
    "### Solution"
   ],
   "metadata": {}
  },
  {
   "cell_type": "code",
   "execution_count": 24,
   "source": [
    "'''\n",
    "IDEA1:\n",
    "    We can do the required operation in two steps: 1. rows -> columns 2. mirror columns\n",
    "Analysis:\n",
    "    Time Complexity is O(M)\n",
    "    Space Complexity is O(1)\n",
    "'''\n",
    "from typing import List\n",
    "\n",
    "\n",
    "def rows_to_cols(m: List[List[int]]):\n",
    "    for i in range(len(m)):\n",
    "        for j in range(i + 1, len(m[i])):\n",
    "            m[j][i], m[i][j] = m[i][j], m[j][i]\n",
    "\n",
    "\n",
    "def mirror_cols(m: List[List[int]]):\n",
    "    cols = len(m[0])\n",
    "    for row in range(len(m)):\n",
    "        for col in range(cols // 2):\n",
    "            m[row][col], m[row][cols - 1 - col] = m[row][cols - 1 - col], m[row][col]\n",
    "\n",
    "\n",
    "m = [[1,2,3],[4,5,6],[7,8,9]]\n",
    "rows_to_cols(m)\n",
    "mirror_cols(m)\n",
    "\n",
    "print(m)"
   ],
   "outputs": [
    {
     "output_type": "stream",
     "name": "stdout",
     "text": [
      "[[7, 4, 1], [8, 5, 2], [9, 6, 3]]\n"
     ]
    }
   ],
   "metadata": {}
  }
 ],
 "metadata": {
  "orig_nbformat": 4,
  "language_info": {
   "name": "python",
   "version": "3.10.0",
   "mimetype": "text/x-python",
   "codemirror_mode": {
    "name": "ipython",
    "version": 3
   },
   "pygments_lexer": "ipython3",
   "nbconvert_exporter": "python",
   "file_extension": ".py"
  },
  "kernelspec": {
   "name": "python3",
   "display_name": "Python 3.10.0 64-bit"
  },
  "interpreter": {
   "hash": "aee8b7b246df8f9039afb4144a1f6fd8d2ca17a180786b69acc140d282b71a49"
  }
 },
 "nbformat": 4,
 "nbformat_minor": 2
}