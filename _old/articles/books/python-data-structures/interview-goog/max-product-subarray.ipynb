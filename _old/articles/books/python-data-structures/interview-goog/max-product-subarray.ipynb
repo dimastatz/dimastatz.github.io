{
 "cells": [
  {
   "cell_type": "markdown",
   "source": [
    "# Maximum Product Subarray\n",
    "Given an integer array nums, find a contiguous non-empty subarray within the array that has the largest product, and return the product. The test cases are generated so that the answer will fit in a 32-bit integer.\n",
    "A subarray is a contiguous subsequence of the array.\n",
    "\n",
    "### Example 1:\n",
    "- Input: nums = [2,3,-2,4]\n",
    "- Output: 6\n",
    "- Explanation: [2,3] has the largest product 6.\n",
    "\n",
    "### Example 2:\n",
    "- Input: nums = [-2,0,-1]\n",
    "- Output: 0\n",
    "- Explanation: The result cannot be 2, because [-2,-1] is not a subarray.\n",
    "\n",
    "### Constraints:\n",
    "- 1 <= nums.length <= 2 * 10^4\n",
    "- -10 <= nums[i] <= 10\n",
    "- The product of any prefix or suffix of nums is guaranteed to fit in a 32-bit integer."
   ],
   "metadata": {}
  },
  {
   "cell_type": "code",
   "execution_count": 16,
   "source": [
    "'''\n",
    "IDEA 1: akka brute force.\n",
    "    For each subarray calculate product and return the max. Time Complexity of O(n^2)\n",
    "'''\n",
    "\n",
    "def max_prod(nums: list) -> list:\n",
    "    res = None\n",
    "    for i in range(len(nums)):\n",
    "        curr = 1\n",
    "        for j in range(i, len(nums)):\n",
    "            curr *= nums[j]\n",
    "            if res is None or curr > res:\n",
    "                res = curr\n",
    "    return res \n",
    "\n",
    "assert max_prod([-2,0,-1]) == 0\n",
    "assert max_prod([2,3,-2,4]) == 6\n",
    "\n"
   ],
   "outputs": [],
   "metadata": {}
  },
  {
   "cell_type": "code",
   "execution_count": 17,
   "source": [
    "'''\n",
    "IDEA 2: DP\n",
    "    Prod is monotonic increasing function with two special cases 0 and negative \n",
    "    number. When 0 we just start from beginning. When negative, we keep track of it\n",
    "    and when we encounter next negative, we flip the min and max.\n",
    "'''\n",
    "\n",
    "def max_prod(nums: list) -> int:\n",
    "    if len(nums) == 0:\n",
    "        return 0\n",
    "    else:\n",
    "        res, mx, mn = nums[0], nums[0], nums[0]\n",
    "\n",
    "        for curr in nums[1:]:\n",
    "            tmp = max(curr, mx * curr, mn * curr)\n",
    "            mn = min(curr, mx * curr, mn * curr)\n",
    "            mx = tmp\n",
    "            res = max(mx, res)\n",
    "    return res\n",
    "\n",
    "assert max_prod([-2,0,-1]) == 0\n",
    "assert max_prod([2,3,-2,4]) == 6"
   ],
   "outputs": [
    {
     "output_type": "error",
     "ename": "TypeError",
     "evalue": "max_prod() missing 1 required positional argument: 'nums'",
     "traceback": [
      "\u001b[0;31m---------------------------------------------------------------------------\u001b[0m",
      "\u001b[0;31mTypeError\u001b[0m                                 Traceback (most recent call last)",
      "\u001b[0;32m/var/folders/br/hzvrvh5s3md8fzgyk_xvdh1w0000gq/T/ipykernel_11782/2492418287.py\u001b[0m in \u001b[0;36m<module>\u001b[0;34m\u001b[0m\n\u001b[1;32m     19\u001b[0m     \u001b[0;32mreturn\u001b[0m \u001b[0mres\u001b[0m\u001b[0;34m\u001b[0m\u001b[0;34m\u001b[0m\u001b[0m\n\u001b[1;32m     20\u001b[0m \u001b[0;34m\u001b[0m\u001b[0m\n\u001b[0;32m---> 21\u001b[0;31m \u001b[0;32massert\u001b[0m \u001b[0mmax_prod\u001b[0m\u001b[0;34m(\u001b[0m\u001b[0;34m[\u001b[0m\u001b[0;34m-\u001b[0m\u001b[0;36m2\u001b[0m\u001b[0;34m,\u001b[0m\u001b[0;36m0\u001b[0m\u001b[0;34m,\u001b[0m\u001b[0;34m-\u001b[0m\u001b[0;36m1\u001b[0m\u001b[0;34m]\u001b[0m\u001b[0;34m)\u001b[0m \u001b[0;34m==\u001b[0m \u001b[0;36m0\u001b[0m\u001b[0;34m\u001b[0m\u001b[0;34m\u001b[0m\u001b[0m\n\u001b[0m\u001b[1;32m     22\u001b[0m \u001b[0;32massert\u001b[0m \u001b[0mmax_prod\u001b[0m\u001b[0;34m(\u001b[0m\u001b[0;34m[\u001b[0m\u001b[0;36m2\u001b[0m\u001b[0;34m,\u001b[0m\u001b[0;36m3\u001b[0m\u001b[0;34m,\u001b[0m\u001b[0;34m-\u001b[0m\u001b[0;36m2\u001b[0m\u001b[0;34m,\u001b[0m\u001b[0;36m4\u001b[0m\u001b[0;34m]\u001b[0m\u001b[0;34m)\u001b[0m \u001b[0;34m==\u001b[0m \u001b[0;36m6\u001b[0m\u001b[0;34m\u001b[0m\u001b[0;34m\u001b[0m\u001b[0m\n",
      "\u001b[0;31mTypeError\u001b[0m: max_prod() missing 1 required positional argument: 'nums'"
     ]
    }
   ],
   "metadata": {}
  }
 ],
 "metadata": {
  "orig_nbformat": 4,
  "language_info": {
   "name": "python",
   "version": "3.10.0",
   "mimetype": "text/x-python",
   "codemirror_mode": {
    "name": "ipython",
    "version": 3
   },
   "pygments_lexer": "ipython3",
   "nbconvert_exporter": "python",
   "file_extension": ".py"
  },
  "kernelspec": {
   "name": "python3",
   "display_name": "Python 3.10.0 64-bit"
  },
  "interpreter": {
   "hash": "aee8b7b246df8f9039afb4144a1f6fd8d2ca17a180786b69acc140d282b71a49"
  }
 },
 "nbformat": 4,
 "nbformat_minor": 2
}