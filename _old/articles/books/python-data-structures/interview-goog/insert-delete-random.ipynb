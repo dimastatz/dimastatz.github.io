{
 "cells": [
  {
   "cell_type": "markdown",
   "source": [
    "# Insert Delete GetRandom O(1)\n",
    "Implement the RandomizedSet class:\n",
    "- RandomizedSet() Initializes the RandomizedSet object.\n",
    "- bool insert(int val) Inserts an item val into the set if not present. Returns true if the item was not present, false otherwise.\n",
    "- bool remove(int val) Removes an item val from the set if present. Returns true if the item was present, false otherwise.\n",
    "- int getRandom() Returns a random element from the current set of elements (it's guaranteed that at least one element exists when this method is called). Each element must have the same probability of being returned.\n",
    "You must implement the functions of the class such that each function works in average O(1) time complexity.\n",
    "\n",
    "### Example 1:\n",
    "- Input \n",
    "[\"RandomizedSet\", \"insert\", \"remove\", \"insert\", \"getRandom\", \"remove\", \"insert\", \"getRandom\"]\n",
    "[[], [1], [2], [2], [], [1], [2], []]\n",
    "- Output\n",
    "[null, true, false, true, 2, true, false, 2]\n",
    "\n",
    "- Explanation\n",
    "    - RandomizedSet randomizedSet = new RandomizedSet();\n",
    "    - randomizedSet.insert(1); // Inserts 1 to the set. Returns true as 1 was inserted successfully.\n",
    "    - randomizedSet.remove(2); // Returns false as 2 does not exist in the set.\n",
    "    - randomizedSet.insert(2); // Inserts 2 to the set, returns true. Set now contains [1,2].\n",
    "    - randomizedSet.getRandom(); // getRandom() should return either 1 or 2 randomly.\n",
    "    - randomizedSet.remove(1); // Removes 1 from the set, returns true. Set now contains [2].\n",
    "    - randomizedSet.insert(2); // 2 was already in the set, so return false.\n",
    "    - randomizedSet.getRandom(); // Since 2 is the only number in the set, getRandom() will always return 2.\n",
    "\n",
    "## Solution"
   ],
   "metadata": {}
  },
  {
   "cell_type": "code",
   "execution_count": null,
   "source": [
    "'''\n",
    "IDEA:\n",
    "    Track all inserts and removes in dict. All operations will be done in O(1)\n",
    "    In order to support get_random, we will use list. Each new item will be added to the list first\n",
    "    and then to the dicitionary. In Dictionary the value will serve as the key and index in the array as the value. \n",
    "    When performing get_random we will select randomly an element of the list. \n",
    "    When removing, we will remove the key from array and we will move the last list element to the free slot.\n",
    "    Finally we will remove the value from the dicitinary\n",
    "'''\n",
    "import random\n",
    "\n",
    "class RandomizedSet:\n",
    "\n",
    "    def __init__(self):\n",
    "        self.items = {}\n",
    "        self.keys = []\n",
    "        \n",
    "    def insert(self, val: int) -> bool:\n",
    "        if val in self.items:\n",
    "            return False\n",
    "        else:\n",
    "            self.keys.append(val)\n",
    "            self.items[val] = len(self.keys) - 1\n",
    "            return True\n",
    "\n",
    "    def remove(self, val: int) -> bool:\n",
    "        if val in self.items:\n",
    "            last_element, idx = self.keys[-1], self.items[val]\n",
    "            self.keys[idx], self.items[last_element] = last_element, idx\n",
    "          \n",
    "            self.keys.pop()\n",
    "            del self.items[val]\n",
    "            return True\n",
    "        return False\n",
    "\n",
    "    def getRandom(self) -> int:\n",
    "        return random.choice(self.keys)"
   ],
   "outputs": [],
   "metadata": {}
  }
 ],
 "metadata": {
  "orig_nbformat": 4,
  "language_info": {
   "name": "python",
   "version": "3.10.0"
  },
  "kernelspec": {
   "name": "python3",
   "display_name": "Python 3.10.0 64-bit"
  },
  "interpreter": {
   "hash": "aee8b7b246df8f9039afb4144a1f6fd8d2ca17a180786b69acc140d282b71a49"
  }
 },
 "nbformat": 4,
 "nbformat_minor": 2
}