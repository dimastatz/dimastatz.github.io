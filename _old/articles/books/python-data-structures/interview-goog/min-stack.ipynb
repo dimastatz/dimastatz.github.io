{
 "cells": [
  {
   "cell_type": "markdown",
   "source": [
    "# Min Stack\n",
    "Design a stack that supports push, pop, top, and retrieving the minimum element in constant time.\n",
    "Implement the MinStack class:\n",
    "- MinStack() initializes the stack object.\n",
    "- void push(int val) pushes the element val onto the stack.\n",
    "- void pop() removes the element on the top of the stack.\n",
    "- int top() gets the top element of the stack.\n",
    "- int getMin() retrieves the minimum element in the stack.\n",
    " \n",
    "### Example 1:\n",
    "- Input\n",
    "[\"MinStack\",\"push\",\"push\",\"push\",\"getMin\",\"pop\",\"top\",\"getMin\"]\n",
    "[[],[-2],[0],[-3],[],[],[],[]]\n",
    "- Output\n",
    "[null,null,null,null,-3,null,0,-2]\n",
    "- Explanation\n",
    "    - MinStack minStack = new MinStack();\n",
    "    - minStack.push(-2);\n",
    "    - minStack.push(0);\n",
    "    - minStack.push(-3);\n",
    "    - minStack.getMin(); // return -3\n",
    "    - minStack.pop();\n",
    "    - minStack.top();    // return 0\n",
    "    - minStack.getMin(); // return -2\n",
    " \n",
    "### Constraints:\n",
    "- -231 <= val <= 231 - 1\n",
    "- Methods pop, top and getMin operations will always be called on non-empty stacks.\n",
    "- At most 3 * 104 calls will be made to push, pop, top, and getMin."
   ],
   "metadata": {}
  },
  {
   "cell_type": "code",
   "execution_count": 2,
   "source": [
    "'''\n",
    "IDEA: \n",
    "    The idea is to create stack where each element is tuple of 2 (val, min_val).\n",
    "    For example when pushing to the stack 5, 4, 6, 2 the stack state is as follows:\n",
    "    (5,5) (4, 4) (6, 4) (2, 2) \n",
    "\n",
    "ANALYSIS:\n",
    "    All operations in O(1)\n",
    "'''\n",
    "class MinStack:\n",
    "    def __init__(self):\n",
    "        self.stack = []\n",
    "        \n",
    "    def push(self, val: int) -> None:\n",
    "        if not self.stack:\n",
    "            self.stack.append((val, val))\n",
    "        else:\n",
    "            self.stack.append((val, min(val, self.getMin())))\n",
    "        \n",
    "    def pop(self) -> None:\n",
    "        self.stack.pop()\n",
    "        \n",
    "    def top(self) -> int:\n",
    "        return self.stack[-1][0]\n",
    "        \n",
    "    def getMin(self) -> int:\n",
    "        return self.stack[-1][1]"
   ],
   "outputs": [],
   "metadata": {}
  }
 ],
 "metadata": {
  "orig_nbformat": 4,
  "language_info": {
   "name": "python",
   "version": "3.10.0",
   "mimetype": "text/x-python",
   "codemirror_mode": {
    "name": "ipython",
    "version": 3
   },
   "pygments_lexer": "ipython3",
   "nbconvert_exporter": "python",
   "file_extension": ".py"
  },
  "kernelspec": {
   "name": "python3",
   "display_name": "Python 3.10.0 64-bit"
  },
  "interpreter": {
   "hash": "aee8b7b246df8f9039afb4144a1f6fd8d2ca17a180786b69acc140d282b71a49"
  }
 },
 "nbformat": 4,
 "nbformat_minor": 2
}