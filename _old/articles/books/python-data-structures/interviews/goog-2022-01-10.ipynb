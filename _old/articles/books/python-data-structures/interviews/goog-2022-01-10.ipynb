{
 "cells": [
  {
   "cell_type": "markdown",
   "source": [
    "# Goog Screening [2022-01-10] [?]\n",
    "\n",
    "## Q1: Design and Implement solution for managing stock prices.\n",
    "Provide solution for managing stock prices. You should support following methods\n",
    "```Python\n",
    "def update_price(time: int, price: float):\n",
    "    pass\n",
    "\n",
    "def delete_price(time: int):\n",
    "    pass\n",
    "\n",
    "def get_last_price():\n",
    "    pass\n",
    "\n",
    "def get_min_price():\n",
    "    pass\n",
    "\n",
    "``` \n",
    "Methods get_max_price, get_min_price, get_last_price are called frequently and delete_price and update_price once in a while.\n",
    "\n",
    "## Solution\n",
    "\n",
    "### Intuition\n",
    "In order to support delete and back date updates we have to keep track of (prices history, current and min). When adding a new price we just update this tuple in O(1). When deleting or doing back date update we have to delete the price from the ledger and update min, and current by scanning the ledger. It takes O(n). \n",
    "Another approach is to keep the ledger (pyton dict) and track of mins in heap.  "
   ],
   "metadata": {}
  },
  {
   "cell_type": "code",
   "execution_count": 1,
   "source": [
    "# Solution 1\n",
    "\n",
    "from typing import Tuple\n",
    "\n",
    "class StockPrice:\n",
    "    def __init__(self) -> None:\n",
    "        self.price_history: dict = {}\n",
    "        self.min_price: Tuple[int, float] = None\n",
    "        self.last_price: Tuple[int, float] = None\n",
    "\n",
    "    def get_min_price(self) -> float:\n",
    "        return self.min_price[1]\n",
    "\n",
    "    def get_last_price(self) -> float:\n",
    "        return self.last_price[1]\n",
    "\n",
    "    def update_price(self, time: int, price: float):\n",
    "        if time in self.price_history:\n",
    "            old_price = self.price_history[time]\n",
    "            self.price_history[time] = price\n",
    "\n",
    "            if old_price == self.min_price[1]:\n",
    "                min_price = min((x for x in self.price_history.items()), key=lambda x: x[1])\n",
    "                self.min_price = min_price\n",
    "\n",
    "            if time == self.last_price[0]:\n",
    "                self.last_price = (time, price)\n",
    "\n",
    "        else:\n",
    "            self.price_history[time] = price\n",
    "            self.last_price = (time, price)\n",
    "            if self.min_price[1] > price:\n",
    "                self.min_price = (time, price)\n",
    "\n",
    "    def delete_price(self, time: int):\n",
    "        old_price = self.price_history[time]\n",
    "        del self.price_history[time]\n",
    "\n",
    "        if old_price == self.min_price[1]:\n",
    "            min_price = min((x for x in self.price_history.items()), key=lambda x: x[1])\n",
    "            self.min_price = min_price\n",
    "        \n",
    "        if time == self.last_price[0]:\n",
    "            last_price = max((x for x in self.price_history.items()), key=lambda x: x[0])\n",
    "            self.last_price = last_price\n",
    "\n"
   ],
   "outputs": [],
   "metadata": {}
  },
  {
   "cell_type": "markdown",
   "source": [
    "## Analysis\n",
    "- Time Complexity\n",
    "    - get_min_price and get_last_price in O(1)\n",
    "    - delete_price in O(n)\n",
    "    - update_price in O(n) when updating the existing price"
   ],
   "metadata": {}
  },
  {
   "cell_type": "code",
   "execution_count": null,
   "source": [
    "# Solution 2 (Efficient)"
   ],
   "outputs": [],
   "metadata": {}
  },
  {
   "cell_type": "code",
   "execution_count": null,
   "source": [
    "import heapq\n",
    "\n",
    "class StockPrice:    \n",
    "    def __init__(self):\n",
    "        self.prices = {}\n",
    "        self.min_heap = []\n",
    "        self.max_heap = []\n",
    "        self.last_ts = None\n",
    "        \n",
    "    def update(self, timestamp: int, price: int) -> None:\n",
    "        self.prices[timestamp] = price\n",
    "        \n",
    "        if not self.last_ts or  self.last_ts < timestamp:\n",
    "            self.last_ts = timestamp\n",
    "            \n",
    "        heapq.heappush(self.min_heap, (price, timestamp))\n",
    "        heapq.heappush(self.max_heap, (-price, timestamp))\n",
    "        \n",
    "          \n",
    "    def current(self) -> int:\n",
    "        return self.prices[self.last_ts]\n",
    "\n",
    "    def maximum(self) -> int:\n",
    "        while self.max_heap[0][0] != -self.prices[self.max_heap[0][1]]: \n",
    "            heapq.heappop(self.max_heap)\n",
    "        return -self.max_heap[0][0]\n",
    "\n",
    "    def minimum(self) -> int:\n",
    "        while self.min_heap[0][0] != self.prices[self.min_heap[0][1]]: \n",
    "            heapq.heappop(self.min_heap)\n",
    "        return self.min_heap[0][0]"
   ],
   "outputs": [],
   "metadata": {}
  },
  {
   "cell_type": "markdown",
   "source": [
    "Analysis:\n",
    "- Time Complexity: \n",
    "    - Update: O(1)\n",
    "    - Current: O(1)\n",
    "    - Min/Max: O(n) in the worst case. In avarage case it will be O(1) (when backupdates aren't frequent)\n",
    "    "
   ],
   "metadata": {}
  }
 ],
 "metadata": {
  "orig_nbformat": 4,
  "language_info": {
   "name": "python",
   "version": "3.10.0",
   "mimetype": "text/x-python",
   "codemirror_mode": {
    "name": "ipython",
    "version": 3
   },
   "pygments_lexer": "ipython3",
   "nbconvert_exporter": "python",
   "file_extension": ".py"
  },
  "kernelspec": {
   "name": "python3",
   "display_name": "Python 3.10.0 64-bit"
  },
  "interpreter": {
   "hash": "aee8b7b246df8f9039afb4144a1f6fd8d2ca17a180786b69acc140d282b71a49"
  }
 },
 "nbformat": 4,
 "nbformat_minor": 2
}