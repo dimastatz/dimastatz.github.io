{
 "cells": [
  {
   "cell_type": "markdown",
   "source": [
    "# Reorder Log Files\n",
    "You are given an array of logs. Each log is a space-delimited string of words, where the first word is the identifier.\n",
    "\n",
    "There are two types of logs:\n",
    "- Letter-logs: All words (except the identifier) consist of lowercase English letters.\n",
    "- Digit-logs: All words (except the identifier) consist of digits.\n",
    "\n",
    "Reorder these logs so that:\n",
    "- The letter-logs come before all digit-logs.\n",
    "- The letter-logs are sorted lexicographically by their contents. If their contents are the same, then sort them - lexicographically by their identifiers.\n",
    "- The digit-logs maintain their relative ordering.\n",
    "Return the final order of the logs."
   ],
   "metadata": {}
  },
  {
   "cell_type": "code",
   "execution_count": 14,
   "source": [
    "'''\n",
    "Example 1:\n",
    "    [\"dig1 8 1 5 1\",\"let1 art can\",\"dig2 3 6\",\"let2 own kit dig\",\"let3 art zero\"] ->\n",
    "    [\"let1 art can\",\"let3 art zero\",\"let2 own kit dig\",\"dig1 8 1 5 1\",\"dig2 3 6\"]\n",
    "Explanation:\n",
    "    The letter-log contents are all different, so their ordering is \"art can\", \"art zero\", \"own kit dig\".\n",
    "    The digit-logs have a relative order of \"dig1 8 1 5 1\", \"dig2 3 6\". \n",
    "\n",
    "Example 2:\n",
    "    [\"a1 9 2 3 1\",\"g1 act car\",\"zo4 4 7\",\"ab1 off key dog\",\"a8 act zoo\"] ->\n",
    "    [\"g1 act car\",\"a8 act zoo\",\"ab1 off key dog\",\"a1 9 2 3 1\",\"zo4 4 7\"]\n",
    "\n",
    "IDEA:\n",
    "    Create two dictionaries. One for letter logs and another one for didgit logs\n",
    "    Loop on log list and split by ' '. If parts[1] is int put ther result to digit logs, otherwise \n",
    "    to the letter logs. Sort letter logs by the content. and by identifiers\n",
    "    Merge two dictionaries, when letters first\n",
    "\n",
    "Analysis\n",
    "    Time Complexity: O(n*log(n))\n",
    "    Space Complexity: O(n)\n",
    "'''\n",
    "\n",
    "def reorder_logs(logs: list) -> list:\n",
    "    letters, digits = [], []\n",
    "    for log in logs:\n",
    "        parts = log.split(' ')\n",
    "        current = digits if parts[1].isnumeric() else letters\n",
    "        current.append((parts[0], ' '.join(parts[1:])))\n",
    "        \n",
    "    res_letters = ['{} {}'.format(x[0], x[1]) for x in sorted(letters, key=lambda x: (x[1], x[0]))]\n",
    "    res_digits = ['{} {}'.format(x[0], x[1]) for x in digits]\n",
    "    return res_letters + res_digits\n",
    "\n",
    "\n",
    "assert(reorder_logs([\"dig1 8 1 5 1\",\"let1 art can\",\"dig2 3 6\",\"let2 own kit dig\",\"let3 art zero\"])   \n",
    "    == [\"let1 art can\",\"let3 art zero\",\"let2 own kit dig\",\"dig1 8 1 5 1\",\"dig2 3 6\"])\n",
    "assert(reorder_logs([\"a1 9 2 3 1\",\"g1 act car\",\"zo4 4 7\",\"ab1 off key dog\",\"a8 act zoo\"])   \n",
    "    == [\"g1 act car\",\"a8 act zoo\",\"ab1 off key dog\",\"a1 9 2 3 1\",\"zo4 4 7\"])\n"
   ],
   "outputs": [],
   "metadata": {}
  }
 ],
 "metadata": {
  "orig_nbformat": 4,
  "language_info": {
   "name": "python",
   "version": "3.10.0",
   "mimetype": "text/x-python",
   "codemirror_mode": {
    "name": "ipython",
    "version": 3
   },
   "pygments_lexer": "ipython3",
   "nbconvert_exporter": "python",
   "file_extension": ".py"
  },
  "kernelspec": {
   "name": "python3",
   "display_name": "Python 3.10.0 64-bit"
  },
  "interpreter": {
   "hash": "aee8b7b246df8f9039afb4144a1f6fd8d2ca17a180786b69acc140d282b71a49"
  }
 },
 "nbformat": 4,
 "nbformat_minor": 2
}