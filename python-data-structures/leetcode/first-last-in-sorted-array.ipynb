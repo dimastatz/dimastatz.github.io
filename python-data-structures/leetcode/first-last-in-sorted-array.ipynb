{
 "cells": [
  {
   "cell_type": "markdown",
   "source": [
    "# Find First and Last Position of Element in Sorted Array\n",
    "Given an array of integers nums sorted in non-decreasing order, find the starting and ending position of a given target value.\n",
    "If target is not found in the array, return [-1, -1]. You must write an algorithm with O(log n) runtime complexity.\n",
    "\n",
    "### Example 1:\n",
    "- Input: nums = [5,7,7,8,8,10], target = 8\n",
    "- Output: [3,4]\n",
    "\n",
    "### Example 2:\n",
    "- Input: nums = [5,7,7,8,8,10], target = 6\n",
    "- Output: [-1,-1]\n",
    "\n",
    "### Example 3:\n",
    "- Input: nums = [], target = 0\n",
    "- Output: [-1,-1]\n",
    "\n",
    "### Constraints:\n",
    "- 0 <= nums.length <= 10^5\n",
    "- -10^9 <= nums[i] <= 10^9\n",
    "- nums is a non-decreasing array.\n",
    "- -10^9 <= target <= 10^9\n",
    "\n",
    "## Solution\n",
    "\n",
    "### Intuition\n",
    "Perform two binary search on sorted array. One to search for the first appearence and the second one for the second\n",
    "\n",
    "### Implementation\n"
   ],
   "metadata": {}
  },
  {
   "cell_type": "code",
   "execution_count": null,
   "source": [
    "def binary_search(nums: list, start, stop, target, is_first=True) -> list:\n",
    "    if start > stop:\n",
    "        return -1\n",
    "    else:\n",
    "        mid = start + (stop - start) // 2\n",
    "        \n",
    "        if nums[mid] == target and is_first and (mid == 0 or nums[mid] > nums[mid-1]):\n",
    "            return mid\n",
    "        elif nums[mid] == target and not is_first and (mid == len(nums) - 1 or nums[mid] < nums[mid+1]):\n",
    "            return mid\n",
    "        else:\n",
    "            left = binary_search(nums, start, mid - 1, target, is_first)\n",
    "            right = binary_search(nums, mid + 1, stop, target, is_first)\n",
    "            return max(left, right)\n",
    "\n",
    "\n",
    "def get_range(nums: list, target: int) -> list:\n",
    "    return [\n",
    "        binary_search(nums, 0, len(nums) -1, target, True), \n",
    "        binary_search(nums, 0, len(nums) -1, target, False)]"
   ],
   "outputs": [],
   "metadata": {}
  },
  {
   "cell_type": "markdown",
   "source": [
    "# Analysis:\n",
    "Time Complexity: O(Log n)\n",
    "Space Complexity: O(1)\n"
   ],
   "metadata": {}
  }
 ],
 "metadata": {
  "orig_nbformat": 4,
  "language_info": {
   "name": "python",
   "version": "3.10.0"
  },
  "kernelspec": {
   "name": "python3",
   "display_name": "Python 3.10.0 64-bit"
  },
  "interpreter": {
   "hash": "aee8b7b246df8f9039afb4144a1f6fd8d2ca17a180786b69acc140d282b71a49"
  }
 },
 "nbformat": 4,
 "nbformat_minor": 2
}