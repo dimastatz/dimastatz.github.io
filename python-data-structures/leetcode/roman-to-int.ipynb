{
 "cells": [
  {
   "cell_type": "markdown",
   "source": [
    "# Roman to Integer\n",
    "Roman numerals are represented by seven different symbols: I, V, X, L, C, D and M.\n",
    "- I -> 1\n",
    "- V -> 5\n",
    "- X -> 10\n",
    "- L -> 50\n",
    "- C -> 100\n",
    "- D -> 500\n",
    "- M -> 1000  \n",
    "\n",
    "For example, 2 is written as II in Roman numeral, just two one's added together. 12 is written as XII, which is simply X + II. The number 27 is written as XXVII, which is XX + V + II.\n",
    "Roman numerals are usually written largest to smallest from left to right. However, the numeral for four is not IIII. Instead, the number four is written as IV. Because the one is before the five we subtract it making four. The same principle applies to the number nine, which is written as IX. There are six instances where subtraction is used:\n",
    "- I can be placed before V (5) and X (10) to make 4 and 9. \n",
    "- X can be placed before L (50) and C (100) to make 40 and 90. \n",
    "- C can be placed before D (500) and M (1000) to make 400 and 900.  \n",
    "\n",
    "Given a roman numeral, convert it to an integer.\n",
    "\n",
    "### Example 1:\n",
    "Input: s = \"III\"  \n",
    "Output: 3  \n",
    "Explanation: III = 3.  \n",
    "\n",
    "### Example 2:\n",
    "Input: s = \"LVIII\"  \n",
    "Output: 58  \n",
    "Explanation: L = 50, V= 5, III = 3.  \n",
    "\n",
    "### Example 3:\n",
    "Input: s = \"MCMXCIV\"  \n",
    "Output: 1994  \n",
    "Explanation: M = 1000, CM = 900, XC = 90 and IV = 4.  \n",
    "\n",
    "### Constraints:\n",
    "1 <= s.length <= 15  \n",
    "s contains only the characters ('I', 'V', 'X', 'L', 'C', 'D', 'M').  \n",
    "It is guaranteed that s is a valid roman numeral in the range [1, 3999].  \n",
    "\n",
    "## Solution\n",
    "\n",
    "### Intuition\n",
    "Loop through chars in input string. If char is found in predefined dictionary {'M': 1000, 'D': 500, 'C': 100 } take the corresponding number and add to result. Some cases are speacial. For exampe by using the described loging, parsing the IV will give 6 instead of 4. In order to avoid it, we will extend the predefined dictionary to contain 'special' pairs also. For example { 'I': 1, 'IV': 4, 'V': 5, 'IX': 9, 'X': 10 ...}. \n",
    "\n",
    "### Implementation\n"
   ],
   "metadata": {}
  },
  {
   "cell_type": "code",
   "execution_count": 17,
   "source": [
    "def roman_to_int(s: str) -> int:\n",
    "    roman = {\n",
    "        'I': 1, 'IV': 4, 'V': 5, 'IX': 9, 'X': 10, 'XL': 40, 'L': 50, 'XC': 90, \n",
    "        'C': 100, 'CD': 400, 'D': 500, 'CM': 900, 'M': 1000 \n",
    "    }\n",
    "\n",
    "    res, i = 0, 0\n",
    "    while i < len(s):\n",
    "        if i + 1 < len(s) and s[i: i + 2] in roman:\n",
    "            num = roman[s[i: i + 2]]\n",
    "            i += 2\n",
    "        elif s[i] in roman:\n",
    "            num = roman[s[i]]\n",
    "            i += 1\n",
    "\n",
    "        if num == 0:\n",
    "            raise Exception('Illgeal char ' + s[i])\n",
    "\n",
    "        res += num\n",
    "\n",
    "    return res    \n",
    "\n",
    "assert roman_to_int('III') == 3\n",
    "assert roman_to_int('LVIII') == 58\n",
    "assert roman_to_int('MCMXCIV') == 1994"
   ],
   "outputs": [],
   "metadata": {}
  },
  {
   "cell_type": "markdown",
   "source": [
    "### Complexity Analysis\n",
    "- Time Complexity: O(n) as we loop through the string only once\n",
    "- Space Complexity: O(n) as we maintain a dictionary will all roman numbers\n",
    "\n",
    "### LeetCode output\n",
    "- Success\n",
    "- Runtime: 40 ms, faster than 90.1% of Python3 online submissions for Roman to Integer.\n",
    "- Memory Usage: 14.3 MB, less than 59.65% of Python3 online submissions for Roman to Integer."
   ],
   "metadata": {}
  }
 ],
 "metadata": {
  "orig_nbformat": 4,
  "language_info": {
   "name": "python",
   "version": "3.10.0",
   "mimetype": "text/x-python",
   "codemirror_mode": {
    "name": "ipython",
    "version": 3
   },
   "pygments_lexer": "ipython3",
   "nbconvert_exporter": "python",
   "file_extension": ".py"
  },
  "kernelspec": {
   "name": "python3",
   "display_name": "Python 3.10.0 64-bit"
  },
  "interpreter": {
   "hash": "aee8b7b246df8f9039afb4144a1f6fd8d2ca17a180786b69acc140d282b71a49"
  }
 },
 "nbformat": 4,
 "nbformat_minor": 2
}