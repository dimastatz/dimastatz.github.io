{
 "cells": [
  {
   "cell_type": "markdown",
   "source": [
    "# Longest Substring Without Repeating Characters\n",
    "Given a string s, find the length of the longest substring without repeating characters.\n",
    "\n",
    "### Example 1:\n",
    "Input: s = \"abcabcbb\"  \n",
    "Output: 3  \n",
    "Explanation: The answer is \"abc\", with the length of 3.  \n",
    "\n",
    "### Example 2:\n",
    "Input: s = \"bbbbb\"  \n",
    "Output: 1  \n",
    "Explanation: The answer is \"b\", with the length of 1.  \n",
    "\n",
    "### Example 3:\n",
    "Input: s = \"pwwkew\"  \n",
    "Output: 3  \n",
    "Explanation: The answer is \"wke\", with the length of 3.  \n",
    "Notice that the answer must be a substring, \"pwke\" is a subsequence and not a substring.  \n",
    "\n",
    "### Example 4:\n",
    "Input: s = \"\"\n",
    "Output: 0\n",
    "\n",
    "### Constraints:\n",
    "- 0 <= s.length <= 5 * 104\n",
    "- s consists of English letters, digits, symbols and spaces.\n",
    "\n",
    "## Solution"
   ],
   "metadata": {}
  },
  {
   "cell_type": "code",
   "execution_count": 28,
   "source": [
    "def get_unique_prefix(s) -> int:\n",
    "    chars = {}\n",
    "    for i, c in enumerate(s):\n",
    "        if c not in chars:\n",
    "            chars[c] = i\n",
    "        else:\n",
    "            return len(chars), chars[c] + 1\n",
    "    return len(s), len(s)\n",
    "\n",
    "\n",
    "def length_of_longest_substring(s: str) -> int:\n",
    "    if not s:\n",
    "        return 0\n",
    "    else:\n",
    "        length, idx = get_unique_prefix(s)\n",
    "        return max(length, length_of_longest_substring(s[idx:]))\n",
    "\n",
    "\n",
    "assert length_of_longest_substring('abcabcbb') == 3\n",
    "assert length_of_longest_substring('bbbbb') == 1\n",
    "assert length_of_longest_substring('pwwkew') == 3\n",
    "assert length_of_longest_substring('') == 0\n"
   ],
   "outputs": [],
   "metadata": {}
  },
  {
   "cell_type": "markdown",
   "source": [
    "## Analysis\n",
    "We scan the input string only once, so the time complexity is O(n). We track all non unique characters in hashmap and thus the Space Complexity is O(n) \n",
    "\n",
    "## LeetCode Output\n",
    "- Success \n",
    "- Runtime: 472 ms, faster than 14.23% of Python3 online submissions for Longest Substring Without Repeating Characters.\n",
    "- Memory Usage: 513.1 MB, less than 6.72% of Python3 online submissions for Longest Substring Without Repeating Characters.\n",
    "\n",
    "## Solution 2\n",
    "You can see in the LeetCode output that the provided solution is slower than 85% of submissions. And the reason for that is recursion. Recursions are great for the code conciseness and simplification. In recursion we divide a problem into subproblems of the same type and thus the implementation looks simple. But recursion's main disadvantage is slowness. Let's implement our code without recursions."
   ],
   "metadata": {}
  },
  {
   "cell_type": "code",
   "execution_count": 57,
   "source": [
    "def length_of_longest_substring(s: str) -> int:\n",
    "    start, visited, max_length = 0, {}, 0\n",
    "    \n",
    "    for end in range(len(s)):\n",
    "        if s[end] in visited:\n",
    "            if start < visited[s[end]] + 1:\n",
    "                start = visited[s[end]] + 1\n",
    "  \n",
    "        visited[s[end]] = end\n",
    "            \n",
    "        if max_length < end - start + 1:\n",
    "            max_length = end - start + 1\n",
    "    \n",
    "    return max_length\n",
    "\n",
    "\n",
    "assert length_of_longest_substring('abba') == 2\n",
    "assert length_of_longest_substring('abcabcbb') == 3\n",
    "assert length_of_longest_substring('bbbbb') == 1\n",
    "assert length_of_longest_substring('pwwkew') == 3\n",
    "assert length_of_longest_substring('') == 0\n"
   ],
   "outputs": [],
   "metadata": {}
  },
  {
   "cell_type": "markdown",
   "source": [
    "## Analysis\n",
    "- Success\n",
    "- Runtime: 56 ms, faster than 86.03% of Python3 online submissions for Longest Substring Without Repeating Characters.\n",
    "- Memory Usage: 14.4 MB, less than 25.38% of Python3 online submissions for Longest Substring Without Repeating Characters.\n",
    "\n",
    "The new implemntation has the same time complexity O(n), but on practice it is much faster. Saying that, on code interviews, always prefer the simple solution with the best time comlexity."
   ],
   "metadata": {}
  }
 ],
 "metadata": {
  "orig_nbformat": 4,
  "language_info": {
   "name": "python",
   "version": "3.10.0",
   "mimetype": "text/x-python",
   "codemirror_mode": {
    "name": "ipython",
    "version": 3
   },
   "pygments_lexer": "ipython3",
   "nbconvert_exporter": "python",
   "file_extension": ".py"
  },
  "kernelspec": {
   "name": "python3",
   "display_name": "Python 3.10.0 64-bit"
  },
  "interpreter": {
   "hash": "aee8b7b246df8f9039afb4144a1f6fd8d2ca17a180786b69acc140d282b71a49"
  }
 },
 "nbformat": 4,
 "nbformat_minor": 2
}