{
 "cells": [
  {
   "cell_type": "markdown",
   "source": [
    "# Container With Most Water\n",
    "Given n non-negative integers a1, a2, ..., an , where each represents a point at coordinate (i, ai). n vertical lines are drawn such that the two endpoints of the line i is at (i, ai) and (i, 0). Find two lines, which, together with the x-axis forms a container, such that the container contains the most water.\n",
    "- Notice that you may not slant the container.\n",
    "\n",
    "![](../images/container-with-water.png)\n",
    "\n",
    "### Example 1\n",
    "Input: height = [1,8,6,2,5,4,8,3,7]  \n",
    "Output: 49  \n",
    "Explanation: The above vertical lines are represented by array [1,8,6,2,5,4,8,3,7]. In this case, the max area of water (blue section) the container can contain is 49.  \n",
    "\n",
    "### Example 2:\n",
    "Input: height = [1,1]  \n",
    "Output: 1  \n",
    "\n",
    "### Example 3:\n",
    "Input: height = [4,3,2,1,4]  \n",
    "Output: 16  \n",
    "\n",
    "### Example 4:\n",
    "Input: height = [1,2,1]  \n",
    "Output: 2\n",
    "\n",
    "## Solution 1\n",
    "- Approach: iterate over all possible pairs, calculate the area and compare it to the max_area. If max_area is smaller than the area between pair members, replace max_area  \n",
    "- Algorithm:"
   ],
   "metadata": {}
  },
  {
   "cell_type": "code",
   "execution_count": 6,
   "source": [
    "def max_area(height: list) -> int:\n",
    "    max_area = 0\n",
    "    for i1 in range(len(height)):\n",
    "        for i2 in range(i1, len(height)):\n",
    "            area = (i2 - i1) * min(height[i1], height[i2])\n",
    "            if max_area < area:\n",
    "                max_area = area\n",
    "    return max_area\n",
    "\n",
    "\n",
    "assert max_area([1,1]) == 1\n",
    "assert max_area([1,2,1]) == 2\n",
    "assert max_area([4,3,2,1,4]) == 16\n",
    "assert max_area([1,8,6,2,5,4,8,3,7]) == 49"
   ],
   "outputs": [],
   "metadata": {}
  },
  {
   "cell_type": "markdown",
   "source": [
    "- Analysis: Such solution will run in O(n<sup>2</sup>). The question can we do better? Do we really need to iterate all possible pairs?\n",
    "\n",
    "## Solution 2\n",
    "- Approach: start with the first and last element. Calculculate the area and save it as max_area. If last element is bigger than the first, decrement the last, otherwise increment the first. Calculate the area, if it is bigger than the max_area, replace. Continue until first smaller than last.\n",
    "- Algorithm:"
   ],
   "metadata": {}
  },
  {
   "cell_type": "code",
   "execution_count": 5,
   "source": [
    "def max_area(height: list) -> int:\n",
    "    max_area, first, last = 0, 0, len(height) - 1\n",
    "    while first < last:\n",
    "        area = min(height[first], height[last]) * (last - first)\n",
    "        if area > max_area:\n",
    "            max_area = area\n",
    "        \n",
    "        if height[first] < height[last]:\n",
    "            first += 1\n",
    "        else:\n",
    "            last -= 1\n",
    " \n",
    "    return max_area\n",
    "\n",
    "assert max_area([1,1]) == 1\n",
    "assert max_area([1,2,1]) == 2\n",
    "assert max_area([4,3,2,1,4]) == 16\n",
    "assert max_area([1,8,6,2,5,4,8,3,7]) == 49"
   ],
   "outputs": [],
   "metadata": {}
  },
  {
   "cell_type": "markdown",
   "source": [
    "- Analysis: we iterate only once on the input. Such solution has time complexity of O(n).\n",
    "- LeetCode output: \n",
    "    - Success  \n",
    "    - Runtime: 700 ms, faster than 86.72% of Python3 online submissions for Container With Most Water.  \n",
    "    - Memory Usage: 27.6 MB, less than 57.14% of Python3 online submissions for Container With Most Water. "
   ],
   "metadata": {}
  }
 ],
 "metadata": {
  "orig_nbformat": 4,
  "language_info": {
   "name": "python",
   "version": "3.10.0",
   "mimetype": "text/x-python",
   "codemirror_mode": {
    "name": "ipython",
    "version": 3
   },
   "pygments_lexer": "ipython3",
   "nbconvert_exporter": "python",
   "file_extension": ".py"
  },
  "kernelspec": {
   "name": "python3",
   "display_name": "Python 3.10.0 64-bit"
  },
  "interpreter": {
   "hash": "aee8b7b246df8f9039afb4144a1f6fd8d2ca17a180786b69acc140d282b71a49"
  }
 },
 "nbformat": 4,
 "nbformat_minor": 2
}