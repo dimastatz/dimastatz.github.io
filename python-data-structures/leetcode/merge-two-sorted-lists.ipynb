{
 "cells": [
  {
   "cell_type": "markdown",
   "source": [
    "# Merge Two Sorted Lists\n",
    "You are given the heads of two sorted linked lists list1 and list2.\n",
    "Merge the two lists in a one sorted list. The list should be made by splicing together the nodes of the first two lists.\n",
    "Return the head of the merged linked list.\n",
    "\n",
    "### Example 1\n",
    "Input: list1 = [1,2,4], list2 = [1,3,4]\n",
    "Output: [1,1,2,3,4,4]\n",
    "\n",
    "### Example 2:\n",
    "Input: list1 = [], list2 = []\n",
    "Output: []\n",
    "\n",
    "### Example 3:\n",
    "Input: list1 = [], list2 = [0]\n",
    "Output: [0]\n",
    "\n",
    "## Solution \n",
    "\n",
    "### Intuition\n",
    "Create an empty result list. Move on two input lists simultaneously and merge the smallest node to the result list\n",
    "\n",
    "### Implementation"
   ],
   "metadata": {}
  },
  {
   "cell_type": "code",
   "execution_count": 11,
   "source": [
    "class ListNode:\n",
    "    def __init__(self, val=0, next=None):\n",
    "        self.val = val\n",
    "        self.next = next\n",
    "\n",
    "    def from_list(self, lst: list):\n",
    "        head, current = None, None\n",
    "        for x in lst:\n",
    "            node = ListNode(x)\n",
    "            if not head:\n",
    "                head, current = node, node\n",
    "            else:\n",
    "                current.next = node\n",
    "                current = current.next\n",
    "        return head\n",
    "\n",
    "    def to_list(self, node):\n",
    "        res = []\n",
    "        while node:\n",
    "            res.append(node.val)\n",
    "            node = node.next\n",
    "        return res\n",
    "        \n",
    "\n",
    "def merge(list1: ListNode, list2: ListNode) -> ListNode:\n",
    "    head, tail, current = None, None, None\n",
    "    \n",
    "    while list1 and list2:\n",
    "        if list1.val < list2.val:\n",
    "            current = list1\n",
    "            list1 = list1.next\n",
    "        else:\n",
    "            current = list2\n",
    "            list2 = list2.next\n",
    "        \n",
    "        if not head:\n",
    "            head = current\n",
    "            tail = current\n",
    "        else:\n",
    "            tail.next = current\n",
    "            tail = current\n",
    "    \n",
    "    if head and list1:\n",
    "        tail.next = list1\n",
    "    elif list1:\n",
    "        head = list1\n",
    "    elif head and list2:\n",
    "        tail.next = list2\n",
    "    elif list2:\n",
    "        head = list2\n",
    "    \n",
    "    return head\n",
    "\n",
    "\n",
    "dummy = ListNode()\n",
    "list1 = dummy.from_list([1,2,4])\n",
    "list2 = dummy.from_list([1,3,4])\n",
    "assert dummy.to_list(merge(list1, list2)) == [1,1,2,3,4,4]"
   ],
   "outputs": [],
   "metadata": {}
  },
  {
   "cell_type": "markdown",
   "source": [
    "## Analysis:\n",
    "- Time Complexity: O(n)\n",
    "- Space Complexity: O(1)\n"
   ],
   "metadata": {}
  }
 ],
 "metadata": {
  "orig_nbformat": 4,
  "language_info": {
   "name": "python",
   "version": "3.10.0",
   "mimetype": "text/x-python",
   "codemirror_mode": {
    "name": "ipython",
    "version": 3
   },
   "pygments_lexer": "ipython3",
   "nbconvert_exporter": "python",
   "file_extension": ".py"
  },
  "kernelspec": {
   "name": "python3",
   "display_name": "Python 3.10.0 64-bit"
  },
  "interpreter": {
   "hash": "aee8b7b246df8f9039afb4144a1f6fd8d2ca17a180786b69acc140d282b71a49"
  }
 },
 "nbformat": 4,
 "nbformat_minor": 2
}