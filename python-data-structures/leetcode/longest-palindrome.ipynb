{
 "cells": [
  {
   "cell_type": "markdown",
   "source": [
    "# Longest Palindromic Substring\n",
    "Given a string s, return the longest palindromic substring in s.\n",
    "\n",
    "### Example 1:  \n",
    "Input: s = \"babad\"   \n",
    "Output: \"bab\"    \n",
    "Note: \"aba\" is also a valid answer.  \n",
    "\n",
    "### Example 2:\n",
    "Input: s = \"cbbd\"    \n",
    "Output: \"bb\"  \n",
    "\n",
    "### Example 3:  \n",
    "Input: s = \"a\"  \n",
    "Output: \"a\"  \n",
    "\n",
    "### Example 4:\n",
    "Input: s = \"ac\"  \n",
    "Output: \"a\"  \n",
    "\n",
    "## Solution 1\n",
    "The simple aproach is to loop all possible substrings and check if it is a palindrome:"
   ],
   "metadata": {}
  },
  {
   "cell_type": "code",
   "execution_count": 48,
   "source": [
    "def is_palindrome(s: str) -> bool:\n",
    "    left, right = 0, len(s) - 1\n",
    "    while left <= right: \n",
    "        if s[left] != s[right]:\n",
    "            return False\n",
    "        left, right = left + 1, right - 1\n",
    "    return True\n",
    "    \n",
    "\n",
    "def longest_palindrome(s: str) -> str:\n",
    "    palindrome = s[0]\n",
    "    for i in range(len(s)):\n",
    "        for j in range(i + 1, len(s)):\n",
    "            if is_palindrome(s[i:j+1]):\n",
    "                if len(palindrome) < len(s[i:j+1]):\n",
    "                    palindrome = s[i:j+1]\n",
    "    return palindrome\n",
    "\n",
    "\n",
    "assert longest_palindrome('bb') == 'bb'\n",
    "assert longest_palindrome('a') == 'a'\n",
    "assert longest_palindrome('ac') == 'a'\n",
    "assert longest_palindrome('babad') == 'bab'\n",
    "assert longest_palindrome('cbbd') == 'bb'"
   ],
   "outputs": [],
   "metadata": {}
  },
  {
   "cell_type": "markdown",
   "source": [
    "The time complexity of this solution is O(n<sup>3</sup>) and submission fails on LeetCode with the Time Limit Exceeded error.\n",
    "But we can do it on O(n<sup>2</sup>) by using the following logic: For c in string try to extend palyndrome on both direction. Once chars on both ends are not equal stop and update the max length if needed. "
   ],
   "metadata": {}
  },
  {
   "cell_type": "code",
   "execution_count": 1,
   "source": [
    "def longest_palindrome(s: str) -> str:\n",
    "        result = s[0]\n",
    "    \n",
    "        def get_longest(s, start, end) -> str:\n",
    "            res = s[0]\n",
    "            while start >= 0 and end <= len(s) - 1:\n",
    "                if s[start] == s[end]:\n",
    "                    res = s[start: end + 1]\n",
    "                    start, end = start - 1, end + 1\n",
    "                else:\n",
    "                    break\n",
    "            return res\n",
    "    \n",
    "        for start in range(len(s)):\n",
    "            res1 = get_longest(s, start, start + 1)\n",
    "            res2 = get_longest(s, start, start)\n",
    "        \n",
    "            if len(res1) > len(result):\n",
    "                result = res1\n",
    "            if len(res2) > len(result):\n",
    "                result = res2\n",
    "            \n",
    "        return result\n",
    "\n",
    "\n",
    "assert longest_palindrome('bb') == 'bb'\n",
    "assert longest_palindrome('a') == 'a'\n",
    "assert longest_palindrome('ac') == 'a'\n",
    "assert longest_palindrome('babad') == 'bab'\n",
    "assert longest_palindrome('cbbd') == 'bb'"
   ],
   "outputs": [],
   "metadata": {}
  },
  {
   "cell_type": "markdown",
   "source": [
    "### Analysis\n",
    "- Time Complexity: O(n^2)\n",
    "- Space Complexity: O(1)"
   ],
   "metadata": {}
  }
 ],
 "metadata": {
  "orig_nbformat": 4,
  "language_info": {
   "name": "python",
   "version": "3.10.0",
   "mimetype": "text/x-python",
   "codemirror_mode": {
    "name": "ipython",
    "version": 3
   },
   "pygments_lexer": "ipython3",
   "nbconvert_exporter": "python",
   "file_extension": ".py"
  },
  "kernelspec": {
   "name": "python3",
   "display_name": "Python 3.10.0 64-bit"
  },
  "interpreter": {
   "hash": "aee8b7b246df8f9039afb4144a1f6fd8d2ca17a180786b69acc140d282b71a49"
  }
 },
 "nbformat": 4,
 "nbformat_minor": 2
}