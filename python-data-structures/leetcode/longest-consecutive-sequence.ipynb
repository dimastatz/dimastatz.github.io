{
 "cells": [
  {
   "cell_type": "markdown",
   "source": [
    "# Longest Consecutive Sequence\n",
    "Given an unsorted array of integers nums, return the length of the longest consecutive elements sequence.\n",
    "You must write an algorithm that runs in O(n) time.\n",
    "\n",
    "### Example 1:\n",
    "- Input: nums = [100,4,200,1,3,2]\n",
    "- Output: 4\n",
    "- Explanation: The longest consecutive elements sequence is [1, 2, 3, 4]. Therefore its length is 4.\n",
    "\n",
    "### Example 2:\n",
    "- Input: nums = [0,3,7,2,5,8,4,6,0,1]\n",
    "- Output: 9\n",
    "\n",
    "### Constraints:\n",
    "- 0 <= nums.length <= 10^5\n",
    "- -109 <= nums[i] <= 10^9\n",
    "\n",
    "\n",
    "## Solution\n",
    "\n",
    "### Intuition\n",
    "Add all numbers to hash table. Run on keys, and find the number n such that n-1 not in hash. Start incrementing n and check if n+1 in hash, if not stop, else keep going until n+k not in the hash. K is the lngth of consecutive sequence.\n",
    "\n",
    "### Implementation"
   ],
   "metadata": {}
  },
  {
   "cell_type": "code",
   "execution_count": 4,
   "source": [
    "def longest_consecutive(nums: list) -> int:\n",
    "    s = set(nums)\n",
    "    max_length = 0\n",
    "        \n",
    "    for n in [x for x in s if x-1 not in s]:\n",
    "        tmp_length = 1\n",
    "        \n",
    "        while True:\n",
    "            if (n+tmp_length) in s:\n",
    "                tmp_length += 1\n",
    "            else:\n",
    "                break\n",
    "                \n",
    "        if tmp_length > max_length:\n",
    "            max_length = tmp_length\n",
    "\n",
    "    return max_length\n",
    "\n",
    "\n",
    "assert longest_consecutive([100,4,200,1,3,2]) == 4\n",
    "assert longest_consecutive([0,3,7,2,5,8,4,6,0,1]) == 9"
   ],
   "outputs": [],
   "metadata": {}
  },
  {
   "cell_type": "markdown",
   "source": [
    "### Analysis\n",
    "- Time Analysis: O(n)\n",
    "- Space Analysis: O(n)"
   ],
   "metadata": {}
  }
 ],
 "metadata": {
  "orig_nbformat": 4,
  "language_info": {
   "name": "python",
   "version": "3.10.0",
   "mimetype": "text/x-python",
   "codemirror_mode": {
    "name": "ipython",
    "version": 3
   },
   "pygments_lexer": "ipython3",
   "nbconvert_exporter": "python",
   "file_extension": ".py"
  },
  "kernelspec": {
   "name": "python3",
   "display_name": "Python 3.10.0 64-bit"
  },
  "interpreter": {
   "hash": "aee8b7b246df8f9039afb4144a1f6fd8d2ca17a180786b69acc140d282b71a49"
  }
 },
 "nbformat": 4,
 "nbformat_minor": 2
}