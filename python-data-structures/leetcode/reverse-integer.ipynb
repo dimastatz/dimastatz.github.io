{
 "cells": [
  {
   "cell_type": "markdown",
   "source": [
    "# Reverse Integer\n",
    "Given a signed 32-bit integer x, return x with its digits reversed. If reversing x causes the value to go outside the signed 32-bit integer range [-2<sup>31</sup>, 2<sup>31</sup> - 1], then return 0.\n",
    "- Assume the environment does not allow you to store 64-bit integers (signed or unsigned).\n",
    "\n",
    "### Example 1:\n",
    "Input: x = 123    \n",
    "Output: 321  \n",
    "\n",
    "### Example 2:  \n",
    "Input: x = -123  \n",
    "Output: -321  \n",
    "\n",
    "### Example 3:\n",
    "Input: x = 120  \n",
    "Output: 21  \n",
    "\n",
    "### Example 4:\n",
    "Input: x = 0  \n",
    "Output: 0  \n",
    "\n",
    "## Solution\n",
    "\n",
    "### Intuition\n",
    "We can reverse an integer by repeatedly 'pop-ing' the last digit and pushing it to the result. More specifically, we can devide the integer by 10 and take the reminder and add it to the prev result multiplied by 10. \n",
    "The only problem can arise when the max_int < result*10 + reminder, or min_int > result*10 - reminder.\n",
    "So we can always check if (max_int - reminder)/10 >= result \n",
    "\n",
    "### Implementation"
   ],
   "metadata": {}
  },
  {
   "cell_type": "code",
   "execution_count": 45,
   "source": [
    "def reverse(x: int) -> int:\n",
    "    max_v, min_v = pow(2, 31) - 1, pow(2, 31)\n",
    "    res, is_pos, x = 0, x > 0, x if x > 0 else -x\n",
    "\n",
    "    while x > 0:\n",
    "        x, reminder = divmod(x, 10)\n",
    "        if is_pos and (max_v - reminder) / 10 < res:\n",
    "            return 0\n",
    "        elif not is_pos and (max_v - reminder) / 10 < res:\n",
    "            return 0\n",
    "        else:\n",
    "            res = res * 10 + reminder\n",
    "    return res if is_pos else -res\n",
    "\n",
    "\n",
    "assert reverse(123) == 321\n",
    "assert reverse(-123) == -321\n",
    "assert reverse(120) == 21\n",
    "assert reverse(0) == 0\n",
    "assert reverse(pow(2, 31)) == 0\n",
    "assert reverse(-pow(2, 31)) == 0\n",
    "assert reverse(1463847412) == 2147483641\n"
   ],
   "outputs": [],
   "metadata": {}
  },
  {
   "cell_type": "markdown",
   "source": [
    "### Complexity Analysis\n",
    "- Time Complexity: O(log(x)). There are roughly log<sub>10</sub>x digits in x\n",
    "- Space Complexity: O(1)\n",
    "\n",
    "\n",
    "### LeetCode output\n",
    "- Success\n",
    "- Runtime: 20 ms, faster than 99.53% of Python3 online submissions for Reverse Integer.\n",
    "- Memory Usage: 14 MB, less than 91.62% of Python3 online submissions for Reverse Integer."
   ],
   "metadata": {}
  }
 ],
 "metadata": {
  "orig_nbformat": 4,
  "language_info": {
   "name": "python",
   "version": "3.10.0",
   "mimetype": "text/x-python",
   "codemirror_mode": {
    "name": "ipython",
    "version": 3
   },
   "pygments_lexer": "ipython3",
   "nbconvert_exporter": "python",
   "file_extension": ".py"
  },
  "kernelspec": {
   "name": "python3",
   "display_name": "Python 3.10.0 64-bit"
  },
  "interpreter": {
   "hash": "aee8b7b246df8f9039afb4144a1f6fd8d2ca17a180786b69acc140d282b71a49"
  }
 },
 "nbformat": 4,
 "nbformat_minor": 2
}