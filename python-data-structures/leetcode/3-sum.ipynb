{
 "cells": [
  {
   "cell_type": "markdown",
   "source": [
    "# 3Sum\n",
    "Given an integer array nums, return all the triplets [nums[i], nums[j], nums[k]] such that i != j, i != k, and j != k, and nums[i] + nums[j] + nums[k] == 0.\n",
    "Notice that the solution set must not contain duplicate triplets.\n",
    "\n",
    "\n",
    "### Example 1:\n",
    "- Input: nums = [-1,0,1,2,-1,-4]\n",
    "- Output: [[-1,-1,2],[-1,0,1]]\n",
    "\n",
    "### Example 2:\n",
    "- Input: nums = []\n",
    "- Output: []\n",
    "\n",
    "### Example 3:\n",
    "- Input: nums = [0]\n",
    "- Output: []\n",
    "\n",
    "\n",
    "## Solution\n",
    "\n",
    "### Intuition \n",
    "1. The very naive apraoch is to loop through all possible triplets, sum and if the result is 0, save the result. In this case the time complexity will be O(n^3). \n",
    "2. Another approach is to load all numbers to hashmap. In this case we can run only an all possible pairs, and to look for a number [0 - (x[i] + x[j])] in a hashmap. In such case the time complexity will be O(n^2)\n",
    "3. Another approac\n",
    "\n",
    "### Implementation"
   ],
   "metadata": {}
  },
  {
   "cell_type": "code",
   "execution_count": 6,
   "source": [
    "def three_sum(nums: list) -> list:\n",
    "    nums.sort()\n",
    "    ans = []\n",
    "        \n",
    "    for i in range(len(nums)):\n",
    "        j, k = i+1, len(nums)-1\n",
    "            \n",
    "        while j < k:\n",
    "            if nums[i] + nums[j] + nums[k]  > 0:\n",
    "                k -= 1                    \n",
    "            elif nums[i] + nums[j] + nums[k] < 0:\n",
    "                j += 1\n",
    "            else:\n",
    "                l = [nums[i],nums[j],nums[k]]\n",
    "                if l not in ans:\n",
    "                    ans.append(l)\n",
    "                j, k = j + 1, k - 1  \n",
    "    return ans\n",
    "        \n",
    "assert len(three_sum([-1,0,1,2,-1,-4])) == 2"
   ],
   "outputs": [],
   "metadata": {}
  },
  {
   "cell_type": "markdown",
   "source": [
    "Analysis\n",
    "- Time Complexity: O(n^2)\n",
    "- Space Complexity: O(1)"
   ],
   "metadata": {}
  }
 ],
 "metadata": {
  "orig_nbformat": 4,
  "language_info": {
   "name": "python",
   "version": "3.10.0",
   "mimetype": "text/x-python",
   "codemirror_mode": {
    "name": "ipython",
    "version": 3
   },
   "pygments_lexer": "ipython3",
   "nbconvert_exporter": "python",
   "file_extension": ".py"
  },
  "kernelspec": {
   "name": "python3",
   "display_name": "Python 3.10.0 64-bit"
  },
  "interpreter": {
   "hash": "aee8b7b246df8f9039afb4144a1f6fd8d2ca17a180786b69acc140d282b71a49"
  }
 },
 "nbformat": 4,
 "nbformat_minor": 2
}