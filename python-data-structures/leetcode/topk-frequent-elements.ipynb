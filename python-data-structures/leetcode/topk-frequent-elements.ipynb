{
 "cells": [
  {
   "cell_type": "markdown",
   "source": [
    "# Top K Frequent Elements\n",
    "Given an integer array nums and an integer k, return the k most frequent elements. You may return the answer in any order.\n",
    "\n",
    "\n",
    "### Example 1\n",
    "- Input: nums = [1,1,1,2,2,3], k = 2\n",
    "- Output: [1,2]\n",
    "\n",
    "### Example 2:\n",
    "- Input: nums = [1], k = 1\n",
    "- Output: [1]\n",
    "\n",
    "\n",
    "## Solution\n",
    "\n",
    "### Intuition\n",
    "We can create a dictionary where the key is the integer itself and the value is count. Then we can sort by count and return first k elements. Time complexity in this case is O(n*log(n)). Another aproach is add all items to heap and return k-largest\n",
    "\n",
    "### Implementation"
   ],
   "metadata": {}
  },
  {
   "cell_type": "code",
   "execution_count": 14,
   "source": [
    "def get_dictionary(numbers: list) -> dict:\n",
    "    d = {}\n",
    "    for n in numbers:\n",
    "        val = d.get(n, 1)\n",
    "        d[n] = val + 1\n",
    "    return d\n",
    "\n",
    "\n",
    "def get_kfrequent_elements(numbers: list, k: int) -> list:\n",
    "    import heapq\n",
    "    d = get_dictionary(numbers)\n",
    "    items = [(v, k) for (k,v) in d.items()]\n",
    "    heapq.heapify(items)\n",
    "    return [num for (count, num) in heapq.nlargest(k, items)]\n",
    "\n",
    "\n",
    "assert get_kfrequent_elements([1,1,1,2,2,3], 2) == [1, 2]\n",
    "assert get_kfrequent_elements([1], 1) == [1]"
   ],
   "outputs": [
    {
     "output_type": "stream",
     "name": "stdout",
     "text": [
      "[1, 2]\n"
     ]
    }
   ],
   "metadata": {}
  },
  {
   "cell_type": "markdown",
   "source": [
    "### Analysis\n",
    "- Time Complexity: O(n + k)\n",
    "- Space Complexity: O(n)\n",
    "\n",
    "\n",
    "### LeetCode Output\n",
    "- Runtime: 92 ms, faster than 96.13% of Python3 online submissions for Top K Frequent Elements.\n",
    "- Memory Usage: 18.9 MB, less than 21.87% of Python3 online submissions for Top K Frequent Elements."
   ],
   "metadata": {}
  }
 ],
 "metadata": {
  "orig_nbformat": 4,
  "language_info": {
   "name": "python",
   "version": "3.10.0",
   "mimetype": "text/x-python",
   "codemirror_mode": {
    "name": "ipython",
    "version": 3
   },
   "pygments_lexer": "ipython3",
   "nbconvert_exporter": "python",
   "file_extension": ".py"
  },
  "kernelspec": {
   "name": "python3",
   "display_name": "Python 3.10.0 64-bit"
  },
  "interpreter": {
   "hash": "aee8b7b246df8f9039afb4144a1f6fd8d2ca17a180786b69acc140d282b71a49"
  }
 },
 "nbformat": 4,
 "nbformat_minor": 2
}