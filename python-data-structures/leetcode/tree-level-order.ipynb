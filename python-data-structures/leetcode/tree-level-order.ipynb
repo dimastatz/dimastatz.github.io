{
 "cells": [
  {
   "cell_type": "markdown",
   "source": [
    "# Binary Tree Level Order Traversal\n",
    "Given the root of a binary tree, return the level order traversal of its nodes' values. (i.e., from left to right, level by level).\n",
    "\n",
    "\n",
    "### Example 1:\n",
    "- Input: root = [3,9,20,null,null,15,7]\n",
    "- Output: [[3],[9,20],[15,7]]\n",
    "\n",
    "### Example 2:\n",
    "- Input: root = [1]\n",
    "- Output: [[1]]\n",
    "\n",
    "### Example 3:\n",
    "- Input: root = []\n",
    "- Output: []\n",
    "\n",
    "\n",
    "## Solution\n",
    "\n",
    "### Intuition\n",
    "Perform breadth first traversal. Print all nodes as they appear in tree\n",
    "\n",
    "### Implementation\n"
   ],
   "metadata": {}
  },
  {
   "cell_type": "code",
   "execution_count": 6,
   "source": [
    "class TreeNode:\n",
    "    def __init__(self, val=0, left=None, right=None):\n",
    "        self.val = val\n",
    "        self.left = left\n",
    "        self.right = right\n",
    "\n",
    "\n",
    "def level_order(root: TreeNode) -> list:\n",
    "    res, queue = [], [] if not root else [root]\n",
    "    \n",
    "    while queue:\n",
    "        tmp = []\n",
    "        res.append([n.val for n in queue])\n",
    "        \n",
    "        for n in queue:\n",
    "            if n.left:\n",
    "                tmp.append(n.left)\n",
    "            if n.right:\n",
    "                tmp.append(n.right)\n",
    "        queue = tmp\n",
    "    \n",
    "    return res\n",
    "\n"
   ],
   "outputs": [],
   "metadata": {}
  },
  {
   "cell_type": "markdown",
   "source": [
    "Analysis:\n",
    "- Time Complexity: O(n)\n",
    "- Space Complexity: O(n)"
   ],
   "metadata": {}
  }
 ],
 "metadata": {
  "orig_nbformat": 4,
  "language_info": {
   "name": "python",
   "version": "3.10.0",
   "mimetype": "text/x-python",
   "codemirror_mode": {
    "name": "ipython",
    "version": 3
   },
   "pygments_lexer": "ipython3",
   "nbconvert_exporter": "python",
   "file_extension": ".py"
  },
  "kernelspec": {
   "name": "python3",
   "display_name": "Python 3.10.0 64-bit"
  },
  "interpreter": {
   "hash": "aee8b7b246df8f9039afb4144a1f6fd8d2ca17a180786b69acc140d282b71a49"
  }
 },
 "nbformat": 4,
 "nbformat_minor": 2
}