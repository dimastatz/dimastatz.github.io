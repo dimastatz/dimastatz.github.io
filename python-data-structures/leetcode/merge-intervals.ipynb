{
 "cells": [
  {
   "cell_type": "markdown",
   "source": [
    "# Merge Intervals\n",
    "Given an array of intervals where intervals[i] = [starti, endi], merge all overlapping intervals, and return an array of the non-overlapping intervals that cover all the intervals in the input.\n",
    "\n",
    "### Example 1:\n",
    "- Input: intervals = [[1,3],[2,6],[8,10],[15,18]]\n",
    "- Output: [[1,6],[8,10],[15,18]]\n",
    "- Explanation: Since intervals [1,3] and [2,6] overlaps, merge them into [1,6].\n",
    "\n",
    "### Example 2:\n",
    "- Input: intervals = [[1,4],[4,5]]\n",
    "- Output: [[1,5]]\n",
    "- Explanation: Intervals [1,4] and [4,5] are considered overlapping.\n",
    " \n",
    "Constraints:\n",
    "- 1 <= intervals.length <= 104\n",
    "- intervals[i].length == 2\n",
    "- 0 <= starti <= endi <= 104\n",
    "\n",
    "## Solution\n",
    "\n",
    "### Intuition \n",
    "Sort the intervals list by the start time. Loop thgrough intervals and merge when overlaps\n",
    "\n",
    "## Implementation\n"
   ],
   "metadata": {}
  },
  {
   "cell_type": "code",
   "execution_count": 4,
   "source": [
    "def merge(intervals: list) -> list:\n",
    "    intervals.sort()\n",
    "    start = 1\n",
    "    while start < len(intervals):\n",
    "        if intervals[start][0] <= intervals[start - 1][1]:\n",
    "            end = max(intervals[start][1], intervals[start - 1][1])\n",
    "            intervals[start - 1][1] = end\n",
    "            intervals.pop(start)\n",
    "        else:\n",
    "            start = start + 1\n",
    "    \n",
    "    return intervals\n",
    "\n",
    "assert merge([[1,4],[4,5]]) == [[1,5]]\n",
    "assert merge([[1,3],[2,6],[8,10],[15,18]]) == [[1,6],[8,10],[15,18]]\n"
   ],
   "outputs": [],
   "metadata": {}
  },
  {
   "cell_type": "markdown",
   "source": [
    "## Analysis\n",
    "- Time complexity: O(nlogn) for sort and O(n) for loop => total O(nlogn)\n",
    "- Space complexity: O(1) all operations are inplace"
   ],
   "metadata": {}
  }
 ],
 "metadata": {
  "orig_nbformat": 4,
  "language_info": {
   "name": "python",
   "version": "3.10.0",
   "mimetype": "text/x-python",
   "codemirror_mode": {
    "name": "ipython",
    "version": 3
   },
   "pygments_lexer": "ipython3",
   "nbconvert_exporter": "python",
   "file_extension": ".py"
  },
  "kernelspec": {
   "name": "python3",
   "display_name": "Python 3.10.0 64-bit"
  },
  "interpreter": {
   "hash": "aee8b7b246df8f9039afb4144a1f6fd8d2ca17a180786b69acc140d282b71a49"
  }
 },
 "nbformat": 4,
 "nbformat_minor": 2
}