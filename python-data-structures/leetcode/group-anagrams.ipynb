{
 "cells": [
  {
   "cell_type": "markdown",
   "source": [
    "# Group Anagrams\n",
    "Given an array of strings strs, group the anagrams together. You can return the answer in any order.\n",
    "An Anagram is a word or phrase formed by rearranging the letters of a different word or phrase, typically using all the original letters exactly once.\n",
    "\n",
    "### Example 1:\n",
    "= Input: strs = [\"eat\",\"tea\",\"tan\",\"ate\",\"nat\",\"bat\"]\n",
    "- Output: [[\"bat\"],[\"nat\",\"tan\"],[\"ate\",\"eat\",\"tea\"]]\n",
    "\n",
    "### Example 2:\n",
    "- Input: strs = [\"\"]\n",
    "- Output: [[\"\"]]\n",
    "\n",
    "### Example 3:\n",
    "- Input: strs = [\"a\"]\n",
    "- Output: [[\"a\"]]\n",
    "\n",
    "\n",
    "### Constraints:\n",
    "- 1 <= strs.length <= 104\n",
    "- 0 <= strs[i].length <= 100\n",
    "- strs[i] consists of lowercase English letters.\n",
    "\n",
    "## Solution\n",
    "\n",
    "### Intuition.\n",
    "An Anagram is a word formed by rearranging the letters of another word. So when sorting anagrams we will get the same word. For example, eat and tea are anagrams. When sorting both we get the same result 'aet'. So the idea is to loop through all words and sort them. The sorted word is the dictionary key and corresponding words are values. \n",
    "\n",
    "### Solution"
   ],
   "metadata": {}
  },
  {
   "cell_type": "code",
   "execution_count": 9,
   "source": [
    "def group_anagrams(strs:list) -> list:\n",
    "        d = {}\n",
    "        for s in strs:\n",
    "            tmp = ''.join(sorted(s))\n",
    "            if tmp in d:\n",
    "                d[tmp].append(s)\n",
    "            else:\n",
    "                d[tmp] = [s]\n",
    "        \n",
    "        return [x for x in d.values()]\n",
    "\n",
    "result = group_anagrams([\"eat\",\"tea\",\"tan\",\"ate\",\"nat\",\"bat\"])\n",
    "for x in [[\"bat\"],[\"nat\",\"tan\"],[\"ate\",\"eat\",\"tea\"]]:\n",
    "    assert sorted(x) in [sorted(x) for x in result]\n",
    "\n",
    "assert [\"\"] in group_anagrams([\"\"])"
   ],
   "outputs": [],
   "metadata": {}
  },
  {
   "cell_type": "markdown",
   "source": [
    "## Analysis\n",
    "- Time Complexity: O(n*klog(k))\n",
    "- Space Complexity: O(n)"
   ],
   "metadata": {}
  }
 ],
 "metadata": {
  "orig_nbformat": 4,
  "language_info": {
   "name": "python",
   "version": "3.10.0",
   "mimetype": "text/x-python",
   "codemirror_mode": {
    "name": "ipython",
    "version": 3
   },
   "pygments_lexer": "ipython3",
   "nbconvert_exporter": "python",
   "file_extension": ".py"
  },
  "kernelspec": {
   "name": "python3",
   "display_name": "Python 3.10.0 64-bit"
  },
  "interpreter": {
   "hash": "aee8b7b246df8f9039afb4144a1f6fd8d2ca17a180786b69acc140d282b71a49"
  }
 },
 "nbformat": 4,
 "nbformat_minor": 2
}