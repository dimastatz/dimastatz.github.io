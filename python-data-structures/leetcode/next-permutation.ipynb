{
 "cells": [
  {
   "cell_type": "markdown",
   "source": [
    "# Next Permutation\n",
    "Implement next permutation, which rearranges numbers into the lexicographically next greater permutation of numbers.\n",
    "If such an arrangement is impossible, it must rearrange it to the lowest possible order (i.e., sorted in ascending order).\n",
    "The replacement must be in place and use only constant extra memory.\n",
    "\n",
    "### Example 1:\n",
    "- Input: nums = [1,2,3]\n",
    "- Output: [1,3,2]\n",
    "\n",
    "### Example 2:\n",
    "- Input: nums = [3,2,1]\n",
    "- Output: [1,2,3]\n",
    "\n",
    "### Example 3:\n",
    "- Input: nums = [1,1,5]\n",
    "- Output: [1,5,1]\n",
    " \n",
    "### Constraints:\n",
    "- 1 <= nums.length <= 100\n",
    "- 0 <= nums[i] <= 100\n",
    "\n",
    "## Solution\n",
    "\n",
    "### Inuition\n",
    "In order to find the next greater permutation for the array [a1, a2, ..., an], we have to find the min number which is greater then the ak wher k E {1...n}. And thus the idea, is to move backwords on the input array and insert each item to the sorted array. Before inserting we can query if there elements in sorted array that are greater then the current element. If true, we will pick the smallest one and swap. and sort \n",
    "\n",
    "\n",
    "\n",
    "\n",
    "\n"
   ],
   "metadata": {}
  },
  {
   "cell_type": "code",
   "execution_count": null,
   "source": [
    "def find_larger_right(nums) -> int:\n",
    "    for i in range(len(nums) - 1, -1, -1):\n",
    "        if i > 0 and nums[i] > nums[i-1]:\n",
    "            return i - 1\n",
    "    return -1\n",
    "\n",
    "def sort_from_index(idx, nums):\n",
    "    for i in range(idx, len(nums)):\n",
    "        for j in range(i+1, len(nums)):\n",
    "            if nums[i] > nums[j]:\n",
    "                nums[i], nums[j] = nums[j], nums[i]\n",
    "\n",
    "def next_perm(nums: list):\n",
    "    idx = find_larger_right(nums)\n",
    "    sort_from_index(idx + 1 if idx > -1 else 0, nums)\n",
    "\n",
    "    if idx > -1:\n",
    "        for i in range(idx + 1, len(nums)):\n",
    "            if nums[idx] < nums[i]:\n",
    "                nums[idx], nums[i] = nums[i], nums[idx]\n",
    "                break\n",
    "\n",
    "\n",
    "nums = [1, 2, 3]\n",
    "next_perm(nums)\n",
    "assert nums == [1,3,2]\n",
    "\n",
    "nums = [3, 2, 1]\n",
    "next_perm(nums)\n",
    "assert nums == [1,2,3]\n",
    "\n",
    "nums = [1, 1, 5]\n",
    "next_perm(nums)\n",
    "assert nums == [1,5,1]\n",
    "\n",
    "nums = [1, 2]\n",
    "next_perm(nums)\n",
    "assert nums == [2, 1]\n",
    "\n",
    "nums = [1, 3, 2]\n",
    "next_perm(nums)\n",
    "assert nums == [2,1,3]"
   ],
   "outputs": [],
   "metadata": {}
  }
 ],
 "metadata": {
  "orig_nbformat": 4,
  "language_info": {
   "name": "python",
   "version": "3.10.0"
  },
  "kernelspec": {
   "name": "python3",
   "display_name": "Python 3.10.0 64-bit"
  },
  "interpreter": {
   "hash": "aee8b7b246df8f9039afb4144a1f6fd8d2ca17a180786b69acc140d282b71a49"
  }
 },
 "nbformat": 4,
 "nbformat_minor": 2
}