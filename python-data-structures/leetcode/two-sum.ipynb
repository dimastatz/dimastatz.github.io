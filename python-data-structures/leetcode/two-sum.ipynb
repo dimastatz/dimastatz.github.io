{
 "cells": [
  {
   "cell_type": "markdown",
   "source": [
    "# Two Sum\n",
    "Given an array of integers nums and an integer target, return indices of the two numbers such that they add up to target.\n",
    "You may assume that each input would have exactly one solution, and you may not use the same element twice. You can return the answer in any order.\n",
    "\n",
    "### Example 1:  \n",
    "Input: nums = [2,7,11,15], target = 9  \n",
    "Output: [0,1]  \n",
    "Output: Because nums[0] + nums[1] == 9, we return [0, 1].  \n",
    "\n",
    "### Example 2:  \n",
    "Input: nums = [3,2,4], target = 6  \n",
    "Output: [1,2]  \n",
    "\n",
    "### Example 3:  \n",
    "Input: nums = [3,3], target = 6  \n",
    "Output: [0,1]  \n"
   ],
   "metadata": {}
  },
  {
   "cell_type": "markdown",
   "source": [
    "## Solution 1\n",
    "\n",
    "### Intuition\n",
    "The first solution is a brute force solution. Loop through all possible pairs in the list, sum and if the result equals to the target, return indices\n",
    "\n",
    "### Implementation"
   ],
   "metadata": {}
  },
  {
   "cell_type": "code",
   "execution_count": 5,
   "source": [
    "from typing import List\n",
    "\n",
    "def two_sum(nums: List[int], target: int) -> List[int]:\n",
    "    for i in range(len(nums)):\n",
    "        for j in range(i + 1, len(nums)):\n",
    "            if nums[i] + nums[j] == target:\n",
    "                return [i, j]\n",
    "    raise Exception('Target cannot be constructed') \n",
    "\n",
    "\n",
    "assert two_sum([2,7,11,15], 9) == [0, 1]\n",
    "assert two_sum([3,2,4], 6) == [1, 2]\n",
    "assert two_sum([3, 3], 6) == [0, 1]"
   ],
   "outputs": [],
   "metadata": {}
  },
  {
   "cell_type": "markdown",
   "source": [
    "### Complexity Analysis\n",
    "- Time Complexity: O(n<sup>2</sup>)\n",
    "- Space Complexity: O(1)\n",
    "\n",
    "\n",
    "## Solution 2\n",
    "\n",
    "### Intuition\n",
    "The idea is to take the previous solution but avoid scanning the entire input for each element in the input. Instead we can save all the input in the hash map. Doing so, the slow list scan, will be replaced by the lookup in the hash map (O(1)) \n",
    "\n",
    "### Implementation"
   ],
   "metadata": {}
  },
  {
   "cell_type": "code",
   "execution_count": 4,
   "source": [
    "from typing import List\n",
    "\n",
    "def two_sum(nums: List[int], target: int) -> List[int]:\n",
    "    lookup = {}\n",
    "    for i,v in enumerate(nums):\n",
    "        first = target - v\n",
    "        if first in lookup:\n",
    "            return [lookup[first], i]\n",
    "        else:\n",
    "            lookup[v] = i    \n",
    "    \n",
    "    \n",
    "assert two_sum([2,7,11,15], 9) == [0, 1]\n",
    "assert two_sum([3,2,4], 6) == [1, 2]\n",
    "assert two_sum([3, 3], 6) == [0, 1]"
   ],
   "outputs": [],
   "metadata": {}
  },
  {
   "cell_type": "markdown",
   "source": [
    "### Analysis\n",
    "- Time Complexity: O(n)\n",
    "- Space Complexity: O(n)\n",
    "\n",
    "### LeetCode Output\n",
    "- Success\n",
    "- Runtime: 56 ms, faster than 90.49% of Python3 online submissions for Two Sum.\n",
    "- Memory Usage: 15.5 MB, less than 19.62% of Python3 online submissions for Two Sum.\n"
   ],
   "metadata": {}
  }
 ],
 "metadata": {
  "orig_nbformat": 4,
  "language_info": {
   "name": "python",
   "version": "3.10.0",
   "mimetype": "text/x-python",
   "codemirror_mode": {
    "name": "ipython",
    "version": 3
   },
   "pygments_lexer": "ipython3",
   "nbconvert_exporter": "python",
   "file_extension": ".py"
  },
  "kernelspec": {
   "name": "python3",
   "display_name": "Python 3.10.0 64-bit"
  },
  "interpreter": {
   "hash": "aee8b7b246df8f9039afb4144a1f6fd8d2ca17a180786b69acc140d282b71a49"
  }
 },
 "nbformat": 4,
 "nbformat_minor": 2
}