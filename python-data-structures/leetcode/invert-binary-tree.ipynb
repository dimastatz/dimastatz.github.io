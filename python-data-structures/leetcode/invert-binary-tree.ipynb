{
 "cells": [
  {
   "cell_type": "markdown",
   "source": [
    "# Invert Binary Tree\n",
    "Given the root of a binary tree, invert the tree, and return its root.\n",
    "\n",
    "### Example 1:\n",
    "- Input: root = [4,2,7,1,3,6,9]\n",
    "- Output: [4,7,2,9,6,3,1]\n",
    "<table width=\"256px\">\n",
    "  <tr>\n",
    "    <td><img src=\"../images/invert-binary-tree.png\" /></td>\n",
    "  </tr>\n",
    "</table>\n",
    "\n",
    "### Example 2\n",
    "- Input: root = [2,1,3]\n",
    "- Output: [2,3,1]\n",
    "\n",
    "### Example 2\n",
    "- Input: root = []\n",
    "- Output: []\n",
    "\n",
    "### Constraints:\n",
    "- The number of nodes in the tree is in the range [0, 100].\n",
    "- -100 <= Node.val <= 100\n",
    "\n",
    "## Solution"
   ],
   "metadata": {}
  },
  {
   "cell_type": "code",
   "execution_count": 1,
   "source": [
    "# Definition for a binary tree node.\n",
    "class TreeNode:\n",
    "    def __init__(self, val=0, left=None, right=None):\n",
    "        self.val = val\n",
    "        self.left = left\n",
    "        self.right = right\n",
    "\n",
    "\n",
    "class Solution:\n",
    "    '''\n",
    "    IDEA:\n",
    "        Traverse tree, and for each node change \n",
    "        the order of left and right nodes\n",
    "    '''\n",
    "    def invertTree(self, root: TreeNode) -> TreeNode:\n",
    "        def _post_order(node):\n",
    "            if not node:\n",
    "                return None\n",
    "            else:\n",
    "                node.left, node.right = node.right, node.left   \n",
    "                _post_order(node.left)\n",
    "                _post_order(node.right)\n",
    "            return node\n",
    "            \n",
    "        return _post_order(root)"
   ],
   "outputs": [],
   "metadata": {}
  },
  {
   "cell_type": "markdown",
   "source": [
    "## Analysis\n",
    "- Time Complexity: O(n)\n",
    "- Space Complexity: O(1)"
   ],
   "metadata": {}
  }
 ],
 "metadata": {
  "orig_nbformat": 4,
  "language_info": {
   "name": "python",
   "version": "3.10.0",
   "mimetype": "text/x-python",
   "codemirror_mode": {
    "name": "ipython",
    "version": 3
   },
   "pygments_lexer": "ipython3",
   "nbconvert_exporter": "python",
   "file_extension": ".py"
  },
  "kernelspec": {
   "name": "python3",
   "display_name": "Python 3.10.0 64-bit"
  },
  "interpreter": {
   "hash": "aee8b7b246df8f9039afb4144a1f6fd8d2ca17a180786b69acc140d282b71a49"
  }
 },
 "nbformat": 4,
 "nbformat_minor": 2
}