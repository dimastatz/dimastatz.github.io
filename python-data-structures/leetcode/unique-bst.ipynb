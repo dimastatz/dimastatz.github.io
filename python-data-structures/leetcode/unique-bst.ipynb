{
 "cells": [
  {
   "cell_type": "markdown",
   "source": [
    "# Unique Binary Search Trees\n",
    "Given an integer n, return the number of structurally unique BST's (binary search trees) which has exactly n nodes of unique values from 1 to n.\n",
    "\n",
    "### Example 1\n",
    "- Input: n=3\n",
    "- Output:\n",
    "<table width=\"512px\">\n",
    "  <tr>\n",
    "    <td><img src=\"../images/unique-bst.png\" /></td>\n",
    "  </tr>\n",
    "</table>\n",
    "\n",
    "### Example 2\n",
    "- Input: n = 1\n",
    "- Output: 1\n",
    "\n",
    "\n",
    "## Solution\n",
    "\n",
    "### Intuition\n",
    "Change the function that creates balanced BST to create BST for all possible indexes.\n",
    "\n",
    "### Implementation"
   ],
   "metadata": {}
  },
  {
   "cell_type": "code",
   "execution_count": 33,
   "source": [
    "''' Helper TreeNode and Tree'''\n",
    "class TreeNode:\n",
    "     def __init__(self, val=0, left=None, right=None):\n",
    "         self.val = val\n",
    "         self.left = left\n",
    "         self.right = right\n",
    "\n",
    "\n",
    "class Tree:\n",
    "    def __init__(self, root) -> None:\n",
    "        self.root: TreeNode = root\n",
    "\n",
    "    def to_bfs_list(self) -> list:\n",
    "        q, res = [self.root], []\n",
    "        while q:\n",
    "            node = q.pop(0)\n",
    "            if node:\n",
    "                res.append(node.val)\n",
    "                q.append(node.left)\n",
    "                q.append(node.right)\n",
    "            else:\n",
    "                res.append(None)\n",
    "        return res\n",
    "          \n",
    "    def bst_insert(self, root, val) -> TreeNode:\n",
    "        if not root:\n",
    "            return TreeNode(val)\n",
    "        elif root.val == val:\n",
    "            return root\n",
    "        elif root.val > val:\n",
    "            return self.bst_insert(root.left, val)\n",
    "        elif root.val < val:\n",
    "            return self.bst_insert(root.right, val)\n",
    "\n",
    "    \n",
    "    def from_bfs_list(self, nodes: list) -> TreeNode:\n",
    "        root = TreeNode(nodes[0])\n",
    "        q, current = [root], 1\n",
    "        \n",
    "        while current < len(nodes):\n",
    "            node: TreeNode = q.pop()\n",
    "            if node:\n",
    "                node.left = TreeNode(nodes[current]) \n",
    "                node.right = TreeNode(nodes[current + 1])\n",
    "                current += 2\n",
    "                q.append(node.left)\n",
    "                q.append(node.right)\n",
    "\n",
    "        self.root = root\n",
    "        return self.root"
   ],
   "outputs": [],
   "metadata": {}
  },
  {
   "cell_type": "code",
   "execution_count": 42,
   "source": [
    "def create_bst(numbers: list) -> list:\n",
    "    res = []\n",
    "    \n",
    "    for i in range(len(numbers)):\n",
    "        left = create_bst(numbers[:i]) if i > 0 else [None]\n",
    "        right = create_bst(numbers[i+1:]) if i < len(numbers) - 1 else [None]\n",
    "\n",
    "        for l in left:\n",
    "            for r in right:\n",
    "                node = TreeNode(numbers[i])\n",
    "                node.left, node.right = l, r\n",
    "                res.append(node)\n",
    "    return res\n",
    "\n",
    "nodes = create_bst([1, 2, 3])\n",
    "print([Tree(n).to_bfs_list()  for n in nodes])\n",
    "assert len(nodes) == 5"
   ],
   "outputs": [
    {
     "output_type": "stream",
     "name": "stdout",
     "text": [
      "[[1, None, 2, None, 3, None, None], [1, None, 3, 2, None, None, None], [2, 1, 3, None, None, None, None], [3, 1, None, None, 2, None, None], [3, 2, None, 1, None, None, None]]\n"
     ]
    }
   ],
   "metadata": {}
  },
  {
   "cell_type": "markdown",
   "source": [
    "### Analysis \n",
    "- Time Complexity is O(Catalan(n))\n",
    "\n",
    "\n",
    "### LeetCode output\n",
    "- Runtime: 52 ms, faster than 92.74% of Python3 online submissions for Unique Binary Search Trees II.\n",
    "- Memory Usage: 15.7 MB, less than 26.09% of Python3 online submissions for Unique Binary Search Trees II."
   ],
   "metadata": {}
  }
 ],
 "metadata": {
  "orig_nbformat": 4,
  "language_info": {
   "name": "python",
   "version": "3.10.0",
   "mimetype": "text/x-python",
   "codemirror_mode": {
    "name": "ipython",
    "version": 3
   },
   "pygments_lexer": "ipython3",
   "nbconvert_exporter": "python",
   "file_extension": ".py"
  },
  "kernelspec": {
   "name": "python3",
   "display_name": "Python 3.10.0 64-bit"
  },
  "interpreter": {
   "hash": "aee8b7b246df8f9039afb4144a1f6fd8d2ca17a180786b69acc140d282b71a49"
  }
 },
 "nbformat": 4,
 "nbformat_minor": 2
}