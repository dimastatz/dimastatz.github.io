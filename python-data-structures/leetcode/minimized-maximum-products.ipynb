{
 "cells": [
  {
   "cell_type": "markdown",
   "source": [
    "# Minimized Maximum of Products Distributed to Any Store\n",
    "You are given an integer n indicating there are n specialty retail stores. There are m product types of varying amounts, which are given as a 0-indexed integer array quantities, where quantities[i] represents the number of products of the ith product type.\n",
    "You need to distribute all products to the retail stores following these rules:\n",
    "A store can only be given at most one product type but can be given any amount of it.\n",
    "After distribution, each store will have been given some number of products (possibly 0). Let x represent the maximum number of products given to any store. You want x to be as small as possible, i.e., you want to minimize the maximum number of products that are given to any store.\n",
    "Return the minimum possible x.\n",
    "\n",
    "\n",
    "### Example 1:\n",
    "- Input: n = 6, quantities = [11,6]\n",
    "- Output: 3\n",
    "- Explanation: One optimal way is:\n",
    "    - The 11 products of type 0 are distributed to the first four stores in these amounts: 2, 3, 3, 3\n",
    "    - The 6 products of type 1 are distributed to the other two stores in these amounts: 3, 3\n",
    "    - The maximum number of products given to any store is max(2, 3, 3, 3, 3, 3) = 3.\n",
    "\n",
    "### Example 2:\n",
    "- Input: n = 7, quantities = [15,10,10]\n",
    "- Output: 5\n",
    "- Explanation: One optimal way is:\n",
    "    - The 15 products of type 0 are distributed to the first three stores in these amounts: 5, 5, 5\n",
    "    - The 10 products of type 1 are distributed to the next two stores in these amounts: 5, 5\n",
    "    - The 10 products of type 2 are distributed to the last two stores in these amounts: 5, 5\n",
    "    - The maximum number of products given to any store is max(5, 5, 5, 5, 5, 5, 5) = 5.\n",
    "\n",
    "### Example 3:\n",
    "- Input: n = 1, quantities = [100000]\n",
    "- Output: 100000\n",
    "- Explanation: The only optimal way is:\n",
    "    - The 100000 products of type 0 are distributed to the only store.\n",
    "    - The maximum number of products given to any store is max(100000) = 100000.\n",
    " \n",
    "\n",
    "### Constraints:\n",
    "- m == quantities.length\n",
    "- 1 <= m <= n <= 105\n",
    "- 1 <= quantities[i] <= 105\n",
    "\n",
    "## Solution\n",
    "\n",
    "### Intuition\n",
    "\n",
    "### Implementation "
   ],
   "metadata": {}
  },
  {
   "cell_type": "code",
   "execution_count": 3,
   "source": [
    "import math\n",
    "\n",
    "def minimized_maximum(n: int, quantities: list) -> int:\n",
    "    \n",
    "    def bs(val):\n",
    "        count=0\n",
    "        for i in quantities:\n",
    "            count += math.ceil(i / val)\n",
    "        return count <= n\n",
    "        \n",
    "    l, h = 1, max(quantities)\n",
    "        \n",
    "    while l < h:\n",
    "        mid = l + (h - l) // 2\n",
    "        if bs(mid):\n",
    "            h = mid\n",
    "        else:\n",
    "            l=mid + 1\n",
    "    return h\n",
    "\n",
    "\n",
    "assert(minimized_maximum(6, [11,6]) == 3)\n",
    "assert(minimized_maximum(7, [15,10,10]) == 5)\n"
   ],
   "outputs": [],
   "metadata": {}
  },
  {
   "cell_type": "markdown",
   "source": [
    "Anlysis\n",
    "- Time Complexity: \n",
    "- Space Complexity: O(1)"
   ],
   "metadata": {}
  }
 ],
 "metadata": {
  "orig_nbformat": 4,
  "language_info": {
   "name": "python",
   "version": "3.10.0",
   "mimetype": "text/x-python",
   "codemirror_mode": {
    "name": "ipython",
    "version": 3
   },
   "pygments_lexer": "ipython3",
   "nbconvert_exporter": "python",
   "file_extension": ".py"
  },
  "kernelspec": {
   "name": "python3",
   "display_name": "Python 3.10.0 64-bit"
  },
  "interpreter": {
   "hash": "aee8b7b246df8f9039afb4144a1f6fd8d2ca17a180786b69acc140d282b71a49"
  }
 },
 "nbformat": 4,
 "nbformat_minor": 2
}