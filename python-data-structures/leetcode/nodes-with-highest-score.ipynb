{
 "cells": [
  {
   "cell_type": "markdown",
   "source": [
    "# Count Nodes With the Highest Score\n",
    "\n",
    "There is a binary tree rooted at 0 consisting of n nodes. The nodes are labeled from 0 to n - 1. You are given a 0-indexed integer array parents representing the tree, where parents[i] is the parent of node i. Since node 0 is the root, parents[0] == -1.\n",
    "Each node has a score. To find the score of a node, consider if the node and the edges connected to it were removed. The tree would become one or more non-empty subtrees. The size of a subtree is the number of the nodes in it. The score of the node is the product of the sizes of all those subtrees.\n",
    "Return the number of nodes that have the highest score.\n",
    "\n",
    "### Example 1\n",
    "- Input: parents = [-1,2,0,2,0]\n",
    "- Output: 3\n",
    "- Explanation:\n",
    "  - The score of node 0 is: 3 * 1 = 3 \n",
    "  - The score of node 1 is: 4 = 4\n",
    "  - The score of node 2 is: 1 * 1 * 2 = 2\n",
    "  - The score of node 3 is: 4 = 4\n",
    "  - The score of node 4 is: 4 = 4\n",
    "The highest score is 4, and three nodes (node 1, node 3, and node 4) have the highest score.\n",
    "<table width=\"512px\">\n",
    "  <tr>\n",
    "    <td><img src=\"../images/nodes-with-highest-score.png\" /></td>\n",
    "  </tr>\n",
    "</table>\n",
    "\n",
    "### Example 2\n",
    "- Input: parents = [-1,2,0]\n",
    "- Output: 2\n",
    "- Explanation:\n",
    "  - The score of node 0 is: 2 = 2\n",
    "  - The score of node 1 is: 2 = 2\n",
    "  - The score of node 2 is: 1 * 1 = 1\n",
    "The highest score is 2, and two nodes (node 0 and node 1) have the highest score.\n",
    "\n",
    "\n",
    "## Solution \n",
    "\n",
    "### Intuition \n",
    "For each node in tree, find subtrees by removing the node. For each subtree, count number of nodes. \n",
    "Perform a prod on nodes count list.\n",
    "\n",
    "### Implementation"
   ],
   "metadata": {}
  },
  {
   "cell_type": "code",
   "execution_count": 5,
   "source": [
    "import math\n",
    "\n",
    "\n",
    "def find_subtrees_roots(nodes: list, parent_idx: int) -> list:\n",
    "    res = []\n",
    "    for i in range(len(nodes)):\n",
    "        if nodes[i] == parent_idx:\n",
    "            res.append(i)\n",
    "    return res\n",
    "\n",
    "\n",
    "def get_subtree_size(nodes: list, root_idx) -> int:\n",
    "    q, res = [root_idx], [root_idx]\n",
    "    while q:\n",
    "        idx = q.pop(0)\n",
    "        print(idx, q, res)\n",
    "        res = [i for (i, v) in enumerate(nodes) if v == idx]\n",
    "        for i in res:\n",
    "            res.append(i)\n",
    "            q.append(i)\n",
    "    return len(res)\n",
    "\n",
    "\n",
    "def get_highest_score_nodes(nodes: list) -> int:\n",
    "    res = []\n",
    "    for i in range(len(nodes)):\n",
    "        sub_trees = []\n",
    "        root_indexes = find_subtrees_roots(nodes, i)\n",
    "        \n",
    "        if not sub_trees:\n",
    "            sub_trees.append(len(nodes) -1)\n",
    "        \n",
    "        for root_idx in root_indexes:\n",
    "            sub_trees.append(get_subtree_size(nodes, root_idx))\n",
    "        \n",
    "        res.append(math.prod(sub_trees))\n",
    "    \n",
    "    return len([x for x in res if x == max(res)])\n",
    "\n",
    "\n",
    "assert(get_highest_score_nodes([-1,2,0,2,0]) == 3)"
   ],
   "outputs": [
    {
     "output_type": "error",
     "ename": "KeyboardInterrupt",
     "evalue": "",
     "traceback": [
      "\u001b[0;31m---------------------------------------------------------------------------\u001b[0m",
      "\u001b[0;31mKeyboardInterrupt\u001b[0m                         Traceback (most recent call last)",
      "\u001b[0;32m/var/folders/br/hzvrvh5s3md8fzgyk_xvdh1w0000gq/T/ipykernel_58035/680788352.py\u001b[0m in \u001b[0;36m<module>\u001b[0;34m\u001b[0m\n\u001b[1;32m     38\u001b[0m \u001b[0;34m\u001b[0m\u001b[0m\n\u001b[1;32m     39\u001b[0m \u001b[0;34m\u001b[0m\u001b[0m\n\u001b[0;32m---> 40\u001b[0;31m \u001b[0;32massert\u001b[0m\u001b[0;34m(\u001b[0m\u001b[0mget_highest_score_nodes\u001b[0m\u001b[0;34m(\u001b[0m\u001b[0;34m[\u001b[0m\u001b[0;34m-\u001b[0m\u001b[0;36m1\u001b[0m\u001b[0;34m,\u001b[0m\u001b[0;36m2\u001b[0m\u001b[0;34m,\u001b[0m\u001b[0;36m0\u001b[0m\u001b[0;34m,\u001b[0m\u001b[0;36m2\u001b[0m\u001b[0;34m,\u001b[0m\u001b[0;36m0\u001b[0m\u001b[0;34m]\u001b[0m\u001b[0;34m)\u001b[0m \u001b[0;34m==\u001b[0m \u001b[0;36m3\u001b[0m\u001b[0;34m)\u001b[0m\u001b[0;34m\u001b[0m\u001b[0;34m\u001b[0m\u001b[0m\n\u001b[0m",
      "\u001b[0;32m/var/folders/br/hzvrvh5s3md8fzgyk_xvdh1w0000gq/T/ipykernel_58035/680788352.py\u001b[0m in \u001b[0;36mget_highest_score_nodes\u001b[0;34m(nodes)\u001b[0m\n\u001b[1;32m     31\u001b[0m \u001b[0;34m\u001b[0m\u001b[0m\n\u001b[1;32m     32\u001b[0m         \u001b[0;32mfor\u001b[0m \u001b[0mroot_idx\u001b[0m \u001b[0;32min\u001b[0m \u001b[0mroot_indexes\u001b[0m\u001b[0;34m:\u001b[0m\u001b[0;34m\u001b[0m\u001b[0;34m\u001b[0m\u001b[0m\n\u001b[0;32m---> 33\u001b[0;31m             \u001b[0msub_trees\u001b[0m\u001b[0;34m.\u001b[0m\u001b[0mappend\u001b[0m\u001b[0;34m(\u001b[0m\u001b[0mget_subtree_size\u001b[0m\u001b[0;34m(\u001b[0m\u001b[0mnodes\u001b[0m\u001b[0;34m,\u001b[0m \u001b[0mroot_idx\u001b[0m\u001b[0;34m)\u001b[0m\u001b[0;34m)\u001b[0m\u001b[0;34m\u001b[0m\u001b[0;34m\u001b[0m\u001b[0m\n\u001b[0m\u001b[1;32m     34\u001b[0m \u001b[0;34m\u001b[0m\u001b[0m\n\u001b[1;32m     35\u001b[0m         \u001b[0mres\u001b[0m\u001b[0;34m.\u001b[0m\u001b[0mappend\u001b[0m\u001b[0;34m(\u001b[0m\u001b[0mmath\u001b[0m\u001b[0;34m.\u001b[0m\u001b[0mprod\u001b[0m\u001b[0;34m(\u001b[0m\u001b[0msub_trees\u001b[0m\u001b[0;34m)\u001b[0m\u001b[0;34m)\u001b[0m\u001b[0;34m\u001b[0m\u001b[0;34m\u001b[0m\u001b[0m\n",
      "\u001b[0;32m/var/folders/br/hzvrvh5s3md8fzgyk_xvdh1w0000gq/T/ipykernel_58035/680788352.py\u001b[0m in \u001b[0;36mget_subtree_size\u001b[0;34m(nodes, root_idx)\u001b[0m\n\u001b[1;32m     16\u001b[0m         \u001b[0mres\u001b[0m \u001b[0;34m=\u001b[0m \u001b[0;34m[\u001b[0m\u001b[0mi\u001b[0m \u001b[0;32mfor\u001b[0m \u001b[0;34m(\u001b[0m\u001b[0mi\u001b[0m\u001b[0;34m,\u001b[0m \u001b[0mv\u001b[0m\u001b[0;34m)\u001b[0m \u001b[0;32min\u001b[0m \u001b[0menumerate\u001b[0m\u001b[0;34m(\u001b[0m\u001b[0mnodes\u001b[0m\u001b[0;34m)\u001b[0m \u001b[0;32mif\u001b[0m \u001b[0mv\u001b[0m \u001b[0;34m==\u001b[0m \u001b[0midx\u001b[0m\u001b[0;34m]\u001b[0m\u001b[0;34m\u001b[0m\u001b[0;34m\u001b[0m\u001b[0m\n\u001b[1;32m     17\u001b[0m         \u001b[0;32mfor\u001b[0m \u001b[0mi\u001b[0m \u001b[0;32min\u001b[0m \u001b[0mres\u001b[0m\u001b[0;34m:\u001b[0m\u001b[0;34m\u001b[0m\u001b[0;34m\u001b[0m\u001b[0m\n\u001b[0;32m---> 18\u001b[0;31m             \u001b[0mres\u001b[0m\u001b[0;34m.\u001b[0m\u001b[0mappend\u001b[0m\u001b[0;34m(\u001b[0m\u001b[0mi\u001b[0m\u001b[0;34m)\u001b[0m\u001b[0;34m\u001b[0m\u001b[0;34m\u001b[0m\u001b[0m\n\u001b[0m\u001b[1;32m     19\u001b[0m             \u001b[0mq\u001b[0m\u001b[0;34m.\u001b[0m\u001b[0mappend\u001b[0m\u001b[0;34m(\u001b[0m\u001b[0mi\u001b[0m\u001b[0;34m)\u001b[0m\u001b[0;34m\u001b[0m\u001b[0;34m\u001b[0m\u001b[0m\n\u001b[1;32m     20\u001b[0m     \u001b[0;32mreturn\u001b[0m \u001b[0mlen\u001b[0m\u001b[0;34m(\u001b[0m\u001b[0mres\u001b[0m\u001b[0;34m)\u001b[0m\u001b[0;34m\u001b[0m\u001b[0;34m\u001b[0m\u001b[0m\n",
      "\u001b[0;31mKeyboardInterrupt\u001b[0m: "
     ]
    }
   ],
   "metadata": {}
  }
 ],
 "metadata": {
  "orig_nbformat": 4,
  "language_info": {
   "name": "python",
   "version": "3.10.0",
   "mimetype": "text/x-python",
   "codemirror_mode": {
    "name": "ipython",
    "version": 3
   },
   "pygments_lexer": "ipython3",
   "nbconvert_exporter": "python",
   "file_extension": ".py"
  },
  "kernelspec": {
   "name": "python3",
   "display_name": "Python 3.10.0 64-bit"
  },
  "interpreter": {
   "hash": "aee8b7b246df8f9039afb4144a1f6fd8d2ca17a180786b69acc140d282b71a49"
  }
 },
 "nbformat": 4,
 "nbformat_minor": 2
}