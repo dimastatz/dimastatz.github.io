{
 "cells": [
  {
   "cell_type": "markdown",
   "source": [
    "# Maximize Distance to Closest Person\n",
    "You are given an array representing a row of seats where seats[i] = 1 represents a person sitting in the ith seat, and seats[i] = 0 represents that the ith seat is empty (0-indexed). There is at least one empty seat, and at least one person sitting.\n",
    "Alex wants to sit in the seat such that the distance between him and the closest person to him is maximized. Return that maximum distance to the closest person.\n",
    "\n",
    "### Example 1:\n",
    "- Input: seats = [1,0,0,0,1,0,1]\n",
    "- Output: 2\n",
    "- Explanation: If Alex sits in the second open seat (i.e. seats[2]), then the closest person has distance 2. If Alex sits in any other open seat, the closest person has distance 1. Thus, the maximum distance to the closest person is 2.\n",
    "\n",
    "### Example 2:\n",
    "- Input: seats = [1,0,0,0]\n",
    "- Output: 3\n",
    "- Explanation: If Alex sits in the last seat (i.e. seats[3]), the closest person is 3 seats away. This is the maximum distance possible, so the answer is 3.\n",
    "\n",
    "### Example 3:\n",
    "- Input: seats = [0,1]\n",
    "- Output: 1\n",
    "\n",
    "### Constraints:\n",
    "- 2 <= seats.length <= 2 * 104\n",
    "- seats[i] is 0 or 1.\n",
    "- At least one seat is empty.\n",
    "- At least one seat is occupied."
   ],
   "metadata": {}
  },
  {
   "cell_type": "code",
   "execution_count": 5,
   "source": [
    "'''\n",
    "IDEA1:\n",
    "    Brute-Force: for each 0 element in seats, start move to left and right simultaneously\n",
    "    until encontering 1. Keep track of max distances. Time Complexity of O(n^2)\n",
    "IDEA2:\n",
    "    Move to one direction and count zeros between 1's. Divide number of zeros by 2 \n",
    "    when between two 1's and take the whole result when in the beginning or in the end \n",
    "    Example 1:\n",
    "        1,0,0,1,0,1 -> 2\n",
    "    Example 2:\n",
    "        [0,1]\n",
    "'''\n",
    "def max_dist_to_closest(seats: list) -> int:\n",
    "    def get_distance(num) -> int:\n",
    "        r, q = divmod(num, 2)\n",
    "        if q > 0:\n",
    "            r += 1\n",
    "        return r\n",
    "    \n",
    "    start, empty, max_len = True, 0, 0\n",
    "    \n",
    "    for i in range(len(seats)):\n",
    "        if seats[i] == 0:\n",
    "            empty += 1\n",
    "        else:\n",
    "            distance = 0\n",
    "            distance = empty if start else get_distance(empty)\n",
    "            start = False\n",
    "            \n",
    "            if distance > max_len:\n",
    "                max_len = distance\n",
    "            empty = 0\n",
    "    \n",
    "    if empty > max_len:\n",
    "        max_len = empty\n",
    "        \n",
    "    return max_len\n",
    "\n",
    "assert max_dist_to_closest([0,1]) == 1\n",
    "assert max_dist_to_closest([1,0,0,0]) == 3\n",
    "assert max_dist_to_closest([1,0,0,0,1,0,1]) == 2\n",
    "\n"
   ],
   "outputs": [],
   "metadata": {}
  }
 ],
 "metadata": {
  "orig_nbformat": 4,
  "language_info": {
   "name": "python",
   "version": "3.10.0",
   "mimetype": "text/x-python",
   "codemirror_mode": {
    "name": "ipython",
    "version": 3
   },
   "pygments_lexer": "ipython3",
   "nbconvert_exporter": "python",
   "file_extension": ".py"
  },
  "kernelspec": {
   "name": "python3",
   "display_name": "Python 3.10.0 64-bit"
  },
  "interpreter": {
   "hash": "aee8b7b246df8f9039afb4144a1f6fd8d2ca17a180786b69acc140d282b71a49"
  }
 },
 "nbformat": 4,
 "nbformat_minor": 2
}