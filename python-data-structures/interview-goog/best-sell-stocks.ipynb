{
 "cells": [
  {
   "cell_type": "markdown",
   "source": [
    "# Best Time to Buy and Sell Stock\n",
    "You are given an array prices where prices[i] is the price of a given stock on the ith day.\n",
    "You want to maximize your profit by choosing a single day to buy one stock and choosing a different day in the future to sell that stock. Return the maximum profit you can achieve from this transaction. If you cannot achieve any profit, return 0.\n",
    "\n",
    "### Example 1:\n",
    "- Input: prices = [7,1,5,3,6,4]\n",
    "- Output: 5\n",
    "- Explanation: Buy on day 2 (price = 1) and sell on day 5 (price = 6), profit = 6-1 = 5.\n",
    "Note that buying on day 2 and selling on day 1 is not allowed because you must buy before you sell.\n",
    "\n",
    "### Example 2:\n",
    "- Input: prices = [7,6,4,3,1]\n",
    "- Output: 0\n",
    "- Explanation: In this case, no transactions are done and the max profit = 0.\n",
    " \n",
    "\n",
    "### Constraints:\n",
    "- 1 <= prices.length <= 10^5\n",
    "- 0 <= prices[i] <= 10^4"
   ],
   "metadata": {}
  },
  {
   "cell_type": "code",
   "execution_count": null,
   "source": [
    "'''\n",
    "IDEA 1: \n",
    "    The brute-force solution is simple, find all the pairs ai,aj such as j>i and a[j]>a[i] \n",
    "    and find the pair with the max diff. Such a solution will run in O(n^2)\n",
    "IDEA 2:\n",
    "    Loop through the list and update min_price and max_diff. It can be done in a single run \n",
    "    O(n)\n",
    "'''\n",
    "from typing import List\n",
    "\n",
    "class Solution:\n",
    "    def maxProfit(self, prices: List[int]) -> int:\n",
    "        min_price, max_diff = None, 0\n",
    "        \n",
    "        for price in prices:\n",
    "            if min_price is None or price < min_price:\n",
    "                min_price = price\n",
    "            elif price - min_price > max_diff:\n",
    "                max_diff = price - min_price\n",
    "        \n",
    "        return max_diff\n",
    "        "
   ],
   "outputs": [],
   "metadata": {}
  }
 ],
 "metadata": {
  "orig_nbformat": 4,
  "language_info": {
   "name": "python",
   "version": "3.10.0"
  },
  "kernelspec": {
   "name": "python3",
   "display_name": "Python 3.10.0 64-bit"
  },
  "interpreter": {
   "hash": "aee8b7b246df8f9039afb4144a1f6fd8d2ca17a180786b69acc140d282b71a49"
  }
 },
 "nbformat": 4,
 "nbformat_minor": 2
}