{
 "cells": [
  {
   "cell_type": "markdown",
   "source": [
    "# LRU Cache\n",
    "Design a data structure that follows the constraints of a Least Recently Used (LRU) cache.\n",
    "Implement the LRUCache class:\n",
    "- LRUCache(int capacity) Initialize the LRU cache with positive size capacity.\n",
    "- int get(int key) Return the value of the key if the key exists, otherwise return -1.\n",
    "- void put(int key, int value) Update the value of the key if the key exists. Otherwise, add the key-value pair to the cache. If the number of keys exceeds the capacity from this operation, evict the least recently used key.\n",
    "\n",
    "The functions get and put must each run in O(1) average time complexity.\n",
    "\n",
    "### Example 1:\n",
    "- Input: [\"LRUCache\", \"put\", \"put\", \"get\", \"put\", \"get\", \"put\", \"get\", \"get\", \"get\"]\n",
    "[[2], [1, 1], [2, 2], [1], [3, 3], [2], [4, 4], [1], [3], [4]]\n",
    "- Output: [null, null, null, 1, null, -1, null, -1, 3, 4]\n",
    "- Explanation\n",
    "    - LRUCache lRUCache = new LRUCache(2);\n",
    "    - lRUCache.put(1, 1); // cache is {1=1}\n",
    "    - lRUCache.put(2, 2); // cache is {1=1, 2=2}\n",
    "    - lRUCache.get(1);    // return 1\n",
    "    - lRUCache.put(3, 3); // LRU key was 2, evicts key 2, cache is {1=1, 3=3}\n",
    "    - lRUCache.get(2);    // returns -1 (not found)\n",
    "    - lRUCache.put(4, 4); // LRU key was 1, evicts key 1, cache is {4=4, 3=3}\n",
    "    - lRUCache.get(1);    // return -1 (not found)\n",
    "    - lRUCache.get(3);    // return 3\n",
    "    - lRUCache.get(4);    // return 4\n",
    "\n",
    "### Constraints:\n",
    "- 1 <= capacity <= 3000\n",
    "- 0 <= key <= 104\n",
    "- 0 <= value <= 105\n",
    "- At most 2 * 105 calls will be made to get and put."
   ],
   "metadata": {}
  },
  {
   "cell_type": "code",
   "execution_count": null,
   "source": [
    "'''\n",
    "IDEA:\n",
    "    The idea is manage items in ordered HashMap. It can be immplemented by Dictionary and Doubly\n",
    "    Linked List. The idea is that PUT will add a key-value pair to the HashMap and the key to the end of the\n",
    "    Doubly Linked List. GET fetches the value from the HashMap by key and moves the value to the end of linked list\n",
    "    When eviciting the existing value we just delete the key from the head of the doubled linked list and from HashMap\n",
    "ANALYSIS:\n",
    "    All operations are performed in O(1)\n",
    "'''\n",
    "\n",
    "from collections import OrderedDict\n",
    "\n",
    "class LRUCache:\n",
    "    def __init__(self, capacity: int):\n",
    "        self.cache = OrderedDict()\n",
    "        self.capacity = capacity\n",
    "        \n",
    "    def get(self, key: int) -> int:\n",
    "        if not key in self.cache:\n",
    "            return -1\n",
    "        else:\n",
    "            self.cache.move_to_end(key)\n",
    "            return self.cache[key]\n",
    "        \n",
    "    def put(self, key: int, value: int) -> None:\n",
    "        if key in self.cache:\n",
    "            self.cache.move_to_end(key)\n",
    "        self.cache[key] = value\n",
    "\n",
    "        if self.capacity < len(self.cache):\n",
    "            self.cache.popitem(last=False)"
   ],
   "outputs": [],
   "metadata": {}
  }
 ],
 "metadata": {
  "orig_nbformat": 4,
  "language_info": {
   "name": "python",
   "version": "3.10.0"
  },
  "kernelspec": {
   "name": "python3",
   "display_name": "Python 3.10.0 64-bit"
  },
  "interpreter": {
   "hash": "aee8b7b246df8f9039afb4144a1f6fd8d2ca17a180786b69acc140d282b71a49"
  }
 },
 "nbformat": 4,
 "nbformat_minor": 2
}