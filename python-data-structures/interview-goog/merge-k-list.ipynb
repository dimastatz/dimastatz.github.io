{
 "cells": [
  {
   "cell_type": "markdown",
   "source": [
    "# Merge k Sorted Lists\n",
    "You are given an array of k linked-lists lists, each linked-list is sorted in ascending order.\n",
    "Merge all the linked-lists into one sorted linked-list and return it.\n",
    "\n",
    "### Example 1:\n",
    "- Input: lists = [[1,4,5],[1,3,4],[2,6]]\n",
    "- Output: [1,1,2,3,4,4,5,6]\n",
    "- Explanation: The linked-lists are:\n",
    "[\n",
    "  1->4->5,\n",
    "  1->3->4,\n",
    "  2->6\n",
    "]\n",
    "merging them into one sorted list:\n",
    "1->1->2->3->4->4->5->6\n",
    "\n",
    "### Example 2:\n",
    "- Input: lists = []\n",
    "- Output: []\n",
    "\n",
    "### Example 3:\n",
    "- Input: lists = [[]]\n",
    "- Output: []\n",
    "\n",
    "## Solution"
   ],
   "metadata": {}
  },
  {
   "cell_type": "code",
   "execution_count": 3,
   "source": [
    "'''\n",
    "IDEA:\n",
    "    Assign the first LL from the sequence to result. Loop on other lists in sequence \n",
    "    and merge to result\n",
    "'''\n",
    "\n",
    "class ListNode:\n",
    "    def __init__(self, val=0, next=None):\n",
    "        self.val = val\n",
    "        self.next = next\n",
    "\n",
    "\n",
    "class Solution:\n",
    "    def mergeKLists(self, lists: ListNode) -> ListNode:\n",
    "        \n",
    "        def merge_two_lists(left, right):\n",
    "            root, tail, current = None, None, None\n",
    "            \n",
    "            while left and right:\n",
    "                if left.val <= right.val:\n",
    "                    current = left\n",
    "                    left = left.next\n",
    "                else:\n",
    "                    current = right\n",
    "                    right = right.next\n",
    "                \n",
    "                if not root:\n",
    "                    root = tail = current\n",
    "                else:\n",
    "                    tail.next = current\n",
    "                    tail = tail.next\n",
    "            \n",
    "            if left:\n",
    "                tail.next = left\n",
    "            elif right:\n",
    "                tail.next = right\n",
    "            \n",
    "            return root\n",
    "    \n",
    "        result = None\n",
    "        for lst in [x for x in lists if x]:\n",
    "            result = merge_two_lists(result, lst) if result else lst\n",
    "\n",
    "        return result"
   ],
   "outputs": [],
   "metadata": {}
  }
 ],
 "metadata": {
  "orig_nbformat": 4,
  "language_info": {
   "name": "python",
   "version": "3.10.0",
   "mimetype": "text/x-python",
   "codemirror_mode": {
    "name": "ipython",
    "version": 3
   },
   "pygments_lexer": "ipython3",
   "nbconvert_exporter": "python",
   "file_extension": ".py"
  },
  "kernelspec": {
   "name": "python3",
   "display_name": "Python 3.10.0 64-bit"
  },
  "interpreter": {
   "hash": "aee8b7b246df8f9039afb4144a1f6fd8d2ca17a180786b69acc140d282b71a49"
  }
 },
 "nbformat": 4,
 "nbformat_minor": 2
}