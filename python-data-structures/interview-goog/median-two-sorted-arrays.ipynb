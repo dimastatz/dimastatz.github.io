{
 "cells": [
  {
   "cell_type": "markdown",
   "source": [
    "# Median of Two Sorted Arrays\n",
    "Given two sorted arrays nums1 and nums2 of size m and n respectively, return the median of the two sorted arrays. The overall run time complexity should be O(log (m+n)).\n",
    "\n",
    "### Example 1:\n",
    "- Input: nums1 = [1,3], nums2 = [2]\n",
    "- Output: 2.00000\n",
    "- Explanation: merged array = [1,2,3] and median is 2.\n",
    "\n",
    "### Example 2\n",
    "- Input: nums1 = [1,2], nums2 = [3,4]\n",
    "- Output: 2.50000\n",
    "- Explanation: merged array = [1,2,3,4] and median is (2 + 3) / 2 = 2.5\n",
    "\n",
    "### Constraints:\n",
    "- nums1.length == m\n",
    "- nums2.length == n\n",
    "- 0 <= m <= 1000\n",
    "- 0 <= n <= 1000\n",
    "- 1 <= m + n <= 2000\n",
    "- -106 <= nums1[i], nums2[i] <= 106"
   ],
   "metadata": {}
  },
  {
   "cell_type": "code",
   "execution_count": null,
   "source": [
    "'''\n",
    "IDEA1:\n",
    "    median = (arr[0] + arr[1] + ... + arr[n]) / (n + 1) \n",
    "'''"
   ],
   "outputs": [],
   "metadata": {}
  }
 ],
 "metadata": {
  "orig_nbformat": 4,
  "language_info": {
   "name": "python",
   "version": "3.10.0"
  },
  "kernelspec": {
   "name": "python3",
   "display_name": "Python 3.10.0 64-bit"
  },
  "interpreter": {
   "hash": "aee8b7b246df8f9039afb4144a1f6fd8d2ca17a180786b69acc140d282b71a49"
  }
 },
 "nbformat": 4,
 "nbformat_minor": 2
}