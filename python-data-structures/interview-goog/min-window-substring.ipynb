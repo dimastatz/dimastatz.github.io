{
 "cells": [
  {
   "cell_type": "markdown",
   "source": [
    "# Minimum Window Substring\n",
    "Given two strings s and t of lengths m and n respectively, return the minimum window substring of s such that every character in t (including duplicates) is included in the window. If there is no such substring, return the empty string \"\".\n",
    "The testcases will be generated such that the answer is unique.\n",
    "A substring is a contiguous sequence of characters within the string.\n",
    "\n",
    "### Example 1:\n",
    "Input: s = \"ADOBECODEBANC\", t = \"ABC\"\n",
    "Output: \"BANC\"\n",
    "Explanation: The minimum window substring \"BANC\" includes 'A', 'B', and 'C' from string t.\n",
    "\n",
    "### Example 2:\n",
    "Input: s = \"a\", t = \"a\"\n",
    "Output: \"a\"\n",
    "Explanation: The entire string s is the minimum window.\n",
    "\n",
    "### Example 3:\n",
    "Input: s = \"a\", t = \"aa\"\n",
    "Output: \"\"\n",
    "Explanation: Both 'a's from t must be included in the window.\n",
    "Since the largest window of s only has one 'a', return empty string.\n",
    "\n",
    "### Constraints:\n",
    "- m == s.length\n",
    "- n == t.length\n",
    "- 1 <= m, n <= 105\n",
    "- s and t consist of uppercase and lowercase English letters."
   ],
   "metadata": {}
  },
  {
   "cell_type": "code",
   "execution_count": 1,
   "source": [
    "def create_dict(t: str) -> dict:\n",
    "    res = {}\n",
    "    for c in t:\n",
    "        state = res.get(c, (0,0))\n",
    "        res[c] = state[0] + 1, 0\n",
    "    return res\n",
    "\n",
    "\n",
    "def is_complete(d: dict) -> bool:\n",
    "    for x in d.values():\n",
    "        if x[0] > x[1]:\n",
    "            return False\n",
    "    return True\n",
    "\n",
    "\n",
    "def move_left(s: str, left: int, pattern: dict) -> int:\n",
    "    while left < len(s):\n",
    "        if not s[left] in pattern:\n",
    "            left += 1\n",
    "        else:\n",
    "            state = pattern[s[left]]\n",
    "            if state[1] > state[0]:\n",
    "                pattern[s[left]] = (state[0], state[1] - 1)\n",
    "                left += 1\n",
    "            else:\n",
    "                break\n",
    "    return left\n",
    "\n",
    "\n",
    "def min_window(s: str, t: str) -> str:\n",
    "    pattern = create_dict(t)\n",
    "    left, right, res = 0, 0, ''\n",
    "\n",
    "    while right < len(s):\n",
    "        if s[right] in pattern:\n",
    "            pattern[s[right]] = pattern[s[right]][0], pattern[s[right]][1] + 1 \n",
    "\n",
    "        right += 1\n",
    "        left = move_left(s, left, pattern)\n",
    "\n",
    "        if is_complete(pattern):\n",
    "            if not res or len(res) > right - left:\n",
    "                res = s[left:right]\n",
    "    return res\n",
    "\n",
    "assert min_window('a', 'b') == ''\n",
    "assert min_window('a', 'a') == 'a'\n",
    "assert min_window('a', 'aa') == ''\n",
    "assert min_window('ADOBECODEBANC', 'ABC') == 'BANC'\n"
   ],
   "outputs": [],
   "metadata": {}
  }
 ],
 "metadata": {
  "orig_nbformat": 4,
  "language_info": {
   "name": "python",
   "version": "3.10.0",
   "mimetype": "text/x-python",
   "codemirror_mode": {
    "name": "ipython",
    "version": 3
   },
   "pygments_lexer": "ipython3",
   "nbconvert_exporter": "python",
   "file_extension": ".py"
  },
  "kernelspec": {
   "name": "python3",
   "display_name": "Python 3.10.0 64-bit"
  },
  "interpreter": {
   "hash": "aee8b7b246df8f9039afb4144a1f6fd8d2ca17a180786b69acc140d282b71a49"
  }
 },
 "nbformat": 4,
 "nbformat_minor": 2
}