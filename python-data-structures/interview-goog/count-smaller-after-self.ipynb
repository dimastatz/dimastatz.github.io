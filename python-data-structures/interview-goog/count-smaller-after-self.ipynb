{
 "cells": [
  {
   "cell_type": "markdown",
   "source": [
    "# Count of Smaller Numbers After Self\n",
    "You are given an integer array nums and you have to return a new counts array. The counts array has the property where counts[i] is the number of smaller elements to the right of nums[i]."
   ],
   "metadata": {}
  },
  {
   "cell_type": "code",
   "execution_count": 9,
   "source": [
    "'''\n",
    "Examples:\n",
    "    [5,2,6,1] -> [2,1,1,0]\n",
    "    [-1] -> [0]\n",
    "    [-1,-1] -> [0,0]\n",
    "\n",
    "IDEA1:\n",
    "    The first aproach is easy. For each element count the \n",
    "    number of elements that are smaller then the element itself.\n",
    "    Time Complexity O(n^2)\n",
    "'''\n",
    "def count_smaller(nums: list) -> list:\n",
    "    res = []\n",
    "    for i in range(len(nums)):\n",
    "        res.append(len([x for x in nums[i+1:] if x < nums[i]]))\n",
    "    return res\n",
    "\n",
    "assert count_smaller([-1]) == [0]\n",
    "assert count_smaller([-1, -1]) == [0, 0]\n",
    "assert count_smaller([5,2,6,1]) == [2,1,1,0]"
   ],
   "outputs": [],
   "metadata": {}
  },
  {
   "cell_type": "code",
   "execution_count": null,
   "source": [],
   "outputs": [],
   "metadata": {}
  }
 ],
 "metadata": {
  "orig_nbformat": 4,
  "language_info": {
   "name": "python",
   "version": "3.10.0",
   "mimetype": "text/x-python",
   "codemirror_mode": {
    "name": "ipython",
    "version": 3
   },
   "pygments_lexer": "ipython3",
   "nbconvert_exporter": "python",
   "file_extension": ".py"
  },
  "kernelspec": {
   "name": "python3",
   "display_name": "Python 3.10.0 64-bit"
  },
  "interpreter": {
   "hash": "aee8b7b246df8f9039afb4144a1f6fd8d2ca17a180786b69acc140d282b71a49"
  }
 },
 "nbformat": 4,
 "nbformat_minor": 2
}