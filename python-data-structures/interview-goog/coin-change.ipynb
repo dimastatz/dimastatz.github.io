{
 "cells": [
  {
   "cell_type": "markdown",
   "source": [
    "# Coin Change\n",
    "You are given an integer array coins representing coins of different denominations and an integer amount representing a total amount of money.\n",
    "Return the fewest number of coins that you need to make up that amount. If that amount of money cannot be made up by any combination of the coins, return -1.\n",
    "You may assume that you have an infinite number of each kind of coin.\n",
    "\n",
    "### Example 1:\n",
    "- Input: coins = [1,2,5], amount = 11\n",
    "- Output: 3\n",
    "- Explanation: 11 = 5 + 5 + 1\n",
    "\n",
    "### Example 2:\n",
    "- Input: coins = [2], amount = 3\n",
    "- Output: -1\n",
    "\n",
    "### Example 3:\n",
    "Input: coins = [1], amount = 0\n",
    "Output: 0\n",
    "\n",
    "### Constraints:\n",
    "- 1 <= coins.length <= 12\n",
    "- 1 <= coins[i] <= 2^31 - 1\n",
    "- 0 <= amount <= 10^4"
   ],
   "metadata": {}
  },
  {
   "cell_type": "code",
   "execution_count": 3,
   "source": [
    "'''\n",
    "IDEA1: recursive + memoization (aka Top Down)\n",
    "    Run on DT by using DFS and save to cache all computed results\n",
    "ANALYSIS:\n",
    "    Time Complexity O(coins * amount)\n",
    "    Memory Complexity O(amount)\n",
    "'''\n",
    "def coin_change_mem(coins: list, amount: int, cache = {}) -> int:\n",
    "    if amount == 0:\n",
    "        return 0\n",
    "    elif amount < 0:\n",
    "        return -1\n",
    "    elif amount in cache:\n",
    "        return cache[amount]\n",
    "    else:\n",
    "        results = []\n",
    "        for c in coins:\n",
    "            res = coin_change_mem(coins, amount - c, cache)\n",
    "            if res != -1:\n",
    "                results.append(1 + res)\n",
    "        min_change = min(results) if results else -1\n",
    "        cache[amount] = min_change\n",
    "        return min_change\n",
    "\n",
    "'''\n",
    "IDEA2: DP aka bottom up\n",
    "    Allocate list of size amount + 1. Each amount try to change by min value of coins\n",
    "    Example [1, 2, 3] 5\n",
    "        - [6, 6, 6, 6, 6, 6]\n",
    "        - 0 [0, 6, 6, 6, 6, 6]\n",
    "        - 1 [0, 1, 6, 6, 6, 6]\n",
    "        - 2 [0, 1, 1, 6, 6, 6]\n",
    "        - 3 [0, 1, 1, 1, 6, 6]\n",
    "        - 4 [0, 1, 1, 1, 2, 6]\n",
    "        - 5 [0, 1, 1, 1, 2, 2]\n",
    "ANALYSIS:\n",
    "    Time Complexity O(coins * amount)\n",
    "    Memory Complexity O(amount)\n",
    "'''\n",
    "def coin_change_dp(coins: list, amount: int) -> int:\n",
    "    dp = [amount + 1] * (amount + 1)\n",
    "    dp[0] = 0\n",
    "\n",
    "    for a in range(1, amount + 1):\n",
    "        for c in coins:\n",
    "            if a - c >= 0:\n",
    "                dp[a] = min(dp[a], 1 + dp[a - c]) \n",
    "    return dp[amount] if dp[amount] != amount + 1 else -1\n",
    "\n",
    "\n",
    "assert coin_change_dp([1,2,5], 11) == 3\n",
    "assert coin_change_mem([1,2,5], 11) == 3"
   ],
   "outputs": [],
   "metadata": {}
  },
  {
   "cell_type": "markdown",
   "source": [],
   "metadata": {}
  }
 ],
 "metadata": {
  "orig_nbformat": 4,
  "language_info": {
   "name": "python",
   "version": "3.10.0",
   "mimetype": "text/x-python",
   "codemirror_mode": {
    "name": "ipython",
    "version": 3
   },
   "pygments_lexer": "ipython3",
   "nbconvert_exporter": "python",
   "file_extension": ".py"
  },
  "kernelspec": {
   "name": "python3",
   "display_name": "Python 3.10.0 64-bit"
  },
  "interpreter": {
   "hash": "aee8b7b246df8f9039afb4144a1f6fd8d2ca17a180786b69acc140d282b71a49"
  }
 },
 "nbformat": 4,
 "nbformat_minor": 2
}