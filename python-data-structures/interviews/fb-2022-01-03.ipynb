{
  "cells": [
    {
      "cell_type": "markdown",
      "source": [
        "# FB Screening [2022-01-03] [PASSED]\n",
        "\n",
        "## Q1\n",
        "Given an array of unsorted integers. Find missing numbers from [0 ... n-1]\n",
        "\n",
        "### Intuition\n",
        "The first approach is simple. Sort the array. Loop though elements and return false when index is not equal to the array element. This solution runs in O(n*log(n)). Another approach is to load all elements (0..n-1) to the hash map as keys, and set a false value for each key. Then iterate through elements of array and set True to each element of array.\n",
        "\n",
        "### Implementation"
      ],
      "metadata": {}
    },
    {
      "cell_type": "code",
      "execution_count": 12,
      "source": [
        "def has_missing_1(nums: list) -> bool:\n",
        "    nums = sorted(nums)\n",
        "    for i in range(len(nums)):\n",
        "        if i != nums[i]:\n",
        "            return True\n",
        "    return False\n",
        "\n",
        "\n",
        "def has_missing_2(nums: list) -> bool:\n",
        "    d = dict([(k, False) for k in range(0, len(nums))])\n",
        "    for n in nums:\n",
        "        if n not in d:\n",
        "            return True\n",
        "        else:\n",
        "            d[n] = True\n",
        "            \n",
        "    return next((v for v in d.values() if v == False), None) != None\n",
        "\n",
        "\n",
        "assert(has_missing_1([0, 1, 2, 3, 5]) == True)\n",
        "assert(has_missing_1([0, 1, 2, 3, 4, 5]) == False)\n",
        "assert(has_missing_2([0, 1, 2, 3, 5]) == True)\n",
        "assert(has_missing_2([0, 1, 2, 3, 4, 5]) == False)"
      ],
      "outputs": [],
      "metadata": {}
    },
    {
      "cell_type": "markdown",
      "source": [
        "## Q2\n",
        "Given the logins logs array. Each log event is defined by (user_id, timestamp), find users that have 5 consequent logins\n",
        "\n",
        "### Intuition:\n",
        "Define the class that represents the log entry. Loop through all events and add the to dictinary where user_id is the key and list of logins is the value. Then loop through all users in a dictionary and find the 5 consequent logins."
      ],
      "metadata": {}
    },
    {
      "cell_type": "code",
      "execution_count": 17,
      "source": [
        "from typing import NamedTuple, List\n",
        "\n",
        "\n",
        "class Log(NamedTuple):\n",
        "    user_id: str\n",
        "    timestamp: int\n",
        "\n",
        "\n",
        "def has_consequent_logins(dates, num) -> bool:\n",
        "    for i in range(1, len(dates)):\n",
        "        if dates[i] - dates[i-1] == 1:\n",
        "            count += 1\n",
        "        else:\n",
        "            count = 0\n",
        "        \n",
        "        if count == num:\n",
        "            return True\n",
        "    \n",
        "    return False\n",
        "\n",
        "\n",
        "def get_users(logins: List[Log]):\n",
        "    d = {}\n",
        "    for l in logins:\n",
        "        lst = d.get(l, [])\n",
        "        lst.append(l.timestamp)\n",
        "    \n",
        "    res = []\n",
        "    for k, v in d.items():\n",
        "        if has_consequent_logins(v, 5):\n",
        "            res.append(k)\n",
        "        \n",
        "    return res\n"
      ],
      "outputs": [],
      "metadata": {}
    },
    {
      "cell_type": "markdown",
      "source": [
        "Complexity questions weren't asked in the second question. Looks like it supposed to be a design question ???"
      ],
      "metadata": {}
    }
  ],
  "metadata": {
    "orig_nbformat": 4,
    "language_info": {
      "name": "python",
      "version": "3.10.0",
      "mimetype": "text/x-python",
      "codemirror_mode": {
        "name": "ipython",
        "version": 3
      },
      "pygments_lexer": "ipython3",
      "nbconvert_exporter": "python",
      "file_extension": ".py"
    },
    "kernelspec": {
      "name": "python3",
      "display_name": "Python 3.10.0 64-bit"
    },
    "interpreter": {
      "hash": "aee8b7b246df8f9039afb4144a1f6fd8d2ca17a180786b69acc140d282b71a49"
    }
  },
  "nbformat": 4,
  "nbformat_minor": 2
}