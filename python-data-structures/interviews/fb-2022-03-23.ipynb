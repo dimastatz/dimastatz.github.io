{
 "cells": [
  {
   "cell_type": "markdown",
   "source": [
    "# 2022-03-23 Coding Day\n",
    "\n",
    "## Session 1\n",
    "    - Question 1. Given an array of integers, returns the index of the max value. If array conatins more than such value, return an random index of max values \n",
    "        - Example 1: [1, 2, 6, 2, 6, 6] return a random of [2, 4, 5]\n",
    "    - Question 2. Given a binary tree, where each node given by the following data structure {val, left, right, parent}. Return the 'closest' common parent of two nodes.\n",
    "\n",
    "## Session 2\n",
    "    - Question 1. Given an array of integers and integer k. Return True if there are duplicated in windows of size k.\n",
    "        - Example 1: [1, 2, 1, 4] k = 2 - false\n",
    "        - Example 2: [1, 2, 1, 4] k = 3 - true \n",
    "    - Question 2. Given a long string and dictionary of words. Return true if string consist of words from dictionary.      \n",
    "        - Example 1: 'ilovetlv' { 'i', 'love', 'tlv'} - true\n",
    "        - Example 2: 'iloveny' { 'i', 'love', 'tlv'} - false\n"
   ],
   "metadata": {}
  }
 ],
 "metadata": {
  "orig_nbformat": 4,
  "language_info": {
   "name": "python"
  }
 },
 "nbformat": 4,
 "nbformat_minor": 2
}