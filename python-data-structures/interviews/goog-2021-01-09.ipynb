{
 "cells": [
  {
   "cell_type": "markdown",
   "source": [
    "# Maximum Subarray - [Goog Screening] [Passed]\n",
    "Given an integer array nums, find the contiguous subarray (containing at least one number) which has the largest sum and return its sum. A subarray is a contiguous part of an array.\n",
    "\n",
    "### Example 1:\n",
    "- Input: nums = [-2,1,-3,4,-1,2,1,-5,4]\n",
    "- Output: 6\n",
    "- Explanation: [4,-1,2,1] has the largest sum = 6.\n",
    "\n",
    "### Example 2:\n",
    "- Input: nums = [1]\n",
    "- Output: 1\n",
    "\n",
    "### Example 3:\n",
    "- Input: nums = [5,4,-1,7,8]\n",
    "- Output: 23\n",
    " \n",
    "### Constraints:\n",
    "- 1 <= nums.length <= 10^5\n",
    "- -10^4 <= nums[i] <= 10^4\n",
    "\n",
    "## Solution\n",
    "\n",
    "### Intuition \n",
    "The naive approach is just to map all possible sub arrays and take the largest. The more efficient approach is to track the current length of the array and once the tail is smaller the 0, we move the start to the current position\n",
    "\n",
    "### Implementation"
   ],
   "metadata": {}
  },
  {
   "cell_type": "code",
   "execution_count": 3,
   "source": [
    "def max_sub_array(nums: list) -> int:\n",
    "    def _simple(nums: list) -> int:\n",
    "        max_len = None\n",
    "        for i in range(len(nums)):\n",
    "            tmp_len = 0\n",
    "            for j in range(i, len(nums)):\n",
    "                tmp_len += nums[j]\n",
    "                if max_len is None or tmp_len > max_len:\n",
    "                    max_len = tmp_len\n",
    "        return max_len\n",
    "    #return _simple(nums)\n",
    "\n",
    "    def _efficient(nums: list) -> int:\n",
    "        acc, max_sum = 0, None\n",
    "        current = 0\n",
    "        while current < len(nums):\n",
    "            acc += nums[current]\n",
    "            if max_sum is None or acc > max_sum:\n",
    "                max_sum = acc\n",
    "            if acc <= 0:\n",
    "                acc = 0\n",
    "            current += 1\n",
    "        return max_sum\n",
    "        \n",
    "    return _efficient(nums) \n",
    "\n",
    "assert(max_sub_array([1]) == 1)\n",
    "assert(max_sub_array([5,4,-1,7,8]) == 23)\n",
    "assert(max_sub_array([-2,1,-3,4,-1,2,1,-5,4]) == 6)              "
   ],
   "outputs": [],
   "metadata": {}
  },
  {
   "cell_type": "markdown",
   "source": [
    "## Analysis\n",
    "- Time Complexity: O(n)\n",
    "- Space Complexity: O(1)"
   ],
   "metadata": {}
  }
 ],
 "metadata": {
  "orig_nbformat": 4,
  "language_info": {
   "name": "python",
   "version": "3.10.0",
   "mimetype": "text/x-python",
   "codemirror_mode": {
    "name": "ipython",
    "version": 3
   },
   "pygments_lexer": "ipython3",
   "nbconvert_exporter": "python",
   "file_extension": ".py"
  },
  "kernelspec": {
   "name": "python3",
   "display_name": "Python 3.10.0 64-bit"
  },
  "interpreter": {
   "hash": "aee8b7b246df8f9039afb4144a1f6fd8d2ca17a180786b69acc140d282b71a49"
  }
 },
 "nbformat": 4,
 "nbformat_minor": 2
}