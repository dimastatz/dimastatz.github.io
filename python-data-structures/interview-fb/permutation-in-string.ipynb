{
 "cells": [
  {
   "cell_type": "markdown",
   "source": [
    "# Permutation in String\n",
    "Given two strings s1 and s2, return true if s2 contains a permutation of s1, or false otherwise.\n",
    "In other words, return true if one of s1's permutations is the substring of s2."
   ],
   "metadata": {}
  },
  {
   "cell_type": "code",
   "execution_count": 3,
   "source": [
    "'''\n",
    "Example 1:\n",
    "    s1 = \"ab\", s2 = \"eidbaooo\" -> true\n",
    "Explanation: s2 contains one permutation of s1 (\"ba\").\n",
    "\n",
    "Example 2:\n",
    "    s1 = \"ab\", s2 = \"eidboaoo\" -> false\n",
    "'''\n",
    "\n",
    "from collections import Counter\n",
    "\n",
    "\n",
    "def check_inclusion(s1: str, s2: str) -> bool:\n",
    "    c1 = Counter(list(s1))\n",
    "    \n",
    "    left, right = 0, len(s1) - 1\n",
    "    c2 = Counter(s2[:len(s1)])\n",
    "    \n",
    "    \n",
    "    while right < len(s2):\n",
    "        if c1 == c2:\n",
    "            return True\n",
    "        else:\n",
    "            left +=1\n",
    "            right +=1\n",
    "            c2 = Counter(s2[left: right + 1])\n",
    "            \n",
    "    return False\n",
    "\n",
    "assert check_inclusion('ab', 'eidboaoo') == False\n",
    "assert check_inclusion('ab', 'eidbaooo') == True\n"
   ],
   "outputs": [],
   "metadata": {}
  }
 ],
 "metadata": {
  "orig_nbformat": 4,
  "language_info": {
   "name": "python",
   "version": "3.10.0",
   "mimetype": "text/x-python",
   "codemirror_mode": {
    "name": "ipython",
    "version": 3
   },
   "pygments_lexer": "ipython3",
   "nbconvert_exporter": "python",
   "file_extension": ".py"
  },
  "kernelspec": {
   "name": "python3",
   "display_name": "Python 3.10.0 64-bit"
  },
  "interpreter": {
   "hash": "aee8b7b246df8f9039afb4144a1f6fd8d2ca17a180786b69acc140d282b71a49"
  }
 },
 "nbformat": 4,
 "nbformat_minor": 2
}