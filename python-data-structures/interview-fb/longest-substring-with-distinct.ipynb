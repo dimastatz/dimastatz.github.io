{
 "cells": [
  {
   "cell_type": "markdown",
   "source": [
    "# Longest Substring with At Most K Distinct Characters\n",
    "Given a string s and an integer k, return the length of the longest substring of s that contains at most k distinct characters."
   ],
   "metadata": {}
  },
  {
   "cell_type": "code",
   "execution_count": 1,
   "source": [
    "'''\n",
    "Example: \n",
    "    'ece' k=2 -> 3 ('ece')\n",
    "    'aa' k=1 -> 2 ('aa')\n",
    "    '' k=1 -> 0\n",
    "\n",
    "IDEA 1:\n",
    "    brute-force: loop through all substrings and check the distinct \n",
    "    Complexity O(n^2)\n",
    "    \n",
    "IDEA 2:\n",
    "    sliding window - expand window until it has k distinct chars.\n",
    "    once it has more, decrease the window.\n",
    "    \n",
    "'''\n",
    "def length_of_longest_substring_k_distinct(s: str, k: int) -> int:\n",
    "    window = {}\n",
    "    left, right, res = 0, 0, 0\n",
    "\n",
    "    while right < len(s):\n",
    "        if len(window) > k:\n",
    "            window[s[left]] = window[s[left]] - 1\n",
    "            if window[s[left]] == 0:\n",
    "                del window[s[left]]\n",
    "            left += 1\n",
    "        else:\n",
    "            window[s[right]] = window.get(s[right], 0) + 1\n",
    "            right += 1\n",
    "            if len(window) <= k:\n",
    "                current = sum(x for x in window.values())\n",
    "                if current > res:\n",
    "                    res = current\n",
    "        \n",
    "    return res\n",
    "\n",
    "assert length_of_longest_substring_k_distinct('aa', 1) == 2\n",
    "assert length_of_longest_substring_k_distinct('eceba', 2) == 3\n",
    "\n",
    "        "
   ],
   "outputs": [],
   "metadata": {}
  }
 ],
 "metadata": {
  "orig_nbformat": 4,
  "language_info": {
   "name": "python",
   "version": "3.10.0",
   "mimetype": "text/x-python",
   "codemirror_mode": {
    "name": "ipython",
    "version": 3
   },
   "pygments_lexer": "ipython3",
   "nbconvert_exporter": "python",
   "file_extension": ".py"
  },
  "kernelspec": {
   "name": "python3",
   "display_name": "Python 3.10.0 64-bit"
  },
  "interpreter": {
   "hash": "aee8b7b246df8f9039afb4144a1f6fd8d2ca17a180786b69acc140d282b71a49"
  }
 },
 "nbformat": 4,
 "nbformat_minor": 2
}