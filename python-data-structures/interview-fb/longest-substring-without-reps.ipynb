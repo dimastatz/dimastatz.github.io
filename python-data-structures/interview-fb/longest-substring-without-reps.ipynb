{
 "cells": [
  {
   "cell_type": "markdown",
   "source": [
    "# Longest Substring Without Repeating Characters\n",
    "Given a string s, find the length of the longest substring without repeating characters."
   ],
   "metadata": {}
  },
  {
   "cell_type": "code",
   "execution_count": 26,
   "source": [
    "'''\n",
    "Example 1:\n",
    "    \"abcabcbb\" -> 3 \n",
    "    Explanation: The answer is \"abc\", with the length of 3.\n",
    "Example 2:\n",
    "    \"bbbbb\" -> 1\n",
    "    Explanation: The answer is \"b\", with the length of 1.\n",
    "Example 3:\n",
    "    \"pwwkew\" -> 3\n",
    "    Explanation: The answer is \"wke\", with the length of 3.\n",
    "\n",
    "IDEA 1:\n",
    "    Try all possible substrings and return the length of the longest without repeating chars\n",
    "\n",
    "IDEA 2:\n",
    "    Keep track of left and right pointer. When the next char is repeating move left untill removing \n",
    "    the repeating char \n",
    "\n",
    "    Time Complexity O(n)\n",
    "    Space Complexity O(n)\n",
    "'''\n",
    "\n",
    "def length_of_longest_substring(s: str) -> int:\n",
    "    visited, left, right = set(), 0, 0\n",
    "    max_len = 0\n",
    "\n",
    "    def move_left(left, s, c, visited):\n",
    "        while True:\n",
    "            if s[left] in visited:\n",
    "                visited.remove(s[left])\n",
    "            if s[left] == c:\n",
    "                break\n",
    "            left += 1\n",
    "\n",
    "        return left + 1\n",
    "    \n",
    "    while right < len(s):\n",
    "        if s[right] in visited:\n",
    "            left = move_left(left, s, s[right], visited)\n",
    "        else:    \n",
    "            visited.add(s[right])\n",
    "            right += 1\n",
    "\n",
    "        if max_len < right - left:\n",
    "            max_len = right - left\n",
    "    \n",
    "    return max_len         \n",
    "\n",
    "assert length_of_longest_substring('abba') == 2\n",
    "assert length_of_longest_substring('bbbbb') == 1\n",
    "assert length_of_longest_substring('abcabcbb') == 3\n",
    "assert length_of_longest_substring('tmmzuxt') == 5  "
   ],
   "outputs": [],
   "metadata": {}
  }
 ],
 "metadata": {
  "orig_nbformat": 4,
  "language_info": {
   "name": "python",
   "version": "3.10.0",
   "mimetype": "text/x-python",
   "codemirror_mode": {
    "name": "ipython",
    "version": 3
   },
   "pygments_lexer": "ipython3",
   "nbconvert_exporter": "python",
   "file_extension": ".py"
  },
  "kernelspec": {
   "name": "python3",
   "display_name": "Python 3.10.0 64-bit"
  },
  "interpreter": {
   "hash": "aee8b7b246df8f9039afb4144a1f6fd8d2ca17a180786b69acc140d282b71a49"
  }
 },
 "nbformat": 4,
 "nbformat_minor": 2
}