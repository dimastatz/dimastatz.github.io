{
 "cells": [
  {
   "cell_type": "markdown",
   "source": [
    "# Given the root of a binary tree, flatten the tree into a \"linked list\":\n",
    "The \"linked list\" should use the same TreeNode class where the right child pointer points to the next node in the list and the left child pointer is always null.\n",
    "The \"linked list\" should be in the same order as a pre-order traversal of the binary tree.\n"
   ],
   "metadata": {}
  },
  {
   "cell_type": "code",
   "execution_count": null,
   "source": [
    "class TreeNode:\n",
    "    def __init__(self, val=0, left=None, right=None):\n",
    "        self.val = val\n",
    "        self.left = left\n",
    "        self.right = right\n",
    "\n",
    "\n",
    "def flatten(root: TreeNode) -> None:\n",
    "    \"\"\"\n",
    "    Do not return anything, modify root in-place instead.\n",
    "    \"\"\"\n",
    "    def preorder(node, stack):\n",
    "        if node:\n",
    "            stack.append(node)\n",
    "            preorder(node.left, stack)\n",
    "            preorder(node.right, stack)\n",
    "    \n",
    "    stack = []\n",
    "    preorder(root, stack)\n",
    "    \n",
    "    \n",
    "    current, prev = None, None\n",
    "    while stack:\n",
    "        current = stack.pop(0)\n",
    "        if prev:\n",
    "            prev.left = None\n",
    "            prev.right = current\n",
    "        prev = current\n",
    "    \n",
    "    if current:\n",
    "        current.left = None\n",
    "        current.right = None"
   ],
   "outputs": [],
   "metadata": {}
  }
 ],
 "metadata": {
  "orig_nbformat": 4,
  "language_info": {
   "name": "python",
   "version": "3.10.0"
  },
  "kernelspec": {
   "name": "python3",
   "display_name": "Python 3.10.0 64-bit"
  },
  "interpreter": {
   "hash": "aee8b7b246df8f9039afb4144a1f6fd8d2ca17a180786b69acc140d282b71a49"
  }
 },
 "nbformat": 4,
 "nbformat_minor": 2
}