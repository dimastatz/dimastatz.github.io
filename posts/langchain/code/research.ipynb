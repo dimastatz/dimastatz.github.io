{
 "cells": [
  {
   "cell_type": "markdown",
   "metadata": {},
   "source": [
    "# Virtual Softare Architect (Visar) \n",
    "\n",
    "\n",
    "## Background\n",
    "Virtual Softwate Architect is a Virtual Assistant that is built on top of general puspose LLM that are fine-tuned for a Software Architecture knowledge.  The idea is to build a language model-based system that accesses external knowledge sources to complete tasks. This enables more factual consistency, improves reliability of the generated responses, and helps to mitigate the problem of \"hallucination\" \n",
    "\n",
    "\n",
    "## Step 1 - Build Q&A Part\n",
    "We are starting by building Q&A part, simly speaking we are building prompts and sending requestes to ChatGPT"
   ]
  }
 ],
 "metadata": {
  "kernelspec": {
   "display_name": "Python 3",
   "language": "python",
   "name": "python3"
  },
  "language_info": {
   "name": "python",
   "version": "3.10.8"
  },
  "orig_nbformat": 4
 },
 "nbformat": 4,
 "nbformat_minor": 2
}
